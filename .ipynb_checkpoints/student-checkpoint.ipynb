{
 "cells": [
  {
   "cell_type": "markdown",
   "metadata": {},
   "source": [
    "# Final Project Submission\n",
    "\n",
    "Please fill out:\n",
    "* Student name: \n",
    "* Student pace: self paced / part time / full time\n",
    "* Scheduled project review date/time: \n",
    "* Instructor name: \n",
    "* Blog post URL:\n"
   ]
  },
  {
   "cell_type": "markdown",
   "metadata": {},
   "source": [
    "# Data Analysis and Modeling\n",
    "OSEMN Framework\n",
    "\n",
    "* Obtain\n",
    "* Scrub\n",
    "* Explore\n",
    "* Model\n",
    "* INterpret"
   ]
  },
  {
   "cell_type": "code",
   "execution_count": null,
   "metadata": {
    "ExecuteTime": {
     "end_time": "2020-09-15T22:56:36.843034Z",
     "start_time": "2020-09-15T22:56:36.132999Z"
    }
   },
   "outputs": [],
   "source": [
    "import pandas as pd\n",
    "import numpy as np\n",
    "import seaborn as sns\n",
    "import matplotlib as mlp\n",
    "import matplotlib.pyplot as plt\n",
    "%matplotlib inline \n",
    "from IPython.display import Image\n",
    "import os\n",
    "import sklearn\n",
    "pd.set_option('display.max_columns', 50)"
   ]
  },
  {
   "cell_type": "code",
   "execution_count": null,
   "metadata": {
    "ExecuteTime": {
     "end_time": "2020-09-15T23:03:18.304813Z",
     "start_time": "2020-09-15T23:03:18.298711Z"
    }
   },
   "outputs": [],
   "source": [
    "# Modeling & Evaluation Packages\n",
    "from statsmodels.formula.api import ols\n",
    "import statsmodels.api as sm\n",
    "from statsmodels.stats.outliers_influence import variance_inflation_factor\n",
    "from sklearn.preprocessing import Imputer, PolynomialFeatures, StandardScaler\n",
    "from sklearn.feature_selection import VarianceThreshold, SelectFromModel\n",
    "from sklearn.model_selection import StratifiedKFold, KFold, cross_val_score, GridSearchCV, learning_curve, train_test_split\n",
    "from sklearn.metrics import classification_report, confusion_matrix\n",
    "\n",
    "from sklearn.linear_model import LogisticRegression\n",
    "from sklearn.ensemble import RandomForestClassifier\n",
    "from xgboost import XGBClassifier\n",
    "import gc\n",
    "import re"
   ]
  },
  {
   "cell_type": "markdown",
   "metadata": {},
   "source": [
    "# Obtain"
   ]
  },
  {
   "cell_type": "markdown",
   "metadata": {},
   "source": [
    "## Data Frame"
   ]
  },
  {
   "cell_type": "code",
   "execution_count": null,
   "metadata": {
    "ExecuteTime": {
     "end_time": "2020-09-15T22:56:37.025303Z",
     "start_time": "2020-09-15T22:56:37.011361Z"
    }
   },
   "outputs": [],
   "source": [
    "df = pd.read_csv('dataset.csv')"
   ]
  },
  {
   "cell_type": "code",
   "execution_count": null,
   "metadata": {
    "ExecuteTime": {
     "end_time": "2020-09-15T22:56:37.038216Z",
     "start_time": "2020-09-15T22:56:37.027383Z"
    }
   },
   "outputs": [],
   "source": [
    "df.info()"
   ]
  },
  {
   "cell_type": "code",
   "execution_count": null,
   "metadata": {
    "ExecuteTime": {
     "end_time": "2020-09-15T22:56:37.088069Z",
     "start_time": "2020-09-15T22:56:37.039589Z"
    }
   },
   "outputs": [],
   "source": [
    "df.describe()"
   ]
  },
  {
   "cell_type": "code",
   "execution_count": null,
   "metadata": {
    "ExecuteTime": {
     "end_time": "2020-09-15T22:56:37.091885Z",
     "start_time": "2020-09-15T22:56:37.089797Z"
    }
   },
   "outputs": [],
   "source": [
    "# for col in df.columns: # preliminary view of value counts per column\n",
    "#     try:\n",
    "#         print(col, df[col].value_counts()[:10])\n",
    "#     except:\n",
    "#         print(col, df[col].value_counts())\n",
    "#         # If there aren't 5+ unique values for a column the first print statement\n",
    "#         # will throw an error for an invalid idx slice\n",
    "#     print('\\n') # Break up the output between columns"
   ]
  },
  {
   "cell_type": "markdown",
   "metadata": {},
   "source": [
    "# Scrub"
   ]
  },
  {
   "cell_type": "markdown",
   "metadata": {},
   "source": [
    "## Multicollinearity"
   ]
  },
  {
   "cell_type": "code",
   "execution_count": null,
   "metadata": {
    "ExecuteTime": {
     "end_time": "2020-09-15T22:56:38.338014Z",
     "start_time": "2020-09-15T22:56:37.093612Z"
    },
    "scrolled": true
   },
   "outputs": [],
   "source": [
    "corr = df.corr() # analyzing correlation\n",
    "# corr\n",
    "fig, ax = plt.subplots(figsize=(18,26))\n",
    "mask = np.triu(np.ones_like(corr, dtype=np.bool))\n",
    "sns.heatmap(corr, mask=mask, square=True, annot=True, cmap=\"YlGnBu\")\n",
    "#xticklabels=labels, yticklabels=labels)\n",
    "#plt.xticks(rotation=-45, fontsize=16)\n",
    "ax.patch.set_edgecolor('black')  \n",
    "ax.patch.set_linewidth('1')\n",
    "ax.set_title(\"Correlation & Heat Map\", fontsize=15, fontfamily=\"serif\")\n",
    "plt.show()"
   ]
  },
  {
   "cell_type": "markdown",
   "metadata": {},
   "source": [
    "## Casting Datatypes "
   ]
  },
  {
   "cell_type": "code",
   "execution_count": null,
   "metadata": {
    "ExecuteTime": {
     "end_time": "2020-09-15T22:56:38.347363Z",
     "start_time": "2020-09-15T22:56:38.342825Z"
    }
   },
   "outputs": [],
   "source": [
    "numfeats = df.select_dtypes('number').columns # selecting the numerical columns for observation\n",
    "numfeats"
   ]
  },
  {
   "cell_type": "code",
   "execution_count": null,
   "metadata": {
    "ExecuteTime": {
     "end_time": "2020-09-15T22:56:38.351361Z",
     "start_time": "2020-09-15T22:56:38.349534Z"
    },
    "scrolled": false
   },
   "outputs": [],
   "source": [
    "# model_cols = ['account length', 'area code', 'number vmail messages',\n",
    "#        'total day minutes', 'total day calls', 'total day charge',\n",
    "#        'total eve minutes', 'total eve calls', 'total eve charge',\n",
    "#        'total night minutes', 'total night calls', 'total night charge',\n",
    "#        'total intl minutes', 'total intl calls', 'total intl charge',\n",
    "#        'customer service calls'] # Checking distributions\n",
    "\n",
    "# for column in model_cols:\n",
    "#     df[column].plot.hist(density=True) # Creating a Histogram\n",
    "#     df[column].plot.kde(label=column) # Creating a KDE plot\n",
    "#     plt.legend() # Create Legends\n",
    "#     plt.show()"
   ]
  },
  {
   "cell_type": "code",
   "execution_count": null,
   "metadata": {
    "ExecuteTime": {
     "end_time": "2020-09-15T22:56:38.359474Z",
     "start_time": "2020-09-15T22:56:38.352673Z"
    }
   },
   "outputs": [],
   "source": [
    "# ID column is phone number\n",
    "catfeats = ['state', 'area code', 'international plan', 'voice mail plan', 'churn'] # recast categorical\n",
    "for col in catfeats:\n",
    "    df[col] = df[col].astype('category')"
   ]
  },
  {
   "cell_type": "code",
   "execution_count": null,
   "metadata": {
    "ExecuteTime": {
     "end_time": "2020-09-15T22:56:38.371516Z",
     "start_time": "2020-09-15T22:56:38.360771Z"
    }
   },
   "outputs": [],
   "source": [
    "df.info()"
   ]
  },
  {
   "cell_type": "markdown",
   "metadata": {},
   "source": [
    "## Outliers"
   ]
  },
  {
   "cell_type": "code",
   "execution_count": null,
   "metadata": {
    "ExecuteTime": {
     "end_time": "2020-09-15T22:56:38.416432Z",
     "start_time": "2020-09-15T22:56:38.372956Z"
    }
   },
   "outputs": [],
   "source": [
    "df.describe() # addressing outliers on account length"
   ]
  },
  {
   "cell_type": "code",
   "execution_count": null,
   "metadata": {
    "ExecuteTime": {
     "end_time": "2020-09-15T22:56:38.421537Z",
     "start_time": "2020-09-15T22:56:38.418194Z"
    }
   },
   "outputs": [],
   "source": [
    "# IQR Outlier Removal Function\n",
    "def iqr_outlier_rem(df, col_name):\n",
    "    start_len = len(df)\n",
    "    Q1 = df[col_name].quantile(0.25)\n",
    "    Q3 = df[col_name].quantile(0.75)\n",
    "    IQR = Q3-Q1 # Finding interquartile range\n",
    "    lower_threshold  = Q1-1.5*IQR\n",
    "    upper_threshold = Q3+1.5*IQR\n",
    "    new_df = df.loc[(df[col_name] > lower_threshold) & (df[col_name] < upper_threshold)]\n",
    "    print(f'There were {start_len - len(new_df)} outliers removed from {col_name}')\n",
    "    return new_df"
   ]
  },
  {
   "cell_type": "code",
   "execution_count": null,
   "metadata": {
    "ExecuteTime": {
     "end_time": "2020-09-15T22:56:38.429408Z",
     "start_time": "2020-09-15T22:56:38.423087Z"
    }
   },
   "outputs": [],
   "source": [
    "df = iqr_outlier_rem(df, 'account length')"
   ]
  },
  {
   "cell_type": "markdown",
   "metadata": {},
   "source": [
    "# Explore - EDA"
   ]
  },
  {
   "cell_type": "code",
   "execution_count": null,
   "metadata": {
    "ExecuteTime": {
     "end_time": "2020-09-15T22:56:38.432726Z",
     "start_time": "2020-09-15T22:56:38.430603Z"
    }
   },
   "outputs": [],
   "source": [
    "# plt.figure(figsize=(16,8))\n",
    "# plt.subplot(221)\n",
    "# sns.scatterplot(df['total day minutes'], df['total day charge'])\n",
    "# plt.title('Total Day Minutes X Day Charge')\n",
    "\n",
    "# plt.subplot(222)\n",
    "# sns.scatterplot(df['total eve minutes'], df['total eve charge'])\n",
    "# plt.title('Total eve Minutes X Eve Charge')\n",
    "\n",
    "# plt.subplot(223)\n",
    "# sns.scatterplot(df['total night minutes'], df['total night charge'])\n",
    "# plt.title('Total Night Minutes X Night Charge')\n",
    "\n",
    "# plt.subplot(224)\n",
    "# sns.scatterplot(df['total intl minutes'], df['total intl charge'])\n",
    "# plt.title('Total Intl Minutes X Intl Charge')\n",
    "\n",
    "# # #plt.title('Sqft_living15 and Price')\n",
    "\n",
    "# plt.subplots_adjust(hspace=0.35)\n",
    "# plt.show()"
   ]
  },
  {
   "cell_type": "code",
   "execution_count": null,
   "metadata": {
    "ExecuteTime": {
     "end_time": "2020-09-15T22:56:38.449284Z",
     "start_time": "2020-09-15T22:56:38.433899Z"
    }
   },
   "outputs": [],
   "source": [
    "df.head()"
   ]
  },
  {
   "cell_type": "code",
   "execution_count": null,
   "metadata": {
    "ExecuteTime": {
     "end_time": "2020-09-15T22:56:38.559552Z",
     "start_time": "2020-09-15T22:56:38.450814Z"
    }
   },
   "outputs": [],
   "source": [
    "ax=sns.countplot(x=\"churn\",data=df)\n",
    "for p in ax.patches:\n",
    "        ax.annotate('{:.2f}%'.format((p.get_height()/df.shape[0])*100), (p.get_x()+0.3, p.get_height()))"
   ]
  },
  {
   "cell_type": "code",
   "execution_count": null,
   "metadata": {
    "ExecuteTime": {
     "end_time": "2020-09-15T22:56:38.752183Z",
     "start_time": "2020-09-15T22:56:38.561352Z"
    }
   },
   "outputs": [],
   "source": [
    "ac = df.groupby([\"area code\", \"churn\"]).size().unstack().plot(kind='bar', stacked=False,figsize=(6,5))\n",
    "for i in ac.patches:\n",
    "    #ac.annotate('{:.2f}%'.format((p.get_height()/df.shape[0])*100), (p.get_x()+0.3, p.get_height()))\n",
    "    ac.text(i.get_x()+0.05, i.get_height()+20,str(i.get_height()))"
   ]
  },
  {
   "cell_type": "code",
   "execution_count": null,
   "metadata": {
    "ExecuteTime": {
     "end_time": "2020-09-15T22:56:39.868489Z",
     "start_time": "2020-09-15T22:56:38.753981Z"
    },
    "scrolled": true
   },
   "outputs": [],
   "source": [
    "df.groupby([\"state\", \"churn\"]).size().unstack().plot(kind='bar', stacked=True, figsize=(30,10)); # churn by statea"
   ]
  },
  {
   "cell_type": "code",
   "execution_count": null,
   "metadata": {
    "ExecuteTime": {
     "end_time": "2020-09-15T22:56:40.031683Z",
     "start_time": "2020-09-15T22:56:39.870326Z"
    }
   },
   "outputs": [],
   "source": [
    "df.groupby([\"area code\", \"churn\"]).size().unstack().plot(kind='bar', stacked=True, figsize=(5,5)); # churn by area code"
   ]
  },
  {
   "cell_type": "code",
   "execution_count": null,
   "metadata": {
    "ExecuteTime": {
     "end_time": "2020-09-15T22:56:40.306898Z",
     "start_time": "2020-09-15T22:56:40.033371Z"
    }
   },
   "outputs": [],
   "source": [
    "cs = df.groupby([\"customer service calls\", \"churn\"]).size().unstack().plot(kind='bar', stacked=False,figsize=(12,6))\n",
    "for i in cs.patches:\n",
    "    cs.text(i.get_x()+0.05, i.get_height()+20,int(i.get_height()))"
   ]
  },
  {
   "cell_type": "code",
   "execution_count": null,
   "metadata": {
    "ExecuteTime": {
     "end_time": "2020-09-15T22:56:40.462764Z",
     "start_time": "2020-09-15T22:56:40.308776Z"
    }
   },
   "outputs": [],
   "source": [
    "ip=df.groupby([\"international plan\", \"churn\"]).size().unstack().plot(kind='bar', stacked=False,figsize=(6,5))\n",
    "for i in ip.patches:\n",
    "    ip.text(i.get_x()+0.05, i.get_height()+20,str(i.get_height()))"
   ]
  },
  {
   "cell_type": "code",
   "execution_count": null,
   "metadata": {
    "ExecuteTime": {
     "end_time": "2020-09-15T22:56:40.469053Z",
     "start_time": "2020-09-15T22:56:40.467337Z"
    }
   },
   "outputs": [],
   "source": [
    "# df['phone_number'].value_counts() # no duplicates"
   ]
  },
  {
   "cell_type": "code",
   "execution_count": null,
   "metadata": {
    "ExecuteTime": {
     "end_time": "2020-09-15T22:56:40.482794Z",
     "start_time": "2020-09-15T22:56:40.471413Z"
    }
   },
   "outputs": [],
   "source": [
    "df.info()"
   ]
  },
  {
   "cell_type": "code",
   "execution_count": null,
   "metadata": {
    "ExecuteTime": {
     "end_time": "2020-09-15T22:56:40.486056Z",
     "start_time": "2020-09-15T22:56:40.484177Z"
    }
   },
   "outputs": [],
   "source": [
    "# dup = df[df.id.duplicated(keep=False)]\n",
    "# print('Renovated vs. Non-renovated homes Resold (2014-2015)')\n",
    "# print(dup['yr_renovated'].value_counts())\n",
    "# dup['yr_renovated'].hist(figsize = (10,10), color = \"green\"); #let's make a histogram to compare\n",
    "# plt.title('Renovated vs. Non-renovated homes Resold (2014-2015)', fontdict={'fontsize': 16});"
   ]
  },
  {
   "cell_type": "markdown",
   "metadata": {},
   "source": [
    "## Dropping Features"
   ]
  },
  {
   "cell_type": "code",
   "execution_count": null,
   "metadata": {
    "ExecuteTime": {
     "end_time": "2020-09-15T22:56:40.489965Z",
     "start_time": "2020-09-15T22:56:40.487377Z"
    }
   },
   "outputs": [],
   "source": [
    "df_fresh = df.copy()"
   ]
  },
  {
   "cell_type": "code",
   "execution_count": null,
   "metadata": {
    "ExecuteTime": {
     "end_time": "2020-09-15T22:56:40.492974Z",
     "start_time": "2020-09-15T22:56:40.491283Z"
    }
   },
   "outputs": [],
   "source": [
    "# dup = df[[df['phone_number'].duplicated(keep=False)]]\n",
    "# dup.head()\n",
    "# #dup['phone_number'].value_counts()"
   ]
  },
  {
   "cell_type": "code",
   "execution_count": null,
   "metadata": {
    "ExecuteTime": {
     "end_time": "2020-09-15T22:56:40.497777Z",
     "start_time": "2020-09-15T22:56:40.494600Z"
    }
   },
   "outputs": [],
   "source": [
    "df = df.drop(['phone number', 'total day minutes', 'total eve minutes', 'total night minutes', 'total intl minutes'], axis=1)"
   ]
  },
  {
   "cell_type": "code",
   "execution_count": null,
   "metadata": {
    "ExecuteTime": {
     "end_time": "2020-09-15T22:56:51.707238Z",
     "start_time": "2020-09-15T22:56:51.690055Z"
    }
   },
   "outputs": [],
   "source": [
    "df.info()"
   ]
  },
  {
   "cell_type": "code",
   "execution_count": null,
   "metadata": {
    "ExecuteTime": {
     "end_time": "2020-09-15T22:56:40.526852Z",
     "start_time": "2020-09-15T22:56:40.511459Z"
    }
   },
   "outputs": [],
   "source": [
    "# One Hot Encode\n",
    "df = pd.get_dummies(df, drop_first=True)"
   ]
  },
  {
   "cell_type": "code",
   "execution_count": null,
   "metadata": {
    "ExecuteTime": {
     "end_time": "2020-09-15T22:56:40.531889Z",
     "start_time": "2020-09-15T22:56:40.528417Z"
    }
   },
   "outputs": [],
   "source": [
    "# cleaning column names\n",
    "subs = [(' ', '_'),('.0',''),('.','')]\n",
    "\n",
    "def col_formatting(col):\n",
    "    for old, new in subs:\n",
    "        col = col.replace(old,new)\n",
    "    return col\n",
    "\n",
    "df.columns = [col_formatting(col) for col in df.columns]"
   ]
  },
  {
   "cell_type": "code",
   "execution_count": null,
   "metadata": {
    "ExecuteTime": {
     "end_time": "2020-09-15T22:57:27.342724Z",
     "start_time": "2020-09-15T22:57:27.329602Z"
    }
   },
   "outputs": [],
   "source": [
    "df.info()"
   ]
  },
  {
   "cell_type": "code",
   "execution_count": null,
   "metadata": {
    "ExecuteTime": {
     "end_time": "2020-09-15T22:57:33.140966Z",
     "start_time": "2020-09-15T22:57:33.134509Z"
    }
   },
   "outputs": [],
   "source": [
    "# Defining Variables\n",
    "outcome = 'churn_True'\n",
    "x_cols = list(df.columns)\n",
    "x_cols.remove(outcome)\n",
    "# Test Train Split\n",
    "train, test = train_test_split(df)\n",
    "print(len(train), len(test))"
   ]
  },
  {
   "cell_type": "code",
   "execution_count": null,
   "metadata": {
    "ExecuteTime": {
     "end_time": "2020-09-15T22:57:35.009159Z",
     "start_time": "2020-09-15T22:57:34.855805Z"
    }
   },
   "outputs": [],
   "source": [
    "# Fitting the model\n",
    "predictors = '+'.join(x_cols)\n",
    "formula = outcome + '~' + predictors\n",
    "model = ols(formula=formula, data=train).fit()\n",
    "model.summary()"
   ]
  },
  {
   "cell_type": "code",
   "execution_count": null,
   "metadata": {
    "ExecuteTime": {
     "end_time": "2020-09-15T23:00:40.883171Z",
     "start_time": "2020-09-15T23:00:40.876153Z"
    }
   },
   "outputs": [],
   "source": [
    "# Function to create two plots - normality / homoscedasticity\n",
    "def model_visual(residuals):\n",
    "# QQ Plot\n",
    "    '''Checking residuals for normality'''\n",
    "    fig, axes = plt.subplots(ncols=2, figsize=(20, 5))\n",
    "    sm.graphics.qqplot(model.resid, fit=True, line='45', ax=axes[0])\n",
    "    axes[0].set_title('QQ Plot Normality Check', fontsize=20)\n",
    "    axes[0].set_xlabel('Theoretical Quantiles', fontsize=15)\n",
    "    axes[0].set_ylabel('Sample Quantiles', fontsize=14)\n",
    "# Homoscedasticity\n",
    "    '''Checking Homoscedasticity assumption'''\n",
    "    ax=axes[1]\n",
    "    ax.scatter(train['churn_True'], model.resid)\n",
    "    ax.axhline(0, color='red')\n",
    "    axes[1].set_title('Homoscedasticity Check', fontsize=20)\n",
    "    axes[1].set_xlabel('Price', fontsize=15)\n",
    "    axes[1].set_ylabel('Model Residuals', fontsize=14)\n",
    "    plt.show();\n",
    "    return model_visual"
   ]
  },
  {
   "cell_type": "code",
   "execution_count": null,
   "metadata": {
    "ExecuteTime": {
     "end_time": "2020-09-15T23:01:09.589040Z",
     "start_time": "2020-09-15T23:01:09.586580Z"
    }
   },
   "outputs": [],
   "source": [
    "# model_visual(model.resid)"
   ]
  },
  {
   "cell_type": "code",
   "execution_count": null,
   "metadata": {
    "ExecuteTime": {
     "end_time": "2020-09-15T23:03:24.542902Z",
     "start_time": "2020-09-15T23:03:24.160632Z"
    }
   },
   "outputs": [],
   "source": [
    "# VIF Scores\n",
    "x = df.drop('churn_True', axis = 1)\n",
    "x = sm.add_constant(x)\n",
    "vif = [variance_inflation_factor(x.values,i) for i in range(x.shape[1])]\n",
    "vif_results = pd.Series(dict(zip(x.columns, vif)))\n",
    "\n",
    "# Identifying VIF\n",
    "threshold = 6\n",
    "rem_vif = list(vif_results[vif_results > threshold].index)\n",
    "if 'const' in rem_vif:\n",
    "    rem_vif.remove('const')\n",
    "rem_vif"
   ]
  },
  {
   "cell_type": "code",
   "execution_count": null,
   "metadata": {
    "ExecuteTime": {
     "end_time": "2020-09-15T23:03:46.774899Z",
     "start_time": "2020-09-15T23:03:46.771237Z"
    }
   },
   "outputs": [],
   "source": [
    "df = df.drop(['number_vmail_messages', 'voice_mail_plan_yes'], axis=1)"
   ]
  },
  {
   "cell_type": "code",
   "execution_count": null,
   "metadata": {
    "ExecuteTime": {
     "end_time": "2020-09-15T23:04:52.343384Z",
     "start_time": "2020-09-15T23:04:52.340685Z"
    }
   },
   "outputs": [],
   "source": [
    "# # Defining Variables\n",
    "# outcome = 'churn_True'\n",
    "# x_cols = list(df.columns)\n",
    "# x_cols.remove(outcome)\n",
    "# # Test Train Split\n",
    "# train, test = train_test_split(df)\n",
    "# print(len(train), len(test))\n",
    "\n",
    "# # Fitting the model\n",
    "# predictors = '+'.join(x_cols)\n",
    "# formula = outcome + '~' + predictors\n",
    "# model = ols(formula=formula, data=train).fit()\n",
    "# model.summary()"
   ]
  },
  {
   "cell_type": "code",
   "execution_count": null,
   "metadata": {},
   "outputs": [],
   "source": []
  }
 ],
 "metadata": {
  "kernelspec": {
   "display_name": "Python 3",
   "language": "python",
   "name": "python3"
  },
  "language_info": {
   "codemirror_mode": {
    "name": "ipython",
    "version": 3
   },
   "file_extension": ".py",
   "mimetype": "text/x-python",
   "name": "python",
   "nbconvert_exporter": "python",
   "pygments_lexer": "ipython3",
   "version": "3.6.9"
  },
  "toc": {
   "base_numbering": 1,
   "nav_menu": {},
   "number_sections": true,
   "sideBar": true,
   "skip_h1_title": false,
   "title_cell": "Table of Contents",
   "title_sidebar": "Contents",
   "toc_cell": false,
   "toc_position": {},
   "toc_section_display": true,
   "toc_window_display": true
  }
 },
 "nbformat": 4,
 "nbformat_minor": 2
}
