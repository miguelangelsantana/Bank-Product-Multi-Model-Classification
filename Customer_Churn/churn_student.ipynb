{
 "cells": [
  {
   "cell_type": "markdown",
   "metadata": {},
   "source": [
    "# Final Project Submission\n",
    "\n",
    "Please fill out:\n",
    "* Student name: Miguel Santana\n",
    "* Student pace: Full Time\n",
    "* Scheduled project review date/time: TBA\n",
    "* Instructor name: James Irving\n",
    "* Blog post URL: TBA"
   ]
  },
  {
   "cell_type": "markdown",
   "metadata": {},
   "source": [
    "# Data Analysis and Modeling\n",
    "OSEMN Framework\n",
    "\n",
    "* Obtain\n",
    "* Scrub\n",
    "* Explore\n",
    "* Model\n",
    "* INterpret"
   ]
  },
  {
   "cell_type": "code",
   "execution_count": 1,
   "metadata": {
    "ExecuteTime": {
     "end_time": "2020-09-25T22:52:17.903377Z",
     "start_time": "2020-09-25T22:52:17.213695Z"
    }
   },
   "outputs": [
    {
     "name": "stderr",
     "output_type": "stream",
     "text": [
      "/Users/miguelsantana/opt/anaconda3/envs/learn-env/lib/python3.6/site-packages/statsmodels/tools/_testing.py:19: FutureWarning: pandas.util.testing is deprecated. Use the functions in the public API at pandas.testing instead.\n",
      "  import pandas.util.testing as tm\n"
     ]
    }
   ],
   "source": [
    "import pandas as pd\n",
    "import numpy as np\n",
    "import seaborn as sns\n",
    "import matplotlib as mlp\n",
    "import matplotlib.pyplot as plt\n",
    "%matplotlib inline \n",
    "from IPython.display import Image\n",
    "import os\n",
    "pd.set_option('display.max_columns', 50)"
   ]
  },
  {
   "cell_type": "markdown",
   "metadata": {},
   "source": [
    "# Obtain"
   ]
  },
  {
   "cell_type": "markdown",
   "metadata": {},
   "source": [
    "## Data Frame"
   ]
  },
  {
   "cell_type": "code",
   "execution_count": 2,
   "metadata": {
    "ExecuteTime": {
     "end_time": "2020-09-25T22:52:17.919349Z",
     "start_time": "2020-09-25T22:52:17.905202Z"
    }
   },
   "outputs": [],
   "source": [
    "df = pd.read_csv('churn_dataset.csv')"
   ]
  },
  {
   "cell_type": "code",
   "execution_count": 3,
   "metadata": {
    "ExecuteTime": {
     "end_time": "2020-09-25T22:52:17.941304Z",
     "start_time": "2020-09-25T22:52:17.921472Z"
    },
    "scrolled": true
   },
   "outputs": [
    {
     "data": {
      "text/html": [
       "<div>\n",
       "<style scoped>\n",
       "    .dataframe tbody tr th:only-of-type {\n",
       "        vertical-align: middle;\n",
       "    }\n",
       "\n",
       "    .dataframe tbody tr th {\n",
       "        vertical-align: top;\n",
       "    }\n",
       "\n",
       "    .dataframe thead th {\n",
       "        text-align: right;\n",
       "    }\n",
       "</style>\n",
       "<table border=\"1\" class=\"dataframe\">\n",
       "  <thead>\n",
       "    <tr style=\"text-align: right;\">\n",
       "      <th></th>\n",
       "      <th>state</th>\n",
       "      <th>account length</th>\n",
       "      <th>area code</th>\n",
       "      <th>phone number</th>\n",
       "      <th>international plan</th>\n",
       "      <th>voice mail plan</th>\n",
       "      <th>number vmail messages</th>\n",
       "      <th>total day minutes</th>\n",
       "      <th>total day calls</th>\n",
       "      <th>total day charge</th>\n",
       "      <th>total eve minutes</th>\n",
       "      <th>total eve calls</th>\n",
       "      <th>total eve charge</th>\n",
       "      <th>total night minutes</th>\n",
       "      <th>total night calls</th>\n",
       "      <th>total night charge</th>\n",
       "      <th>total intl minutes</th>\n",
       "      <th>total intl calls</th>\n",
       "      <th>total intl charge</th>\n",
       "      <th>customer service calls</th>\n",
       "      <th>churn</th>\n",
       "    </tr>\n",
       "  </thead>\n",
       "  <tbody>\n",
       "    <tr>\n",
       "      <th>0</th>\n",
       "      <td>KS</td>\n",
       "      <td>128</td>\n",
       "      <td>415</td>\n",
       "      <td>382-4657</td>\n",
       "      <td>no</td>\n",
       "      <td>yes</td>\n",
       "      <td>25</td>\n",
       "      <td>265.1</td>\n",
       "      <td>110</td>\n",
       "      <td>45.07</td>\n",
       "      <td>197.4</td>\n",
       "      <td>99</td>\n",
       "      <td>16.78</td>\n",
       "      <td>244.7</td>\n",
       "      <td>91</td>\n",
       "      <td>11.01</td>\n",
       "      <td>10.0</td>\n",
       "      <td>3</td>\n",
       "      <td>2.70</td>\n",
       "      <td>1</td>\n",
       "      <td>False</td>\n",
       "    </tr>\n",
       "    <tr>\n",
       "      <th>1</th>\n",
       "      <td>OH</td>\n",
       "      <td>107</td>\n",
       "      <td>415</td>\n",
       "      <td>371-7191</td>\n",
       "      <td>no</td>\n",
       "      <td>yes</td>\n",
       "      <td>26</td>\n",
       "      <td>161.6</td>\n",
       "      <td>123</td>\n",
       "      <td>27.47</td>\n",
       "      <td>195.5</td>\n",
       "      <td>103</td>\n",
       "      <td>16.62</td>\n",
       "      <td>254.4</td>\n",
       "      <td>103</td>\n",
       "      <td>11.45</td>\n",
       "      <td>13.7</td>\n",
       "      <td>3</td>\n",
       "      <td>3.70</td>\n",
       "      <td>1</td>\n",
       "      <td>False</td>\n",
       "    </tr>\n",
       "    <tr>\n",
       "      <th>2</th>\n",
       "      <td>NJ</td>\n",
       "      <td>137</td>\n",
       "      <td>415</td>\n",
       "      <td>358-1921</td>\n",
       "      <td>no</td>\n",
       "      <td>no</td>\n",
       "      <td>0</td>\n",
       "      <td>243.4</td>\n",
       "      <td>114</td>\n",
       "      <td>41.38</td>\n",
       "      <td>121.2</td>\n",
       "      <td>110</td>\n",
       "      <td>10.30</td>\n",
       "      <td>162.6</td>\n",
       "      <td>104</td>\n",
       "      <td>7.32</td>\n",
       "      <td>12.2</td>\n",
       "      <td>5</td>\n",
       "      <td>3.29</td>\n",
       "      <td>0</td>\n",
       "      <td>False</td>\n",
       "    </tr>\n",
       "    <tr>\n",
       "      <th>3</th>\n",
       "      <td>OH</td>\n",
       "      <td>84</td>\n",
       "      <td>408</td>\n",
       "      <td>375-9999</td>\n",
       "      <td>yes</td>\n",
       "      <td>no</td>\n",
       "      <td>0</td>\n",
       "      <td>299.4</td>\n",
       "      <td>71</td>\n",
       "      <td>50.90</td>\n",
       "      <td>61.9</td>\n",
       "      <td>88</td>\n",
       "      <td>5.26</td>\n",
       "      <td>196.9</td>\n",
       "      <td>89</td>\n",
       "      <td>8.86</td>\n",
       "      <td>6.6</td>\n",
       "      <td>7</td>\n",
       "      <td>1.78</td>\n",
       "      <td>2</td>\n",
       "      <td>False</td>\n",
       "    </tr>\n",
       "    <tr>\n",
       "      <th>4</th>\n",
       "      <td>OK</td>\n",
       "      <td>75</td>\n",
       "      <td>415</td>\n",
       "      <td>330-6626</td>\n",
       "      <td>yes</td>\n",
       "      <td>no</td>\n",
       "      <td>0</td>\n",
       "      <td>166.7</td>\n",
       "      <td>113</td>\n",
       "      <td>28.34</td>\n",
       "      <td>148.3</td>\n",
       "      <td>122</td>\n",
       "      <td>12.61</td>\n",
       "      <td>186.9</td>\n",
       "      <td>121</td>\n",
       "      <td>8.41</td>\n",
       "      <td>10.1</td>\n",
       "      <td>3</td>\n",
       "      <td>2.73</td>\n",
       "      <td>3</td>\n",
       "      <td>False</td>\n",
       "    </tr>\n",
       "  </tbody>\n",
       "</table>\n",
       "</div>"
      ],
      "text/plain": [
       "  state  account length  area code phone number international plan  \\\n",
       "0    KS             128        415     382-4657                 no   \n",
       "1    OH             107        415     371-7191                 no   \n",
       "2    NJ             137        415     358-1921                 no   \n",
       "3    OH              84        408     375-9999                yes   \n",
       "4    OK              75        415     330-6626                yes   \n",
       "\n",
       "  voice mail plan  number vmail messages  total day minutes  total day calls  \\\n",
       "0             yes                     25              265.1              110   \n",
       "1             yes                     26              161.6              123   \n",
       "2              no                      0              243.4              114   \n",
       "3              no                      0              299.4               71   \n",
       "4              no                      0              166.7              113   \n",
       "\n",
       "   total day charge  total eve minutes  total eve calls  total eve charge  \\\n",
       "0             45.07              197.4               99             16.78   \n",
       "1             27.47              195.5              103             16.62   \n",
       "2             41.38              121.2              110             10.30   \n",
       "3             50.90               61.9               88              5.26   \n",
       "4             28.34              148.3              122             12.61   \n",
       "\n",
       "   total night minutes  total night calls  total night charge  \\\n",
       "0                244.7                 91               11.01   \n",
       "1                254.4                103               11.45   \n",
       "2                162.6                104                7.32   \n",
       "3                196.9                 89                8.86   \n",
       "4                186.9                121                8.41   \n",
       "\n",
       "   total intl minutes  total intl calls  total intl charge  \\\n",
       "0                10.0                 3               2.70   \n",
       "1                13.7                 3               3.70   \n",
       "2                12.2                 5               3.29   \n",
       "3                 6.6                 7               1.78   \n",
       "4                10.1                 3               2.73   \n",
       "\n",
       "   customer service calls  churn  \n",
       "0                       1  False  \n",
       "1                       1  False  \n",
       "2                       0  False  \n",
       "3                       2  False  \n",
       "4                       3  False  "
      ]
     },
     "execution_count": 3,
     "metadata": {},
     "output_type": "execute_result"
    }
   ],
   "source": [
    "df.head()"
   ]
  },
  {
   "cell_type": "markdown",
   "metadata": {},
   "source": [
    "# Scrub"
   ]
  },
  {
   "cell_type": "markdown",
   "metadata": {},
   "source": [
    "## Datatypes"
   ]
  },
  {
   "cell_type": "code",
   "execution_count": 4,
   "metadata": {
    "ExecuteTime": {
     "end_time": "2020-09-25T22:52:17.953791Z",
     "start_time": "2020-09-25T22:52:17.943258Z"
    },
    "scrolled": true
   },
   "outputs": [
    {
     "name": "stdout",
     "output_type": "stream",
     "text": [
      "<class 'pandas.core.frame.DataFrame'>\n",
      "RangeIndex: 3333 entries, 0 to 3332\n",
      "Data columns (total 21 columns):\n",
      " #   Column                  Non-Null Count  Dtype  \n",
      "---  ------                  --------------  -----  \n",
      " 0   state                   3333 non-null   object \n",
      " 1   account length          3333 non-null   int64  \n",
      " 2   area code               3333 non-null   int64  \n",
      " 3   phone number            3333 non-null   object \n",
      " 4   international plan      3333 non-null   object \n",
      " 5   voice mail plan         3333 non-null   object \n",
      " 6   number vmail messages   3333 non-null   int64  \n",
      " 7   total day minutes       3333 non-null   float64\n",
      " 8   total day calls         3333 non-null   int64  \n",
      " 9   total day charge        3333 non-null   float64\n",
      " 10  total eve minutes       3333 non-null   float64\n",
      " 11  total eve calls         3333 non-null   int64  \n",
      " 12  total eve charge        3333 non-null   float64\n",
      " 13  total night minutes     3333 non-null   float64\n",
      " 14  total night calls       3333 non-null   int64  \n",
      " 15  total night charge      3333 non-null   float64\n",
      " 16  total intl minutes      3333 non-null   float64\n",
      " 17  total intl calls        3333 non-null   int64  \n",
      " 18  total intl charge       3333 non-null   float64\n",
      " 19  customer service calls  3333 non-null   int64  \n",
      " 20  churn                   3333 non-null   bool   \n",
      "dtypes: bool(1), float64(8), int64(8), object(4)\n",
      "memory usage: 524.2+ KB\n"
     ]
    }
   ],
   "source": [
    "df.info()"
   ]
  },
  {
   "cell_type": "markdown",
   "metadata": {},
   "source": [
    "## Null Data"
   ]
  },
  {
   "cell_type": "code",
   "execution_count": 5,
   "metadata": {
    "ExecuteTime": {
     "end_time": "2020-09-25T22:52:17.960129Z",
     "start_time": "2020-09-25T22:52:17.955469Z"
    }
   },
   "outputs": [
    {
     "data": {
      "text/plain": [
       "False"
      ]
     },
     "execution_count": 5,
     "metadata": {},
     "output_type": "execute_result"
    }
   ],
   "source": [
    "df.isnull().values.any() # Checking for nulls"
   ]
  },
  {
   "cell_type": "markdown",
   "metadata": {},
   "source": [
    "## Duplicates"
   ]
  },
  {
   "cell_type": "code",
   "execution_count": 6,
   "metadata": {
    "ExecuteTime": {
     "end_time": "2020-09-25T22:52:17.964786Z",
     "start_time": "2020-09-25T22:52:17.961455Z"
    }
   },
   "outputs": [
    {
     "data": {
      "text/plain": [
       "False"
      ]
     },
     "execution_count": 6,
     "metadata": {},
     "output_type": "execute_result"
    }
   ],
   "source": [
    "# Checking for duplicated values in the unique \"identifier\" column\n",
    "df['phone number'].duplicated().values.any() "
   ]
  },
  {
   "cell_type": "markdown",
   "metadata": {},
   "source": [
    "## Misentered Data"
   ]
  },
  {
   "cell_type": "code",
   "execution_count": 7,
   "metadata": {
    "ExecuteTime": {
     "end_time": "2020-09-25T22:52:18.005819Z",
     "start_time": "2020-09-25T22:52:17.966114Z"
    }
   },
   "outputs": [
    {
     "name": "stdout",
     "output_type": "stream",
     "text": [
      "state WV    106\n",
      "MN     84\n",
      "NY     83\n",
      "AL     80\n",
      "OH     78\n",
      "OR     78\n",
      "WI     78\n",
      "WY     77\n",
      "VA     77\n",
      "CT     74\n",
      "Name: state, dtype: int64\n",
      "\n",
      "\n",
      "account length 105    43\n",
      "87     42\n",
      "93     40\n",
      "101    40\n",
      "90     39\n",
      "86     38\n",
      "95     38\n",
      "116    37\n",
      "100    37\n",
      "112    36\n",
      "Name: account length, dtype: int64\n",
      "\n",
      "\n",
      "area code 415    1655\n",
      "510     840\n",
      "408     838\n",
      "Name: area code, dtype: int64\n",
      "\n",
      "\n",
      "phone number 348-5569    1\n",
      "332-2889    1\n",
      "331-1391    1\n",
      "358-5721    1\n",
      "348-7409    1\n",
      "419-7415    1\n",
      "391-2334    1\n",
      "411-5334    1\n",
      "344-5973    1\n",
      "360-3126    1\n",
      "Name: phone number, dtype: int64\n",
      "\n",
      "\n",
      "international plan no     3010\n",
      "yes     323\n",
      "Name: international plan, dtype: int64\n",
      "\n",
      "\n",
      "voice mail plan no     2411\n",
      "yes     922\n",
      "Name: voice mail plan, dtype: int64\n",
      "\n",
      "\n",
      "number vmail messages 0     2411\n",
      "31      60\n",
      "29      53\n",
      "28      51\n",
      "33      46\n",
      "27      44\n",
      "30      44\n",
      "24      42\n",
      "26      41\n",
      "32      41\n",
      "Name: number vmail messages, dtype: int64\n",
      "\n",
      "\n",
      "total day minutes 174.5    8\n",
      "159.5    8\n",
      "154.0    8\n",
      "175.4    7\n",
      "162.3    7\n",
      "        ..\n",
      "199.9    1\n",
      "105.8    1\n",
      "125.6    1\n",
      "179.8    1\n",
      "270.8    1\n",
      "Name: total day minutes, Length: 1667, dtype: int64\n",
      "\n",
      "\n",
      "total day calls 102    78\n",
      "105    75\n",
      "107    69\n",
      "95     69\n",
      "104    68\n",
      "108    67\n",
      "97     67\n",
      "110    66\n",
      "106    66\n",
      "88     66\n",
      "Name: total day calls, dtype: int64\n",
      "\n",
      "\n",
      "total day charge 27.12    8\n",
      "26.18    8\n",
      "29.67    8\n",
      "31.18    7\n",
      "27.59    7\n",
      "        ..\n",
      "16.42    1\n",
      "24.07    1\n",
      "12.75    1\n",
      "5.25     1\n",
      "10.00    1\n",
      "Name: total day charge, Length: 1111, dtype: int64\n",
      "\n",
      "\n",
      "total eve minutes 169.9    9\n",
      "230.9    7\n",
      "209.4    7\n",
      "201.0    7\n",
      "220.6    7\n",
      "        ..\n",
      "335.0    1\n",
      "258.9    1\n",
      "134.7    1\n",
      "318.8    1\n",
      "317.2    1\n",
      "Name: total eve minutes, Length: 1611, dtype: int64\n",
      "\n",
      "\n",
      "total eve calls 105    80\n",
      "94     79\n",
      "108    71\n",
      "97     70\n",
      "102    70\n",
      "88     69\n",
      "101    68\n",
      "109    67\n",
      "98     66\n",
      "111    65\n",
      "Name: total eve calls, dtype: int64\n",
      "\n",
      "\n",
      "total eve charge 14.25    11\n",
      "16.12    11\n",
      "15.90    10\n",
      "18.62     9\n",
      "14.44     9\n",
      "         ..\n",
      "13.27     1\n",
      "4.98      1\n",
      "25.49     1\n",
      "12.70     1\n",
      "10.00     1\n",
      "Name: total eve charge, Length: 1011, dtype: int64\n",
      "\n",
      "\n",
      "total night minutes 210.0    8\n",
      "214.6    8\n",
      "197.4    8\n",
      "191.4    8\n",
      "188.2    8\n",
      "        ..\n",
      "132.3    1\n",
      "306.2    1\n",
      "293.5    1\n",
      "271.7    1\n",
      "182.6    1\n",
      "Name: total night minutes, Length: 1591, dtype: int64\n",
      "\n",
      "\n",
      "total night calls 105    84\n",
      "104    78\n",
      "91     76\n",
      "102    72\n",
      "100    69\n",
      "106    69\n",
      "98     67\n",
      "94     66\n",
      "103    65\n",
      "108    64\n",
      "Name: total night calls, dtype: int64\n",
      "\n",
      "\n",
      "total night charge 9.66     15\n",
      "9.45     15\n",
      "8.88     14\n",
      "8.47     14\n",
      "7.69     13\n",
      "         ..\n",
      "8.27      3\n",
      "10.60     3\n",
      "8.00      3\n",
      "9.50      3\n",
      "10.00     3\n",
      "Name: total night charge, Length: 458, dtype: int64\n",
      "\n",
      "\n",
      "total intl minutes 10.0    62\n",
      "Name: total intl minutes, dtype: int64\n",
      "\n",
      "\n",
      "total intl calls 3     668\n",
      "4     619\n",
      "2     489\n",
      "5     472\n",
      "6     336\n",
      "7     218\n",
      "1     160\n",
      "8     116\n",
      "9     109\n",
      "10     50\n",
      "Name: total intl calls, dtype: int64\n",
      "\n",
      "\n",
      "total intl charge 2.70    62\n",
      "3.05    59\n",
      "2.65    56\n",
      "2.94    56\n",
      "2.73    53\n",
      "        ..\n",
      "0.68     1\n",
      "4.83     1\n",
      "0.84     1\n",
      "0.30     1\n",
      "5.40     1\n",
      "Name: total intl charge, Length: 162, dtype: int64\n",
      "\n",
      "\n",
      "customer service calls 1    1181\n",
      "2     759\n",
      "0     697\n",
      "3     429\n",
      "4     166\n",
      "5      66\n",
      "6      22\n",
      "7       9\n",
      "9       2\n",
      "8       2\n",
      "Name: customer service calls, dtype: int64\n",
      "\n",
      "\n",
      "churn False    2850\n",
      "True      483\n",
      "Name: churn, dtype: int64\n",
      "\n",
      "\n"
     ]
    }
   ],
   "source": [
    "for col in df.columns: # Preliminary view of value counts per column\n",
    "    try:\n",
    "        print(col, df[col].value_counts()[:10])\n",
    "    except:\n",
    "        print(col, df[col].value_counts())\n",
    "        # If there aren't 5+ unique values for a column the first print \n",
    "        # statement will throw an error for an invalid idx slice\n",
    "    print('\\n') # Break up the output between columns"
   ]
  },
  {
   "cell_type": "markdown",
   "metadata": {},
   "source": [
    "# Exploratory Data Analysis"
   ]
  },
  {
   "cell_type": "markdown",
   "metadata": {},
   "source": [
    "## Exploring Customer Churn"
   ]
  },
  {
   "cell_type": "code",
   "execution_count": 8,
   "metadata": {
    "ExecuteTime": {
     "end_time": "2020-09-25T22:52:18.133863Z",
     "start_time": "2020-09-25T22:52:18.009227Z"
    }
   },
   "outputs": [
    {
     "data": {
      "image/png": "[encoded data removed]",
      "text/plain": [
       "<Figure size 432x288 with 1 Axes>"
      ]
     },
     "metadata": {
      "needs_background": "light"
     },
     "output_type": "display_data"
    }
   ],
   "source": [
    "# Observing target \"churn\"\n",
    "ax=sns.countplot(x='churn',data=df)\n",
    "for p in ax.patches:\n",
    "        ax.annotate('{:.2f}%'.format((p.get_height()/df.shape[0])*100), (p.get_x()+0.3, p.get_height()))"
   ]
  },
  {
   "cell_type": "code",
   "execution_count": 9,
   "metadata": {
    "ExecuteTime": {
     "end_time": "2020-09-25T22:52:18.336854Z",
     "start_time": "2020-09-25T22:52:18.136408Z"
    }
   },
   "outputs": [
    {
     "data": {
      "image/png": "[encoded data removed]",
      "text/plain": [
       "<Figure size 432x360 with 1 Axes>"
      ]
     },
     "metadata": {
      "needs_background": "light"
     },
     "output_type": "display_data"
    }
   ],
   "source": [
    "# Visualizing target by area code\n",
    "ac = df.groupby(['area code', 'churn']).size().unstack().plot(kind='bar', stacked=False,figsize=(6,5))\n",
    "for i in ac.patches:\n",
    "    ac.text(i.get_x()+0.05, i.get_height()+20,str(i.get_height()))"
   ]
  },
  {
   "cell_type": "code",
   "execution_count": 10,
   "metadata": {
    "ExecuteTime": {
     "end_time": "2020-09-25T22:52:18.617837Z",
     "start_time": "2020-09-25T22:52:18.338967Z"
    }
   },
   "outputs": [
    {
     "data": {
      "image/png": "[encoded data removed]",
      "text/plain": [
       "<Figure size 864x432 with 1 Axes>"
      ]
     },
     "metadata": {
      "needs_background": "light"
     },
     "output_type": "display_data"
    }
   ],
   "source": [
    "# Visualizing target by number of customer service calls\n",
    "cs = df.groupby([\"customer service calls\", \"churn\"]).size().unstack().plot(kind='bar', stacked=False,figsize=(12,6))\n",
    "for i in cs.patches:\n",
    "    cs.text(i.get_x()+0.05, i.get_height()+20,int(i.get_height()))"
   ]
  },
  {
   "cell_type": "code",
   "execution_count": 11,
   "metadata": {
    "ExecuteTime": {
     "end_time": "2020-09-25T22:52:19.721492Z",
     "start_time": "2020-09-25T22:52:18.619798Z"
    }
   },
   "outputs": [
    {
     "data": {
      "image/png": "[encoded data removed]",
      "text/plain": [
       "<Figure size 2160x720 with 1 Axes>"
      ]
     },
     "metadata": {
      "needs_background": "light"
     },
     "output_type": "display_data"
    }
   ],
   "source": [
    "# Visualizing target by state\n",
    "df.groupby([\"state\", \"churn\"]).size().unstack().plot(kind='bar', stacked=True, figsize=(30,10)); # churn by state"
   ]
  },
  {
   "cell_type": "code",
   "execution_count": 12,
   "metadata": {
    "ExecuteTime": {
     "end_time": "2020-09-25T22:52:19.881586Z",
     "start_time": "2020-09-25T22:52:19.723632Z"
    }
   },
   "outputs": [
    {
     "data": {
      "image/png": "[encoded data removed]",
      "text/plain": [
       "<Figure size 432x360 with 1 Axes>"
      ]
     },
     "metadata": {
      "needs_background": "light"
     },
     "output_type": "display_data"
    }
   ],
   "source": [
    "# Visualizing target by existance of international plan\n",
    "ip=df.groupby([\"international plan\", \"churn\"]).size().unstack().plot(kind='bar', stacked=False,figsize=(6,5))\n",
    "for i in ip.patches:\n",
    "    ip.text(i.get_x()+0.05, i.get_height()+20,str(i.get_height()))"
   ]
  },
  {
   "cell_type": "markdown",
   "metadata": {},
   "source": [
    "## Observing Account Length"
   ]
  },
  {
   "cell_type": "code",
   "execution_count": 13,
   "metadata": {
    "ExecuteTime": {
     "end_time": "2020-09-25T22:52:20.429384Z",
     "start_time": "2020-09-25T22:52:19.883400Z"
    }
   },
   "outputs": [
    {
     "data": {
      "image/png": "[encoded data removed]",
      "text/plain": [
       "<Figure size 1152x576 with 4 Axes>"
      ]
     },
     "metadata": {
      "needs_background": "light"
     },
     "output_type": "display_data"
    }
   ],
   "source": [
    "plt.figure(figsize=(16,8))\n",
    "plt.subplot(221)\n",
    "sns.scatterplot(df['account length'], df['total day charge'])\n",
    "plt.title('Account Length X Day Charge')\n",
    "\n",
    "plt.subplot(222)\n",
    "sns.scatterplot(df['account length'], df['total eve charge'])\n",
    "plt.title('Account Length X Eve Charge')\n",
    "\n",
    "plt.subplot(223)\n",
    "sns.scatterplot(df['account length'], df['total night charge'])\n",
    "plt.title('Account Length X Night Charge')\n",
    "\n",
    "plt.subplot(224)\n",
    "sns.scatterplot(df['account length'], df['total intl charge'])\n",
    "plt.title('Account Length X Intl Charge')\n",
    "\n",
    "plt.subplots_adjust(hspace=0.35)\n",
    "plt.show()"
   ]
  },
  {
   "cell_type": "markdown",
   "metadata": {},
   "source": [
    "# Data Preparation"
   ]
  },
  {
   "cell_type": "markdown",
   "metadata": {},
   "source": [
    "## Feature Engineering"
   ]
  },
  {
   "cell_type": "code",
   "execution_count": 14,
   "metadata": {
    "ExecuteTime": {
     "end_time": "2020-09-25T22:52:20.435144Z",
     "start_time": "2020-09-25T22:52:20.430703Z"
    }
   },
   "outputs": [],
   "source": [
    "df['total charge'] = df['total day charge'] + df['total eve charge'] + df['total night charge'] + df['total intl charge']"
   ]
  },
  {
   "cell_type": "code",
   "execution_count": 15,
   "metadata": {
    "ExecuteTime": {
     "end_time": "2020-09-25T22:52:20.446428Z",
     "start_time": "2020-09-25T22:52:20.437810Z"
    }
   },
   "outputs": [
    {
     "name": "stdout",
     "output_type": "stream",
     "text": [
      "<class 'pandas.core.frame.DataFrame'>\n",
      "RangeIndex: 3333 entries, 0 to 3332\n",
      "Data columns (total 22 columns):\n",
      " #   Column                  Non-Null Count  Dtype  \n",
      "---  ------                  --------------  -----  \n",
      " 0   state                   3333 non-null   object \n",
      " 1   account length          3333 non-null   int64  \n",
      " 2   area code               3333 non-null   int64  \n",
      " 3   phone number            3333 non-null   object \n",
      " 4   international plan      3333 non-null   object \n",
      " 5   voice mail plan         3333 non-null   object \n",
      " 6   number vmail messages   3333 non-null   int64  \n",
      " 7   total day minutes       3333 non-null   float64\n",
      " 8   total day calls         3333 non-null   int64  \n",
      " 9   total day charge        3333 non-null   float64\n",
      " 10  total eve minutes       3333 non-null   float64\n",
      " 11  total eve calls         3333 non-null   int64  \n",
      " 12  total eve charge        3333 non-null   float64\n",
      " 13  total night minutes     3333 non-null   float64\n",
      " 14  total night calls       3333 non-null   int64  \n",
      " 15  total night charge      3333 non-null   float64\n",
      " 16  total intl minutes      3333 non-null   float64\n",
      " 17  total intl calls        3333 non-null   int64  \n",
      " 18  total intl charge       3333 non-null   float64\n",
      " 19  customer service calls  3333 non-null   int64  \n",
      " 20  churn                   3333 non-null   bool   \n",
      " 21  total charge            3333 non-null   float64\n",
      "dtypes: bool(1), float64(9), int64(8), object(4)\n",
      "memory usage: 550.2+ KB\n"
     ]
    }
   ],
   "source": [
    "df.info()"
   ]
  },
  {
   "cell_type": "markdown",
   "metadata": {},
   "source": [
    "## Column Names"
   ]
  },
  {
   "cell_type": "code",
   "execution_count": 16,
   "metadata": {
    "ExecuteTime": {
     "end_time": "2020-09-25T22:52:20.463217Z",
     "start_time": "2020-09-25T22:52:20.447914Z"
    }
   },
   "outputs": [
    {
     "data": {
      "text/html": [
       "<div>\n",
       "<style scoped>\n",
       "    .dataframe tbody tr th:only-of-type {\n",
       "        vertical-align: middle;\n",
       "    }\n",
       "\n",
       "    .dataframe tbody tr th {\n",
       "        vertical-align: top;\n",
       "    }\n",
       "\n",
       "    .dataframe thead th {\n",
       "        text-align: right;\n",
       "    }\n",
       "</style>\n",
       "<table border=\"1\" class=\"dataframe\">\n",
       "  <thead>\n",
       "    <tr style=\"text-align: right;\">\n",
       "      <th></th>\n",
       "      <th>state</th>\n",
       "      <th>account length</th>\n",
       "      <th>area code</th>\n",
       "      <th>phone number</th>\n",
       "      <th>international plan</th>\n",
       "      <th>voice mail plan</th>\n",
       "      <th>number vmail messages</th>\n",
       "      <th>total day minutes</th>\n",
       "      <th>total day calls</th>\n",
       "      <th>total day charge</th>\n",
       "      <th>total eve minutes</th>\n",
       "      <th>total eve calls</th>\n",
       "      <th>total eve charge</th>\n",
       "      <th>total night minutes</th>\n",
       "      <th>total night calls</th>\n",
       "      <th>total night charge</th>\n",
       "      <th>total intl minutes</th>\n",
       "      <th>total intl calls</th>\n",
       "      <th>total intl charge</th>\n",
       "      <th>customer service calls</th>\n",
       "      <th>churn</th>\n",
       "      <th>total charge</th>\n",
       "    </tr>\n",
       "  </thead>\n",
       "  <tbody>\n",
       "    <tr>\n",
       "      <th>0</th>\n",
       "      <td>KS</td>\n",
       "      <td>128</td>\n",
       "      <td>415</td>\n",
       "      <td>382-4657</td>\n",
       "      <td>no</td>\n",
       "      <td>yes</td>\n",
       "      <td>25</td>\n",
       "      <td>265</td>\n",
       "      <td>110</td>\n",
       "      <td>45</td>\n",
       "      <td>197</td>\n",
       "      <td>99</td>\n",
       "      <td>16</td>\n",
       "      <td>244</td>\n",
       "      <td>91</td>\n",
       "      <td>11</td>\n",
       "      <td>10</td>\n",
       "      <td>3</td>\n",
       "      <td>2</td>\n",
       "      <td>1</td>\n",
       "      <td>False</td>\n",
       "      <td>75</td>\n",
       "    </tr>\n",
       "    <tr>\n",
       "      <th>1</th>\n",
       "      <td>OH</td>\n",
       "      <td>107</td>\n",
       "      <td>415</td>\n",
       "      <td>371-7191</td>\n",
       "      <td>no</td>\n",
       "      <td>yes</td>\n",
       "      <td>26</td>\n",
       "      <td>161</td>\n",
       "      <td>123</td>\n",
       "      <td>27</td>\n",
       "      <td>195</td>\n",
       "      <td>103</td>\n",
       "      <td>16</td>\n",
       "      <td>254</td>\n",
       "      <td>103</td>\n",
       "      <td>11</td>\n",
       "      <td>13</td>\n",
       "      <td>3</td>\n",
       "      <td>3</td>\n",
       "      <td>1</td>\n",
       "      <td>False</td>\n",
       "      <td>59</td>\n",
       "    </tr>\n",
       "    <tr>\n",
       "      <th>2</th>\n",
       "      <td>NJ</td>\n",
       "      <td>137</td>\n",
       "      <td>415</td>\n",
       "      <td>358-1921</td>\n",
       "      <td>no</td>\n",
       "      <td>no</td>\n",
       "      <td>0</td>\n",
       "      <td>243</td>\n",
       "      <td>114</td>\n",
       "      <td>41</td>\n",
       "      <td>121</td>\n",
       "      <td>110</td>\n",
       "      <td>10</td>\n",
       "      <td>162</td>\n",
       "      <td>104</td>\n",
       "      <td>7</td>\n",
       "      <td>12</td>\n",
       "      <td>5</td>\n",
       "      <td>3</td>\n",
       "      <td>0</td>\n",
       "      <td>False</td>\n",
       "      <td>62</td>\n",
       "    </tr>\n",
       "    <tr>\n",
       "      <th>3</th>\n",
       "      <td>OH</td>\n",
       "      <td>84</td>\n",
       "      <td>408</td>\n",
       "      <td>375-9999</td>\n",
       "      <td>yes</td>\n",
       "      <td>no</td>\n",
       "      <td>0</td>\n",
       "      <td>299</td>\n",
       "      <td>71</td>\n",
       "      <td>50</td>\n",
       "      <td>61</td>\n",
       "      <td>88</td>\n",
       "      <td>5</td>\n",
       "      <td>196</td>\n",
       "      <td>89</td>\n",
       "      <td>8</td>\n",
       "      <td>6</td>\n",
       "      <td>7</td>\n",
       "      <td>1</td>\n",
       "      <td>2</td>\n",
       "      <td>False</td>\n",
       "      <td>66</td>\n",
       "    </tr>\n",
       "    <tr>\n",
       "      <th>4</th>\n",
       "      <td>OK</td>\n",
       "      <td>75</td>\n",
       "      <td>415</td>\n",
       "      <td>330-6626</td>\n",
       "      <td>yes</td>\n",
       "      <td>no</td>\n",
       "      <td>0</td>\n",
       "      <td>166</td>\n",
       "      <td>113</td>\n",
       "      <td>28</td>\n",
       "      <td>148</td>\n",
       "      <td>122</td>\n",
       "      <td>12</td>\n",
       "      <td>186</td>\n",
       "      <td>121</td>\n",
       "      <td>8</td>\n",
       "      <td>10</td>\n",
       "      <td>3</td>\n",
       "      <td>2</td>\n",
       "      <td>3</td>\n",
       "      <td>False</td>\n",
       "      <td>52</td>\n",
       "    </tr>\n",
       "  </tbody>\n",
       "</table>\n",
       "</div>"
      ],
      "text/plain": [
       "  state  account length  area code phone number international plan  \\\n",
       "0    KS             128        415     382-4657                 no   \n",
       "1    OH             107        415     371-7191                 no   \n",
       "2    NJ             137        415     358-1921                 no   \n",
       "3    OH              84        408     375-9999                yes   \n",
       "4    OK              75        415     330-6626                yes   \n",
       "\n",
       "  voice mail plan  number vmail messages  total day minutes  total day calls  \\\n",
       "0             yes                     25                265              110   \n",
       "1             yes                     26                161              123   \n",
       "2              no                      0                243              114   \n",
       "3              no                      0                299               71   \n",
       "4              no                      0                166              113   \n",
       "\n",
       "   total day charge  total eve minutes  total eve calls  total eve charge  \\\n",
       "0                45                197               99                16   \n",
       "1                27                195              103                16   \n",
       "2                41                121              110                10   \n",
       "3                50                 61               88                 5   \n",
       "4                28                148              122                12   \n",
       "\n",
       "   total night minutes  total night calls  total night charge  \\\n",
       "0                  244                 91                  11   \n",
       "1                  254                103                  11   \n",
       "2                  162                104                   7   \n",
       "3                  196                 89                   8   \n",
       "4                  186                121                   8   \n",
       "\n",
       "   total intl minutes  total intl calls  total intl charge  \\\n",
       "0                  10                 3                  2   \n",
       "1                  13                 3                  3   \n",
       "2                  12                 5                  3   \n",
       "3                   6                 7                  1   \n",
       "4                  10                 3                  2   \n",
       "\n",
       "   customer service calls  churn  total charge  \n",
       "0                       1  False            75  \n",
       "1                       1  False            59  \n",
       "2                       0  False            62  \n",
       "3                       2  False            66  \n",
       "4                       3  False            52  "
      ]
     },
     "execution_count": 16,
     "metadata": {},
     "output_type": "execute_result"
    }
   ],
   "source": [
    "# converting floats to integers \n",
    "floatcols = ['total day minutes', 'total day charge', 'total eve minutes', \n",
    "             'total eve charge', 'total night minutes', 'total night charge', \n",
    "             'total intl minutes', 'total intl charge', 'total charge']\n",
    "\n",
    "for col in floatcols:\n",
    "    df[col] = df[col].astype('int')\n",
    "\n",
    "df.head()"
   ]
  },
  {
   "cell_type": "code",
   "execution_count": 17,
   "metadata": {
    "ExecuteTime": {
     "end_time": "2020-09-25T22:52:20.467982Z",
     "start_time": "2020-09-25T22:52:20.464779Z"
    }
   },
   "outputs": [],
   "source": [
    "# cleaning column names\n",
    "subs = [(' ', '_'),('.0','')]\n",
    "\n",
    "def col_formatting(col):\n",
    "    for old, new in subs:\n",
    "        col = col.replace(old,new)\n",
    "    return col\n",
    "\n",
    "df.columns = [col_formatting(col) for col in df.columns]"
   ]
  },
  {
   "cell_type": "markdown",
   "metadata": {},
   "source": [
    "## Multicollinearity"
   ]
  },
  {
   "cell_type": "code",
   "execution_count": 18,
   "metadata": {
    "ExecuteTime": {
     "end_time": "2020-09-25T22:52:21.781613Z",
     "start_time": "2020-09-25T22:52:20.469424Z"
    },
    "scrolled": true
   },
   "outputs": [
    {
     "data": {
      "image/png": "[encoded data removed]",
      "text/plain": [
       "<Figure size 1296x1872 with 2 Axes>"
      ]
     },
     "metadata": {
      "needs_background": "light"
     },
     "output_type": "display_data"
    }
   ],
   "source": [
    "corr = df.corr() # analyzing correlation\n",
    "# corr\n",
    "fig, ax = plt.subplots(figsize=(18,26))\n",
    "mask = np.triu(np.ones_like(corr, dtype=np.bool))\n",
    "sns.heatmap(corr, mask=mask, square=True, annot=True, cmap=\"YlGnBu\")\n",
    "#xticklabels=labels, yticklabels=labels)\n",
    "#plt.xticks(rotation=-45, fontsize=16)\n",
    "ax.patch.set_edgecolor('black')  \n",
    "ax.patch.set_linewidth('1')\n",
    "ax.set_title(\"Correlation & Heat Map\", fontsize=15, fontfamily=\"serif\")\n",
    "plt.show()"
   ]
  },
  {
   "cell_type": "markdown",
   "metadata": {},
   "source": [
    "<div class=\"alert alert-success\">\n",
    "\n",
    "Strong correlation between the \"total day\" categories and total charge. Lesser relationship with \"total eve\" categories with an even weaker relationship with \"total night\" categories.\n",
    "\n",
    "</div>"
   ]
  },
  {
   "cell_type": "markdown",
   "metadata": {},
   "source": [
    "## Dropping Features"
   ]
  },
  {
   "cell_type": "code",
   "execution_count": 19,
   "metadata": {
    "ExecuteTime": {
     "end_time": "2020-09-25T22:52:21.795341Z",
     "start_time": "2020-09-25T22:52:21.782954Z"
    },
    "scrolled": true
   },
   "outputs": [
    {
     "data": {
      "text/html": [
       "<div>\n",
       "<style scoped>\n",
       "    .dataframe tbody tr th:only-of-type {\n",
       "        vertical-align: middle;\n",
       "    }\n",
       "\n",
       "    .dataframe tbody tr th {\n",
       "        vertical-align: top;\n",
       "    }\n",
       "\n",
       "    .dataframe thead th {\n",
       "        text-align: right;\n",
       "    }\n",
       "</style>\n",
       "<table border=\"1\" class=\"dataframe\">\n",
       "  <thead>\n",
       "    <tr style=\"text-align: right;\">\n",
       "      <th></th>\n",
       "      <th>state</th>\n",
       "      <th>account_length</th>\n",
       "      <th>area_code</th>\n",
       "      <th>international_plan</th>\n",
       "      <th>voice_mail_plan</th>\n",
       "      <th>number_vmail_messages</th>\n",
       "      <th>total_day_minutes</th>\n",
       "      <th>total_day_calls</th>\n",
       "      <th>total_eve_minutes</th>\n",
       "      <th>total_eve_calls</th>\n",
       "      <th>total_night_minutes</th>\n",
       "      <th>total_night_calls</th>\n",
       "      <th>total_intl_minutes</th>\n",
       "      <th>total_intl_calls</th>\n",
       "      <th>customer_service_calls</th>\n",
       "      <th>churn</th>\n",
       "      <th>total_charge</th>\n",
       "    </tr>\n",
       "  </thead>\n",
       "  <tbody>\n",
       "    <tr>\n",
       "      <th>0</th>\n",
       "      <td>KS</td>\n",
       "      <td>128</td>\n",
       "      <td>415</td>\n",
       "      <td>no</td>\n",
       "      <td>yes</td>\n",
       "      <td>25</td>\n",
       "      <td>265</td>\n",
       "      <td>110</td>\n",
       "      <td>197</td>\n",
       "      <td>99</td>\n",
       "      <td>244</td>\n",
       "      <td>91</td>\n",
       "      <td>10</td>\n",
       "      <td>3</td>\n",
       "      <td>1</td>\n",
       "      <td>False</td>\n",
       "      <td>75</td>\n",
       "    </tr>\n",
       "    <tr>\n",
       "      <th>1</th>\n",
       "      <td>OH</td>\n",
       "      <td>107</td>\n",
       "      <td>415</td>\n",
       "      <td>no</td>\n",
       "      <td>yes</td>\n",
       "      <td>26</td>\n",
       "      <td>161</td>\n",
       "      <td>123</td>\n",
       "      <td>195</td>\n",
       "      <td>103</td>\n",
       "      <td>254</td>\n",
       "      <td>103</td>\n",
       "      <td>13</td>\n",
       "      <td>3</td>\n",
       "      <td>1</td>\n",
       "      <td>False</td>\n",
       "      <td>59</td>\n",
       "    </tr>\n",
       "    <tr>\n",
       "      <th>2</th>\n",
       "      <td>NJ</td>\n",
       "      <td>137</td>\n",
       "      <td>415</td>\n",
       "      <td>no</td>\n",
       "      <td>no</td>\n",
       "      <td>0</td>\n",
       "      <td>243</td>\n",
       "      <td>114</td>\n",
       "      <td>121</td>\n",
       "      <td>110</td>\n",
       "      <td>162</td>\n",
       "      <td>104</td>\n",
       "      <td>12</td>\n",
       "      <td>5</td>\n",
       "      <td>0</td>\n",
       "      <td>False</td>\n",
       "      <td>62</td>\n",
       "    </tr>\n",
       "    <tr>\n",
       "      <th>3</th>\n",
       "      <td>OH</td>\n",
       "      <td>84</td>\n",
       "      <td>408</td>\n",
       "      <td>yes</td>\n",
       "      <td>no</td>\n",
       "      <td>0</td>\n",
       "      <td>299</td>\n",
       "      <td>71</td>\n",
       "      <td>61</td>\n",
       "      <td>88</td>\n",
       "      <td>196</td>\n",
       "      <td>89</td>\n",
       "      <td>6</td>\n",
       "      <td>7</td>\n",
       "      <td>2</td>\n",
       "      <td>False</td>\n",
       "      <td>66</td>\n",
       "    </tr>\n",
       "    <tr>\n",
       "      <th>4</th>\n",
       "      <td>OK</td>\n",
       "      <td>75</td>\n",
       "      <td>415</td>\n",
       "      <td>yes</td>\n",
       "      <td>no</td>\n",
       "      <td>0</td>\n",
       "      <td>166</td>\n",
       "      <td>113</td>\n",
       "      <td>148</td>\n",
       "      <td>122</td>\n",
       "      <td>186</td>\n",
       "      <td>121</td>\n",
       "      <td>10</td>\n",
       "      <td>3</td>\n",
       "      <td>3</td>\n",
       "      <td>False</td>\n",
       "      <td>52</td>\n",
       "    </tr>\n",
       "  </tbody>\n",
       "</table>\n",
       "</div>"
      ],
      "text/plain": [
       "  state  account_length  area_code international_plan voice_mail_plan  \\\n",
       "0    KS             128        415                 no             yes   \n",
       "1    OH             107        415                 no             yes   \n",
       "2    NJ             137        415                 no              no   \n",
       "3    OH              84        408                yes              no   \n",
       "4    OK              75        415                yes              no   \n",
       "\n",
       "   number_vmail_messages  total_day_minutes  total_day_calls  \\\n",
       "0                     25                265              110   \n",
       "1                     26                161              123   \n",
       "2                      0                243              114   \n",
       "3                      0                299               71   \n",
       "4                      0                166              113   \n",
       "\n",
       "   total_eve_minutes  total_eve_calls  total_night_minutes  total_night_calls  \\\n",
       "0                197               99                  244                 91   \n",
       "1                195              103                  254                103   \n",
       "2                121              110                  162                104   \n",
       "3                 61               88                  196                 89   \n",
       "4                148              122                  186                121   \n",
       "\n",
       "   total_intl_minutes  total_intl_calls  customer_service_calls  churn  \\\n",
       "0                  10                 3                       1  False   \n",
       "1                  13                 3                       1  False   \n",
       "2                  12                 5                       0  False   \n",
       "3                   6                 7                       2  False   \n",
       "4                  10                 3                       3  False   \n",
       "\n",
       "   total_charge  \n",
       "0            75  \n",
       "1            59  \n",
       "2            62  \n",
       "3            66  \n",
       "4            52  "
      ]
     },
     "execution_count": 19,
     "metadata": {},
     "output_type": "execute_result"
    }
   ],
   "source": [
    "# Drop \"charge\" categories to address multicollinearity as well as \n",
    "# the phone number (identifier) column\n",
    "\n",
    "# df = df.drop(['phone number', 'total day charge', 'total eve charge', 'total night charge', 'total intl charge'], axis=1)\n",
    "df.drop(df.columns[[3,9,12,15,18]], axis=1, inplace=True)\n",
    "df.head()"
   ]
  },
  {
   "cell_type": "markdown",
   "metadata": {},
   "source": [
    "## Categorical Encoding"
   ]
  },
  {
   "cell_type": "markdown",
   "metadata": {},
   "source": [
    "### Casting Datatypes "
   ]
  },
  {
   "cell_type": "code",
   "execution_count": 20,
   "metadata": {
    "ExecuteTime": {
     "end_time": "2020-09-25T22:52:21.802646Z",
     "start_time": "2020-09-25T22:52:21.797426Z"
    }
   },
   "outputs": [
    {
     "data": {
      "text/plain": [
       "Index(['state', 'international_plan', 'voice_mail_plan'], dtype='object')"
      ]
     },
     "execution_count": 20,
     "metadata": {},
     "output_type": "execute_result"
    }
   ],
   "source": [
    "# Selecting the numerical columns for observation\n",
    "catfeats = df.select_dtypes('object').columns \n",
    "catfeats"
   ]
  },
  {
   "cell_type": "markdown",
   "metadata": {},
   "source": [
    "<div class=\"alert alert-success\">\n",
    "\n",
    "Encoding our categorical data using a label encoder to avoid the issue of having 50 states one hot encoded. \n",
    "\n",
    "</div>"
   ]
  },
  {
   "cell_type": "code",
   "execution_count": 22,
   "metadata": {
    "ExecuteTime": {
     "end_time": "2020-09-25T22:52:21.909643Z",
     "start_time": "2020-09-25T22:52:21.807133Z"
    }
   },
   "outputs": [],
   "source": [
    "import sklearn\n",
    "from sklearn.model_selection import train_test_split\n",
    "from sklearn.metrics import confusion_matrix, accuracy_score \n",
    "from sklearn import preprocessing\n",
    "from sklearn.metrics import classification_report\n",
    "from sklearn.metrics import f1_score\n",
    "from sklearn.preprocessing import StandardScaler\n",
    "\n",
    "# Machine Learning\n",
    "from sklearn.linear_model import LogisticRegression\n",
    "from sklearn.svm import SVC, LinearSVC\n",
    "from sklearn.ensemble import RandomForestClassifier\n",
    "from sklearn.neighbors import KNeighborsClassifier\n",
    "from sklearn.naive_bayes import GaussianNB\n",
    "from sklearn.tree import DecisionTreeClassifier\n",
    "from sklearn.model_selection import GridSearchCV\n",
    "from sklearn.ensemble import AdaBoostClassifier\n",
    "from sklearn.ensemble import GradientBoostingClassifier"
   ]
  },
  {
   "cell_type": "markdown",
   "metadata": {},
   "source": [
    "### Label Encoding"
   ]
  },
  {
   "cell_type": "code",
   "execution_count": 23,
   "metadata": {
    "ExecuteTime": {
     "end_time": "2020-09-25T22:52:21.916728Z",
     "start_time": "2020-09-25T22:52:21.914945Z"
    }
   },
   "outputs": [],
   "source": [
    "label_encoder = preprocessing.LabelEncoder()"
   ]
  },
  {
   "cell_type": "code",
   "execution_count": 24,
   "metadata": {
    "ExecuteTime": {
     "end_time": "2020-09-25T22:52:21.930254Z",
     "start_time": "2020-09-25T22:52:21.920483Z"
    },
    "scrolled": true
   },
   "outputs": [
    {
     "name": "stdout",
     "output_type": "stream",
     "text": [
      "<class 'pandas.core.frame.DataFrame'>\n",
      "RangeIndex: 3333 entries, 0 to 3332\n",
      "Data columns (total 17 columns):\n",
      " #   Column                  Non-Null Count  Dtype\n",
      "---  ------                  --------------  -----\n",
      " 0   state                   3333 non-null   int64\n",
      " 1   account_length          3333 non-null   int64\n",
      " 2   area_code               3333 non-null   int64\n",
      " 3   international_plan      3333 non-null   int64\n",
      " 4   voice_mail_plan         3333 non-null   int64\n",
      " 5   number_vmail_messages   3333 non-null   int64\n",
      " 6   total_day_minutes       3333 non-null   int64\n",
      " 7   total_day_calls         3333 non-null   int64\n",
      " 8   total_eve_minutes       3333 non-null   int64\n",
      " 9   total_eve_calls         3333 non-null   int64\n",
      " 10  total_night_minutes     3333 non-null   int64\n",
      " 11  total_night_calls       3333 non-null   int64\n",
      " 12  total_intl_minutes      3333 non-null   int64\n",
      " 13  total_intl_calls        3333 non-null   int64\n",
      " 14  customer_service_calls  3333 non-null   int64\n",
      " 15  churn                   3333 non-null   bool \n",
      " 16  total_charge            3333 non-null   int64\n",
      "dtypes: bool(1), int64(16)\n",
      "memory usage: 420.0 KB\n"
     ]
    }
   ],
   "source": [
    "# encoding categorical variables\n",
    "df['state'] = label_encoder.fit_transform(df['state'])\n",
    "df['international_plan'] = label_encoder.fit_transform(df['international_plan'])\n",
    "df['voice_mail_plan'] = label_encoder.fit_transform(df['voice_mail_plan'])\n",
    "\n",
    "df.info()"
   ]
  },
  {
   "cell_type": "code",
   "execution_count": 25,
   "metadata": {
    "ExecuteTime": {
     "end_time": "2020-09-25T22:52:21.936266Z",
     "start_time": "2020-09-25T22:52:21.931684Z"
    }
   },
   "outputs": [],
   "source": [
    "# One Hot Encoding Churn\n",
    "dummy_column = ['churn']\n",
    "\n",
    "df = pd.get_dummies(df, columns = dummy_column)"
   ]
  },
  {
   "cell_type": "code",
   "execution_count": 26,
   "metadata": {
    "ExecuteTime": {
     "end_time": "2020-09-25T22:52:21.947058Z",
     "start_time": "2020-09-25T22:52:21.937400Z"
    }
   },
   "outputs": [
    {
     "data": {
      "text/html": [
       "<div>\n",
       "<style scoped>\n",
       "    .dataframe tbody tr th:only-of-type {\n",
       "        vertical-align: middle;\n",
       "    }\n",
       "\n",
       "    .dataframe tbody tr th {\n",
       "        vertical-align: top;\n",
       "    }\n",
       "\n",
       "    .dataframe thead th {\n",
       "        text-align: right;\n",
       "    }\n",
       "</style>\n",
       "<table border=\"1\" class=\"dataframe\">\n",
       "  <thead>\n",
       "    <tr style=\"text-align: right;\">\n",
       "      <th></th>\n",
       "      <th>state</th>\n",
       "      <th>account_length</th>\n",
       "      <th>area_code</th>\n",
       "      <th>international_plan</th>\n",
       "      <th>voice_mail_plan</th>\n",
       "      <th>number_vmail_messages</th>\n",
       "      <th>total_day_minutes</th>\n",
       "      <th>total_day_calls</th>\n",
       "      <th>total_eve_minutes</th>\n",
       "      <th>total_eve_calls</th>\n",
       "      <th>total_night_minutes</th>\n",
       "      <th>total_night_calls</th>\n",
       "      <th>total_intl_minutes</th>\n",
       "      <th>total_intl_calls</th>\n",
       "      <th>customer_service_calls</th>\n",
       "      <th>total_charge</th>\n",
       "      <th>churn_False</th>\n",
       "      <th>churn_True</th>\n",
       "    </tr>\n",
       "  </thead>\n",
       "  <tbody>\n",
       "    <tr>\n",
       "      <th>0</th>\n",
       "      <td>16</td>\n",
       "      <td>128</td>\n",
       "      <td>415</td>\n",
       "      <td>0</td>\n",
       "      <td>1</td>\n",
       "      <td>25</td>\n",
       "      <td>265</td>\n",
       "      <td>110</td>\n",
       "      <td>197</td>\n",
       "      <td>99</td>\n",
       "      <td>244</td>\n",
       "      <td>91</td>\n",
       "      <td>10</td>\n",
       "      <td>3</td>\n",
       "      <td>1</td>\n",
       "      <td>75</td>\n",
       "      <td>1</td>\n",
       "      <td>0</td>\n",
       "    </tr>\n",
       "    <tr>\n",
       "      <th>1</th>\n",
       "      <td>35</td>\n",
       "      <td>107</td>\n",
       "      <td>415</td>\n",
       "      <td>0</td>\n",
       "      <td>1</td>\n",
       "      <td>26</td>\n",
       "      <td>161</td>\n",
       "      <td>123</td>\n",
       "      <td>195</td>\n",
       "      <td>103</td>\n",
       "      <td>254</td>\n",
       "      <td>103</td>\n",
       "      <td>13</td>\n",
       "      <td>3</td>\n",
       "      <td>1</td>\n",
       "      <td>59</td>\n",
       "      <td>1</td>\n",
       "      <td>0</td>\n",
       "    </tr>\n",
       "    <tr>\n",
       "      <th>2</th>\n",
       "      <td>31</td>\n",
       "      <td>137</td>\n",
       "      <td>415</td>\n",
       "      <td>0</td>\n",
       "      <td>0</td>\n",
       "      <td>0</td>\n",
       "      <td>243</td>\n",
       "      <td>114</td>\n",
       "      <td>121</td>\n",
       "      <td>110</td>\n",
       "      <td>162</td>\n",
       "      <td>104</td>\n",
       "      <td>12</td>\n",
       "      <td>5</td>\n",
       "      <td>0</td>\n",
       "      <td>62</td>\n",
       "      <td>1</td>\n",
       "      <td>0</td>\n",
       "    </tr>\n",
       "    <tr>\n",
       "      <th>3</th>\n",
       "      <td>35</td>\n",
       "      <td>84</td>\n",
       "      <td>408</td>\n",
       "      <td>1</td>\n",
       "      <td>0</td>\n",
       "      <td>0</td>\n",
       "      <td>299</td>\n",
       "      <td>71</td>\n",
       "      <td>61</td>\n",
       "      <td>88</td>\n",
       "      <td>196</td>\n",
       "      <td>89</td>\n",
       "      <td>6</td>\n",
       "      <td>7</td>\n",
       "      <td>2</td>\n",
       "      <td>66</td>\n",
       "      <td>1</td>\n",
       "      <td>0</td>\n",
       "    </tr>\n",
       "    <tr>\n",
       "      <th>4</th>\n",
       "      <td>36</td>\n",
       "      <td>75</td>\n",
       "      <td>415</td>\n",
       "      <td>1</td>\n",
       "      <td>0</td>\n",
       "      <td>0</td>\n",
       "      <td>166</td>\n",
       "      <td>113</td>\n",
       "      <td>148</td>\n",
       "      <td>122</td>\n",
       "      <td>186</td>\n",
       "      <td>121</td>\n",
       "      <td>10</td>\n",
       "      <td>3</td>\n",
       "      <td>3</td>\n",
       "      <td>52</td>\n",
       "      <td>1</td>\n",
       "      <td>0</td>\n",
       "    </tr>\n",
       "  </tbody>\n",
       "</table>\n",
       "</div>"
      ],
      "text/plain": [
       "   state  account_length  area_code  international_plan  voice_mail_plan  \\\n",
       "0     16             128        415                   0                1   \n",
       "1     35             107        415                   0                1   \n",
       "2     31             137        415                   0                0   \n",
       "3     35              84        408                   1                0   \n",
       "4     36              75        415                   1                0   \n",
       "\n",
       "   number_vmail_messages  total_day_minutes  total_day_calls  \\\n",
       "0                     25                265              110   \n",
       "1                     26                161              123   \n",
       "2                      0                243              114   \n",
       "3                      0                299               71   \n",
       "4                      0                166              113   \n",
       "\n",
       "   total_eve_minutes  total_eve_calls  total_night_minutes  total_night_calls  \\\n",
       "0                197               99                  244                 91   \n",
       "1                195              103                  254                103   \n",
       "2                121              110                  162                104   \n",
       "3                 61               88                  196                 89   \n",
       "4                148              122                  186                121   \n",
       "\n",
       "   total_intl_minutes  total_intl_calls  customer_service_calls  total_charge  \\\n",
       "0                  10                 3                       1            75   \n",
       "1                  13                 3                       1            59   \n",
       "2                  12                 5                       0            62   \n",
       "3                   6                 7                       2            66   \n",
       "4                  10                 3                       3            52   \n",
       "\n",
       "   churn_False  churn_True  \n",
       "0            1           0  \n",
       "1            1           0  \n",
       "2            1           0  \n",
       "3            1           0  \n",
       "4            1           0  "
      ]
     },
     "execution_count": 26,
     "metadata": {},
     "output_type": "execute_result"
    }
   ],
   "source": [
    "df.head()"
   ]
  },
  {
   "cell_type": "markdown",
   "metadata": {},
   "source": [
    "# Model"
   ]
  },
  {
   "cell_type": "markdown",
   "metadata": {},
   "source": [
    "### Test/Train Split"
   ]
  },
  {
   "cell_type": "code",
   "execution_count": 27,
   "metadata": {
    "ExecuteTime": {
     "end_time": "2020-09-25T22:52:21.951279Z",
     "start_time": "2020-09-25T22:52:21.948336Z"
    }
   },
   "outputs": [],
   "source": [
    "# Separate target and features\n",
    "y = df['churn_True']\n",
    "X = df.drop(['churn_False', 'churn_True'], axis=1) "
   ]
  },
  {
   "cell_type": "code",
   "execution_count": 28,
   "metadata": {
    "ExecuteTime": {
     "end_time": "2020-09-25T22:52:21.956859Z",
     "start_time": "2020-09-25T22:52:21.952497Z"
    }
   },
   "outputs": [],
   "source": [
    "# standardize the data\n",
    "scaler = StandardScaler() # transform \"X\" features\n",
    "X_scaled = scaler.fit_transform(X)"
   ]
  },
  {
   "cell_type": "code",
   "execution_count": 29,
   "metadata": {
    "ExecuteTime": {
     "end_time": "2020-09-25T22:52:21.960831Z",
     "start_time": "2020-09-25T22:52:21.958041Z"
    }
   },
   "outputs": [],
   "source": [
    "# Test/Train split\n",
    "X_train, X_test, y_train, y_test = train_test_split(X_scaled, y, test_size=0.2, random_state=0) "
   ]
  },
  {
   "cell_type": "markdown",
   "metadata": {},
   "source": [
    "## Logistic Regression"
   ]
  },
  {
   "cell_type": "code",
   "execution_count": 30,
   "metadata": {
    "ExecuteTime": {
     "end_time": "2020-09-25T22:52:21.971154Z",
     "start_time": "2020-09-25T22:52:21.962084Z"
    }
   },
   "outputs": [
    {
     "name": "stdout",
     "output_type": "stream",
     "text": [
      "\n",
      "Accuracy Percentage: 86.81\n",
      "CPU times: user 6.26 ms, sys: 930 µs, total: 7.19 ms\n",
      "Wall time: 6.22 ms\n"
     ]
    }
   ],
   "source": [
    "%%time \n",
    "# observing time lapse - running classifiers\n",
    "\n",
    "# logistic regression classifier\n",
    "# liblinear supports l2 regularization\n",
    "lr = LogisticRegression(penalty='l2', solver='liblinear') \n",
    "\n",
    "# Fit the model\n",
    "fit = lr.fit(X_train, y_train)\n",
    "\n",
    "pred_y = lr.predict(X_test) \n",
    "\n",
    "lrs = round(lr.score(X_test, y_test)*100,2) # format accuracy score\n",
    "print('\\nAccuracy Percentage:', lrs)"
   ]
  },
  {
   "cell_type": "markdown",
   "metadata": {},
   "source": [
    "### Logistic Regression Evaluation"
   ]
  },
  {
   "cell_type": "code",
   "execution_count": 31,
   "metadata": {
    "ExecuteTime": {
     "end_time": "2020-09-25T22:52:22.010766Z",
     "start_time": "2020-09-25T22:52:21.972785Z"
    }
   },
   "outputs": [
    {
     "name": "stdout",
     "output_type": "stream",
     "text": [
      "\n",
      "Actual vs. Predicted \n",
      "\n",
      "Predicted    0   1  All\n",
      "True                   \n",
      "0          561  18  579\n",
      "1           70  18   88\n",
      "All        631  36  667\n",
      "\n",
      "\n",
      "\n",
      "               precision    recall  f1-score   support\n",
      "\n",
      "           0       0.89      0.97      0.93       579\n",
      "           1       0.50      0.20      0.29        88\n",
      "\n",
      "    accuracy                           0.87       667\n",
      "   macro avg       0.69      0.59      0.61       667\n",
      "weighted avg       0.84      0.87      0.84       667\n",
      "\n"
     ]
    }
   ],
   "source": [
    "print('\\nActual vs. Predicted \\n') #confusion matrix\n",
    "print(pd.crosstab(y_test, pred_y, rownames=['True'], colnames=['Predicted'], margins=True))\n",
    "\n",
    "print('\\n\\n\\n', classification_report(y_test, pred_y))"
   ]
  },
  {
   "cell_type": "markdown",
   "metadata": {},
   "source": [
    "## Catboost"
   ]
  },
  {
   "cell_type": "markdown",
   "metadata": {},
   "source": [
    "The name Catboost comes from Categorical Boosting. Catboost is a library that uses gradient boosting and is successful with a diverse range of data types"
   ]
  },
  {
   "cell_type": "code",
   "execution_count": 32,
   "metadata": {
    "ExecuteTime": {
     "end_time": "2020-09-25T22:52:22.014461Z",
     "start_time": "2020-09-25T22:52:22.012566Z"
    }
   },
   "outputs": [],
   "source": [
    "#pip install catboost"
   ]
  },
  {
   "cell_type": "code",
   "execution_count": 33,
   "metadata": {
    "ExecuteTime": {
     "end_time": "2020-09-25T22:52:24.847711Z",
     "start_time": "2020-09-25T22:52:22.016089Z"
    }
   },
   "outputs": [
    {
     "name": "stdout",
     "output_type": "stream",
     "text": [
      "\n",
      "Accuracy Percentage: 97.75\n",
      "CPU times: user 27.4 s, sys: 1.53 s, total: 28.9 s\n",
      "Wall time: 2.83 s\n"
     ]
    }
   ],
   "source": [
    "%%time \n",
    "from catboost import CatBoostClassifier # Import library\n",
    "catmodel = CatBoostClassifier(\n",
    "    custom_loss=['Accuracy'], # Metric to use in training\n",
    "    random_seed=0, # Consistent with other random seeds\n",
    "    logging_level='Silent' # We already have the time function to show time elapsed\n",
    ")\n",
    "catmodel.fit(\n",
    "    X_train, y_train,\n",
    "    eval_set=(X_test, y_test),\n",
    "    plot=False\n",
    "); #fit model\n",
    "\n",
    "catscore = round(catmodel.score(X_test, y_test) * 100, 2) #round score \n",
    "print('\\nAccuracy Percentage:', catscore)"
   ]
  },
  {
   "cell_type": "code",
   "execution_count": 34,
   "metadata": {
    "ExecuteTime": {
     "end_time": "2020-09-25T22:52:24.888521Z",
     "start_time": "2020-09-25T22:52:24.850534Z"
    }
   },
   "outputs": [
    {
     "name": "stdout",
     "output_type": "stream",
     "text": [
      "\n",
      "Actual vs. Predicted \n",
      "\n",
      "Predicted    0   1  All\n",
      "True                   \n",
      "0          575   4  579\n",
      "1           11  77   88\n",
      "All        586  81  667\n",
      "\n",
      "\n",
      "\n",
      "               precision    recall  f1-score   support\n",
      "\n",
      "           0       0.98      0.99      0.99       579\n",
      "           1       0.95      0.88      0.91        88\n",
      "\n",
      "    accuracy                           0.98       667\n",
      "   macro avg       0.97      0.93      0.95       667\n",
      "weighted avg       0.98      0.98      0.98       667\n",
      "\n"
     ]
    }
   ],
   "source": [
    "pred_y_cat = catmodel.predict(X_test)\n",
    "print('\\nActual vs. Predicted \\n') #confusion matrix\n",
    "print(pd.crosstab(y_test, pred_y_cat, rownames=['True'], colnames=['Predicted'], margins=True))\n",
    "\n",
    "print('\\n\\n\\n', classification_report(y_test, pred_y_cat))"
   ]
  },
  {
   "cell_type": "markdown",
   "metadata": {},
   "source": [
    "## K-Nearest Neighbors"
   ]
  },
  {
   "cell_type": "code",
   "execution_count": 35,
   "metadata": {
    "ExecuteTime": {
     "end_time": "2020-09-25T22:52:24.952100Z",
     "start_time": "2020-09-25T22:52:24.890148Z"
    }
   },
   "outputs": [
    {
     "name": "stdout",
     "output_type": "stream",
     "text": [
      "\n",
      "Accuracy Percentage: 91.9\n",
      "CPU times: user 58.9 ms, sys: 819 µs, total: 59.8 ms\n",
      "Wall time: 59.2 ms\n"
     ]
    }
   ],
   "source": [
    "%%time \n",
    "\n",
    "knn = KNeighborsClassifier()\n",
    "knn.fit(X_train, y_train) #fit model\n",
    "\n",
    "knn_score = round(knn.score(X_test, y_test) * 100, 2) #round score\n",
    "print('\\nAccuracy Percentage:', knn_score)"
   ]
  },
  {
   "cell_type": "code",
   "execution_count": 36,
   "metadata": {
    "ExecuteTime": {
     "end_time": "2020-09-25T22:52:25.043142Z",
     "start_time": "2020-09-25T22:52:24.954274Z"
    }
   },
   "outputs": [
    {
     "name": "stdout",
     "output_type": "stream",
     "text": [
      "\n",
      " Actual vs. Predicted \n",
      "\n",
      "Predicted    0   1  All\n",
      "True                   \n",
      "0          571   8  579\n",
      "1           46  42   88\n",
      "All        617  50  667\n",
      "\n",
      "\n",
      "\n",
      "               precision    recall  f1-score   support\n",
      "\n",
      "           0       0.93      0.99      0.95       579\n",
      "           1       0.84      0.48      0.61        88\n",
      "\n",
      "    accuracy                           0.92       667\n",
      "   macro avg       0.88      0.73      0.78       667\n",
      "weighted avg       0.91      0.92      0.91       667\n",
      "\n"
     ]
    }
   ],
   "source": [
    "pred_y_knn = knn.predict(X_test) \n",
    "\n",
    "print('\\n Actual vs. Predicted \\n') # Confusion matrix\n",
    "print(pd.crosstab(y_test, pred_y_knn, rownames=['True'], colnames=['Predicted'], margins=True))\n",
    "\n",
    "print('\\n\\n\\n', classification_report(y_test, pred_y_knn)) #took atleast 45 minutes"
   ]
  },
  {
   "cell_type": "markdown",
   "metadata": {},
   "source": [
    "## Support Vector Machine"
   ]
  },
  {
   "cell_type": "code",
   "execution_count": 37,
   "metadata": {
    "ExecuteTime": {
     "end_time": "2020-09-25T22:52:25.163570Z",
     "start_time": "2020-09-25T22:52:25.044466Z"
    }
   },
   "outputs": [
    {
     "name": "stdout",
     "output_type": "stream",
     "text": [
      "\n",
      "Accuracy Percentage: 87.11\n",
      "CPU times: user 116 ms, sys: 1.36 ms, total: 118 ms\n",
      "Wall time: 116 ms\n"
     ]
    },
    {
     "name": "stderr",
     "output_type": "stream",
     "text": [
      "/Users/miguelsantana/opt/anaconda3/envs/learn-env/lib/python3.6/site-packages/sklearn/svm/base.py:929: ConvergenceWarning: Liblinear failed to converge, increase the number of iterations.\n",
      "  \"the number of iterations.\", ConvergenceWarning)\n"
     ]
    }
   ],
   "source": [
    "%%time \n",
    "\n",
    "# Linear SVC/SupportVectorMachine \n",
    "linear_svc = LinearSVC()\n",
    "linear_svc.fit(X_train, y_train)\n",
    "linear_svc_score = round(linear_svc.score(X_test, y_test) * 100, 2) #round score\n",
    "print('\\nAccuracy Percentage:', linear_svc_score)"
   ]
  },
  {
   "cell_type": "code",
   "execution_count": 38,
   "metadata": {
    "ExecuteTime": {
     "end_time": "2020-09-25T22:52:25.198577Z",
     "start_time": "2020-09-25T22:52:25.165523Z"
    }
   },
   "outputs": [
    {
     "name": "stdout",
     "output_type": "stream",
     "text": [
      "\n",
      " Actual vs. Predicted \n",
      "\n",
      "Predicted    0   1  All\n",
      "True                   \n",
      "0          568  11  579\n",
      "1           75  13   88\n",
      "All        643  24  667\n",
      "\n",
      "\n",
      "\n",
      "               precision    recall  f1-score   support\n",
      "\n",
      "           0       0.88      0.98      0.93       579\n",
      "           1       0.54      0.15      0.23        88\n",
      "\n",
      "    accuracy                           0.87       667\n",
      "   macro avg       0.71      0.56      0.58       667\n",
      "weighted avg       0.84      0.87      0.84       667\n",
      "\n",
      "CPU times: user 29.8 ms, sys: 2.08 ms, total: 31.9 ms\n",
      "Wall time: 30.2 ms\n"
     ]
    }
   ],
   "source": [
    "%%time \n",
    "\n",
    "pred_y_svc = linear_svc.predict(X_test) \n",
    "\n",
    "print('\\n Actual vs. Predicted \\n') #confusion matrix\n",
    "print(pd.crosstab(y_test, pred_y_svc, rownames=['True'], colnames=['Predicted'], margins=True))\n",
    "\n",
    "print('\\n\\n\\n', classification_report(y_test, pred_y_svc))"
   ]
  },
  {
   "cell_type": "markdown",
   "metadata": {},
   "source": [
    "## Gaussian Naive Bayes"
   ]
  },
  {
   "cell_type": "code",
   "execution_count": 39,
   "metadata": {
    "ExecuteTime": {
     "end_time": "2020-09-25T22:52:25.205671Z",
     "start_time": "2020-09-25T22:52:25.200054Z"
    }
   },
   "outputs": [
    {
     "name": "stdout",
     "output_type": "stream",
     "text": [
      "Accuracy Percentage:  85.46\n",
      "CPU times: user 2.33 ms, sys: 876 µs, total: 3.21 ms\n",
      "Wall time: 2.51 ms\n"
     ]
    }
   ],
   "source": [
    "%%time \n",
    "\n",
    "clf = GaussianNB() #gaissian naive bayes\n",
    "clf.fit(X_train, y_train) #fit the model\n",
    "\n",
    "clf_score = round(clf.score(X_test, y_test) * 100, 2)\n",
    "print(\"Accuracy Percentage: \", clf_score)"
   ]
  },
  {
   "cell_type": "code",
   "execution_count": 40,
   "metadata": {
    "ExecuteTime": {
     "end_time": "2020-09-25T22:52:25.244218Z",
     "start_time": "2020-09-25T22:52:25.207107Z"
    }
   },
   "outputs": [
    {
     "name": "stdout",
     "output_type": "stream",
     "text": [
      "\n",
      " Actual vs. Predicted \n",
      "\n",
      "Predicted    0    1  All\n",
      "True                    \n",
      "0          520   59  579\n",
      "1           38   50   88\n",
      "All        558  109  667\n",
      "\n",
      "\n",
      "\n",
      "               precision    recall  f1-score   support\n",
      "\n",
      "           0       0.93      0.90      0.91       579\n",
      "           1       0.46      0.57      0.51        88\n",
      "\n",
      "    accuracy                           0.85       667\n",
      "   macro avg       0.70      0.73      0.71       667\n",
      "weighted avg       0.87      0.85      0.86       667\n",
      "\n"
     ]
    }
   ],
   "source": [
    "pred_y_clf = clf.predict(X_test) #y predicted\n",
    "\n",
    "print('\\n Actual vs. Predicted \\n') #confusion matrix\n",
    "print(pd.crosstab(y_test, pred_y_clf, rownames=['True'], colnames=['Predicted'], margins=True))\n",
    "\n",
    "print('\\n\\n\\n', classification_report(y_test, pred_y_clf))"
   ]
  },
  {
   "cell_type": "markdown",
   "metadata": {},
   "source": [
    "## Decision Tree"
   ]
  },
  {
   "cell_type": "code",
   "execution_count": 41,
   "metadata": {
    "ExecuteTime": {
     "end_time": "2020-09-25T22:52:25.264239Z",
     "start_time": "2020-09-25T22:52:25.245680Z"
    }
   },
   "outputs": [
    {
     "name": "stdout",
     "output_type": "stream",
     "text": [
      "Accuracy Percentage:  95.05\n",
      "CPU times: user 15.5 ms, sys: 818 µs, total: 16.3 ms\n",
      "Wall time: 15.5 ms\n"
     ]
    }
   ],
   "source": [
    "%%time \n",
    "\n",
    "decision_tree = DecisionTreeClassifier()# Decision Tree \n",
    "decision_tree.fit(X_train, y_train) #fit the model\n",
    "decision_tree_score = round(decision_tree.score(X_test, y_test) * 100, 2) #round the result\n",
    "print(\"Accuracy Percentage: \", decision_tree_score)"
   ]
  },
  {
   "cell_type": "code",
   "execution_count": 42,
   "metadata": {
    "ExecuteTime": {
     "end_time": "2020-09-25T22:52:25.303341Z",
     "start_time": "2020-09-25T22:52:25.265920Z"
    },
    "scrolled": true
   },
   "outputs": [
    {
     "name": "stdout",
     "output_type": "stream",
     "text": [
      "\n",
      " Actual vs. Predicted \n",
      "\n",
      "Predicted    0   1  All\n",
      "True                   \n",
      "0          557  22  579\n",
      "1           11  77   88\n",
      "All        568  99  667\n",
      "\n",
      "\n",
      "\n",
      "               precision    recall  f1-score   support\n",
      "\n",
      "           0       0.98      0.96      0.97       579\n",
      "           1       0.78      0.88      0.82        88\n",
      "\n",
      "    accuracy                           0.95       667\n",
      "   macro avg       0.88      0.92      0.90       667\n",
      "weighted avg       0.95      0.95      0.95       667\n",
      "\n"
     ]
    }
   ],
   "source": [
    "pred_y_decision_tree = decision_tree.predict(X_test) \n",
    "\n",
    "print('\\n Actual vs. Predicted \\n') #confusion matrix\n",
    "print(pd.crosstab(y_test, pred_y_decision_tree, rownames=['True'], colnames=['Predicted'], margins=True))\n",
    "\n",
    "print('\\n\\n\\n', classification_report(y_test, pred_y_decision_tree))"
   ]
  },
  {
   "cell_type": "markdown",
   "metadata": {},
   "source": [
    "## Random Forest"
   ]
  },
  {
   "cell_type": "code",
   "execution_count": 43,
   "metadata": {
    "ExecuteTime": {
     "end_time": "2020-09-25T22:52:25.601502Z",
     "start_time": "2020-09-25T22:52:25.304810Z"
    }
   },
   "outputs": [
    {
     "name": "stdout",
     "output_type": "stream",
     "text": [
      "Accuracy Percentage:  97.75\n",
      "CPU times: user 292 ms, sys: 2.54 ms, total: 294 ms\n",
      "Wall time: 294 ms\n"
     ]
    }
   ],
   "source": [
    "%%time \n",
    "\n",
    "random_forest = RandomForestClassifier(n_estimators=100) # random forest \n",
    "random_forest.fit(X_train, y_train) #fit the model\n",
    "random_forest_score = round(random_forest.score(X_test, y_test) * 100, 2) #round the result\n",
    "print(\"Accuracy Percentage: \", random_forest_score)"
   ]
  },
  {
   "cell_type": "code",
   "execution_count": 44,
   "metadata": {
    "ExecuteTime": {
     "end_time": "2020-09-25T22:52:25.648906Z",
     "start_time": "2020-09-25T22:52:25.603197Z"
    }
   },
   "outputs": [
    {
     "name": "stdout",
     "output_type": "stream",
     "text": [
      "\n",
      " Actual vs. Predicted \n",
      "\n",
      "Predicted    0   1  All\n",
      "True                   \n",
      "0          575   4  579\n",
      "1           11  77   88\n",
      "All        586  81  667\n",
      "\n",
      "\n",
      "\n",
      "               precision    recall  f1-score   support\n",
      "\n",
      "           0       0.98      0.99      0.99       579\n",
      "           1       0.95      0.88      0.91        88\n",
      "\n",
      "    accuracy                           0.98       667\n",
      "   macro avg       0.97      0.93      0.95       667\n",
      "weighted avg       0.98      0.98      0.98       667\n",
      "\n"
     ]
    }
   ],
   "source": [
    "pred_y_random_forest = random_forest.predict(X_test) \n",
    "\n",
    "print('\\n Actual vs. Predicted \\n') #confusion matrix\n",
    "print(pd.crosstab( y_test, pred_y_random_forest, rownames=['True'], colnames=['Predicted'], margins=True))\n",
    "\n",
    "print('\\n\\n\\n', classification_report(y_test, pred_y_random_forest))"
   ]
  },
  {
   "cell_type": "markdown",
   "metadata": {},
   "source": [
    "## Gradient Boosting"
   ]
  },
  {
   "cell_type": "code",
   "execution_count": 45,
   "metadata": {
    "ExecuteTime": {
     "end_time": "2020-09-25T22:52:25.716483Z",
     "start_time": "2020-09-25T22:52:25.650489Z"
    }
   },
   "outputs": [
    {
     "name": "stdout",
     "output_type": "stream",
     "text": [
      "Accuracy Percentage:  89.06\n",
      "CPU times: user 63 ms, sys: 1 ms, total: 64 ms\n",
      "Wall time: 63.2 ms\n"
     ]
    }
   ],
   "source": [
    "%%time \n",
    "\n",
    "\n",
    "clf_gb = GradientBoostingClassifier(n_estimators=100, \n",
    "                                 max_depth=1, \n",
    "                                 random_state=0)\n",
    "clf_gb.fit(X_train, y_train)\n",
    "clf_gb_score = round(clf_gb.score(X_test, y_test) * 100, 2)\n",
    "print(\"Accuracy Percentage: \", clf_gb_score)"
   ]
  },
  {
   "cell_type": "code",
   "execution_count": 46,
   "metadata": {
    "ExecuteTime": {
     "end_time": "2020-09-25T22:52:25.752217Z",
     "start_time": "2020-09-25T22:52:25.718231Z"
    },
    "scrolled": true
   },
   "outputs": [
    {
     "name": "stdout",
     "output_type": "stream",
     "text": [
      "\n",
      " Actual vs. Predicted \n",
      "\n",
      "Predicted    0   1  All\n",
      "True                   \n",
      "0          554  25  579\n",
      "1           48  40   88\n",
      "All        602  65  667\n",
      "\n",
      "\n",
      "\n",
      "               precision    recall  f1-score   support\n",
      "\n",
      "           0       0.92      0.96      0.94       579\n",
      "           1       0.62      0.45      0.52        88\n",
      "\n",
      "    accuracy                           0.89       667\n",
      "   macro avg       0.77      0.71      0.73       667\n",
      "weighted avg       0.88      0.89      0.88       667\n",
      "\n",
      "CPU times: user 30.8 ms, sys: 1.55 ms, total: 32.3 ms\n",
      "Wall time: 31.2 ms\n"
     ]
    }
   ],
   "source": [
    "%%time \n",
    "\n",
    "pred_y_clf_gb = clf_gb.predict(X_test) \n",
    "\n",
    "print('\\n Actual vs. Predicted \\n') #confusion matrix\n",
    "print(pd.crosstab( y_test, pred_y_clf_gb, rownames=['True'], colnames=['Predicted'], margins=True))\n",
    "\n",
    "print('\\n\\n\\n', classification_report(y_test, pred_y_clf_gb))"
   ]
  },
  {
   "cell_type": "markdown",
   "metadata": {},
   "source": [
    "## Adaboost"
   ]
  },
  {
   "cell_type": "code",
   "execution_count": 47,
   "metadata": {
    "ExecuteTime": {
     "end_time": "2020-09-25T22:52:27.662975Z",
     "start_time": "2020-09-25T22:52:25.753811Z"
    }
   },
   "outputs": [
    {
     "name": "stdout",
     "output_type": "stream",
     "text": [
      "Accuracy Percentage:  96.1\n",
      "CPU times: user 1.9 s, sys: 3.08 ms, total: 1.91 s\n",
      "Wall time: 1.91 s\n"
     ]
    }
   ],
   "source": [
    "%%time \n",
    "\n",
    "bdt = AdaBoostClassifier(DecisionTreeClassifier(max_depth=8), \n",
    "                         algorithm=\"SAMME\",\n",
    "                         n_estimators=200)\n",
    "bdt.fit(X_train, y_train) #fit model\n",
    "bdt_score = round(bdt.score(X_test, y_test) * 100, 2) #round score\n",
    "print(\"Accuracy Percentage: \", bdt_score) #4:45"
   ]
  },
  {
   "cell_type": "code",
   "execution_count": 48,
   "metadata": {
    "ExecuteTime": {
     "end_time": "2020-09-25T22:52:27.716391Z",
     "start_time": "2020-09-25T22:52:27.664809Z"
    }
   },
   "outputs": [
    {
     "name": "stdout",
     "output_type": "stream",
     "text": [
      "\n",
      " Actual vs. Predicted \n",
      "\n",
      "Predicted    0   1  All\n",
      "True                   \n",
      "0          575   4  579\n",
      "1           22  66   88\n",
      "All        597  70  667\n",
      "\n",
      "\n",
      "\n",
      "               precision    recall  f1-score   support\n",
      "\n",
      "           0       0.96      0.99      0.98       579\n",
      "           1       0.94      0.75      0.84        88\n",
      "\n",
      "    accuracy                           0.96       667\n",
      "   macro avg       0.95      0.87      0.91       667\n",
      "weighted avg       0.96      0.96      0.96       667\n",
      "\n",
      "CPU times: user 48.4 ms, sys: 1.6 ms, total: 50 ms\n",
      "Wall time: 48.9 ms\n"
     ]
    }
   ],
   "source": [
    "%%time \n",
    "\n",
    "pred_y_bdt = bdt.predict(X_test) \n",
    "\n",
    "print('\\n Actual vs. Predicted \\n') #confusion matrix\n",
    "print(pd.crosstab( y_test, pred_y_bdt, rownames=['True'], colnames=['Predicted'], margins=True))\n",
    "\n",
    "print('\\n\\n\\n', classification_report(y_test, pred_y_bdt))"
   ]
  },
  {
   "cell_type": "markdown",
   "metadata": {},
   "source": [
    "# Interpret Models"
   ]
  },
  {
   "cell_type": "code",
   "execution_count": 49,
   "metadata": {
    "ExecuteTime": {
     "end_time": "2020-09-25T22:52:27.725471Z",
     "start_time": "2020-09-25T22:52:27.718022Z"
    }
   },
   "outputs": [
    {
     "data": {
      "text/html": [
       "<div>\n",
       "<style scoped>\n",
       "    .dataframe tbody tr th:only-of-type {\n",
       "        vertical-align: middle;\n",
       "    }\n",
       "\n",
       "    .dataframe tbody tr th {\n",
       "        vertical-align: top;\n",
       "    }\n",
       "\n",
       "    .dataframe thead th {\n",
       "        text-align: right;\n",
       "    }\n",
       "</style>\n",
       "<table border=\"1\" class=\"dataframe\">\n",
       "  <thead>\n",
       "    <tr style=\"text-align: right;\">\n",
       "      <th></th>\n",
       "      <th>Model</th>\n",
       "      <th>Score</th>\n",
       "    </tr>\n",
       "  </thead>\n",
       "  <tbody>\n",
       "    <tr>\n",
       "      <th>2</th>\n",
       "      <td>Random Forest</td>\n",
       "      <td>97.75</td>\n",
       "    </tr>\n",
       "    <tr>\n",
       "      <th>8</th>\n",
       "      <td>CatBoost</td>\n",
       "      <td>97.75</td>\n",
       "    </tr>\n",
       "    <tr>\n",
       "      <th>6</th>\n",
       "      <td>AdaBoostClassifier</td>\n",
       "      <td>96.10</td>\n",
       "    </tr>\n",
       "    <tr>\n",
       "      <th>5</th>\n",
       "      <td>Decision Tree</td>\n",
       "      <td>95.05</td>\n",
       "    </tr>\n",
       "    <tr>\n",
       "      <th>1</th>\n",
       "      <td>KNN</td>\n",
       "      <td>91.90</td>\n",
       "    </tr>\n",
       "    <tr>\n",
       "      <th>7</th>\n",
       "      <td>GradientBoostingClassifier</td>\n",
       "      <td>89.06</td>\n",
       "    </tr>\n",
       "    <tr>\n",
       "      <th>4</th>\n",
       "      <td>Linear SVC (SVM)</td>\n",
       "      <td>87.11</td>\n",
       "    </tr>\n",
       "    <tr>\n",
       "      <th>0</th>\n",
       "      <td>Logistic Regression</td>\n",
       "      <td>86.81</td>\n",
       "    </tr>\n",
       "    <tr>\n",
       "      <th>3</th>\n",
       "      <td>Gaussian Naive Bayes</td>\n",
       "      <td>85.46</td>\n",
       "    </tr>\n",
       "  </tbody>\n",
       "</table>\n",
       "</div>"
      ],
      "text/plain": [
       "                        Model  Score\n",
       "2               Random Forest  97.75\n",
       "8                    CatBoost  97.75\n",
       "6          AdaBoostClassifier  96.10\n",
       "5               Decision Tree  95.05\n",
       "1                         KNN  91.90\n",
       "7  GradientBoostingClassifier  89.06\n",
       "4            Linear SVC (SVM)  87.11\n",
       "0         Logistic Regression  86.81\n",
       "3        Gaussian Naive Bayes  85.46"
      ]
     },
     "execution_count": 49,
     "metadata": {},
     "output_type": "execute_result"
    }
   ],
   "source": [
    "# results dataframe\n",
    "models = pd.DataFrame({\n",
    "    'Model': ['Logistic Regression',\n",
    "              'KNN', \n",
    "              'Random Forest', \n",
    "              'Gaussian Naive Bayes',\n",
    "              'Linear SVC (SVM)', \n",
    "              'Decision Tree', \n",
    "              'AdaBoostClassifier', \n",
    "              'GradientBoostingClassifier',\n",
    "              'CatBoost',\n",
    "             ],\n",
    "    'Score': [lrs, \n",
    "              knn_score, \n",
    "              random_forest_score, \n",
    "              clf_score,\n",
    "              linear_svc_score, \n",
    "              decision_tree_score,\n",
    "              bdt_score, \n",
    "              clf_gb_score, \n",
    "              catscore,\n",
    "             ]})\n",
    "\n",
    "models.sort_values(by='Score', ascending=False) #sorting by score"
   ]
  },
  {
   "cell_type": "markdown",
   "metadata": {
    "ExecuteTime": {
     "end_time": "2020-09-25T19:05:42.603818Z",
     "start_time": "2020-09-25T19:05:42.599737Z"
    }
   },
   "source": [
    "<div class=\"alert alert-success\">\n",
    "\n",
    "It looks like Catboost is the most accurate with Random Forest\n",
    "coming in at close second followed by AdaBoost. The least accurate is \n",
    "Gaussian Naive Bayes coming in 12 percent lower than Catboost\n",
    "\n",
    "</div>"
   ]
  },
  {
   "cell_type": "markdown",
   "metadata": {},
   "source": [
    "## Random Forest Pipeline with GridSearchCV"
   ]
  },
  {
   "cell_type": "markdown",
   "metadata": {},
   "source": [
    "Let's see if we can improve our results at all using GridSearch. Gridsearch will run and compare each combination of parameters in a set of parameters that we choose."
   ]
  },
  {
   "cell_type": "code",
   "execution_count": 50,
   "metadata": {
    "ExecuteTime": {
     "end_time": "2020-09-25T22:52:27.731956Z",
     "start_time": "2020-09-25T22:52:27.727122Z"
    }
   },
   "outputs": [],
   "source": [
    "y_pipe = df['churn_True']\n",
    "X_pipe = df.drop(['churn_False', 'churn_True'], axis=1) \n",
    "X_train, X_test, y_train, y_test = train_test_split(X_pipe, y_pipe, test_size=0.2, random_state=0)"
   ]
  },
  {
   "cell_type": "code",
   "execution_count": 51,
   "metadata": {
    "ExecuteTime": {
     "end_time": "2020-09-25T22:52:33.877192Z",
     "start_time": "2020-09-25T22:52:27.733261Z"
    }
   },
   "outputs": [
    {
     "name": "stdout",
     "output_type": "stream",
     "text": [
      "Fitting 3 folds for each of 8 candidates, totalling 24 fits\n",
      "[CV] clf__max_depth=None, clf__max_features=auto, clf__min_samples_leaf=1, clf__min_samples_split=2, clf__n_estimators=100 \n"
     ]
    },
    {
     "name": "stderr",
     "output_type": "stream",
     "text": [
      "[Parallel(n_jobs=1)]: Using backend SequentialBackend with 1 concurrent workers.\n"
     ]
    },
    {
     "name": "stdout",
     "output_type": "stream",
     "text": [
      "[CV]  clf__max_depth=None, clf__max_features=auto, clf__min_samples_leaf=1, clf__min_samples_split=2, clf__n_estimators=100, total=   0.3s\n",
      "[CV] clf__max_depth=None, clf__max_features=auto, clf__min_samples_leaf=1, clf__min_samples_split=2, clf__n_estimators=100 \n"
     ]
    },
    {
     "name": "stderr",
     "output_type": "stream",
     "text": [
      "[Parallel(n_jobs=1)]: Done   1 out of   1 | elapsed:    0.3s remaining:    0.0s\n"
     ]
    },
    {
     "name": "stdout",
     "output_type": "stream",
     "text": [
      "[CV]  clf__max_depth=None, clf__max_features=auto, clf__min_samples_leaf=1, clf__min_samples_split=2, clf__n_estimators=100, total=   0.3s\n",
      "[CV] clf__max_depth=None, clf__max_features=auto, clf__min_samples_leaf=1, clf__min_samples_split=2, clf__n_estimators=100 \n",
      "[CV]  clf__max_depth=None, clf__max_features=auto, clf__min_samples_leaf=1, clf__min_samples_split=2, clf__n_estimators=100, total=   0.2s\n",
      "[CV] clf__max_depth=None, clf__max_features=auto, clf__min_samples_leaf=1, clf__min_samples_split=10, clf__n_estimators=100 \n",
      "[CV]  clf__max_depth=None, clf__max_features=auto, clf__min_samples_leaf=1, clf__min_samples_split=10, clf__n_estimators=100, total=   0.2s\n",
      "[CV] clf__max_depth=None, clf__max_features=auto, clf__min_samples_leaf=1, clf__min_samples_split=10, clf__n_estimators=100 \n",
      "[CV]  clf__max_depth=None, clf__max_features=auto, clf__min_samples_leaf=1, clf__min_samples_split=10, clf__n_estimators=100, total=   0.3s\n",
      "[CV] clf__max_depth=None, clf__max_features=auto, clf__min_samples_leaf=1, clf__min_samples_split=10, clf__n_estimators=100 \n",
      "[CV]  clf__max_depth=None, clf__max_features=auto, clf__min_samples_leaf=1, clf__min_samples_split=10, clf__n_estimators=100, total=   0.2s\n",
      "[CV] clf__max_depth=None, clf__max_features=auto, clf__min_samples_leaf=2, clf__min_samples_split=2, clf__n_estimators=100 \n",
      "[CV]  clf__max_depth=None, clf__max_features=auto, clf__min_samples_leaf=2, clf__min_samples_split=2, clf__n_estimators=100, total=   0.2s\n",
      "[CV] clf__max_depth=None, clf__max_features=auto, clf__min_samples_leaf=2, clf__min_samples_split=2, clf__n_estimators=100 \n",
      "[CV]  clf__max_depth=None, clf__max_features=auto, clf__min_samples_leaf=2, clf__min_samples_split=2, clf__n_estimators=100, total=   0.3s\n",
      "[CV] clf__max_depth=None, clf__max_features=auto, clf__min_samples_leaf=2, clf__min_samples_split=2, clf__n_estimators=100 \n",
      "[CV]  clf__max_depth=None, clf__max_features=auto, clf__min_samples_leaf=2, clf__min_samples_split=2, clf__n_estimators=100, total=   0.2s\n",
      "[CV] clf__max_depth=None, clf__max_features=auto, clf__min_samples_leaf=2, clf__min_samples_split=10, clf__n_estimators=100 \n",
      "[CV]  clf__max_depth=None, clf__max_features=auto, clf__min_samples_leaf=2, clf__min_samples_split=10, clf__n_estimators=100, total=   0.2s\n",
      "[CV] clf__max_depth=None, clf__max_features=auto, clf__min_samples_leaf=2, clf__min_samples_split=10, clf__n_estimators=100 \n",
      "[CV]  clf__max_depth=None, clf__max_features=auto, clf__min_samples_leaf=2, clf__min_samples_split=10, clf__n_estimators=100, total=   0.2s\n",
      "[CV] clf__max_depth=None, clf__max_features=auto, clf__min_samples_leaf=2, clf__min_samples_split=10, clf__n_estimators=100 \n",
      "[CV]  clf__max_depth=None, clf__max_features=auto, clf__min_samples_leaf=2, clf__min_samples_split=10, clf__n_estimators=100, total=   0.2s\n",
      "[CV] clf__max_depth=None, clf__max_features=sqrt, clf__min_samples_leaf=1, clf__min_samples_split=2, clf__n_estimators=100 \n",
      "[CV]  clf__max_depth=None, clf__max_features=sqrt, clf__min_samples_leaf=1, clf__min_samples_split=2, clf__n_estimators=100, total=   0.2s\n",
      "[CV] clf__max_depth=None, clf__max_features=sqrt, clf__min_samples_leaf=1, clf__min_samples_split=2, clf__n_estimators=100 \n",
      "[CV]  clf__max_depth=None, clf__max_features=sqrt, clf__min_samples_leaf=1, clf__min_samples_split=2, clf__n_estimators=100, total=   0.3s\n",
      "[CV] clf__max_depth=None, clf__max_features=sqrt, clf__min_samples_leaf=1, clf__min_samples_split=2, clf__n_estimators=100 \n",
      "[CV]  clf__max_depth=None, clf__max_features=sqrt, clf__min_samples_leaf=1, clf__min_samples_split=2, clf__n_estimators=100, total=   0.2s\n",
      "[CV] clf__max_depth=None, clf__max_features=sqrt, clf__min_samples_leaf=1, clf__min_samples_split=10, clf__n_estimators=100 \n",
      "[CV]  clf__max_depth=None, clf__max_features=sqrt, clf__min_samples_leaf=1, clf__min_samples_split=10, clf__n_estimators=100, total=   0.2s\n",
      "[CV] clf__max_depth=None, clf__max_features=sqrt, clf__min_samples_leaf=1, clf__min_samples_split=10, clf__n_estimators=100 \n",
      "[CV]  clf__max_depth=None, clf__max_features=sqrt, clf__min_samples_leaf=1, clf__min_samples_split=10, clf__n_estimators=100, total=   0.2s\n",
      "[CV] clf__max_depth=None, clf__max_features=sqrt, clf__min_samples_leaf=1, clf__min_samples_split=10, clf__n_estimators=100 \n",
      "[CV]  clf__max_depth=None, clf__max_features=sqrt, clf__min_samples_leaf=1, clf__min_samples_split=10, clf__n_estimators=100, total=   0.2s\n",
      "[CV] clf__max_depth=None, clf__max_features=sqrt, clf__min_samples_leaf=2, clf__min_samples_split=2, clf__n_estimators=100 \n",
      "[CV]  clf__max_depth=None, clf__max_features=sqrt, clf__min_samples_leaf=2, clf__min_samples_split=2, clf__n_estimators=100, total=   0.2s\n",
      "[CV] clf__max_depth=None, clf__max_features=sqrt, clf__min_samples_leaf=2, clf__min_samples_split=2, clf__n_estimators=100 \n",
      "[CV]  clf__max_depth=None, clf__max_features=sqrt, clf__min_samples_leaf=2, clf__min_samples_split=2, clf__n_estimators=100, total=   0.2s\n",
      "[CV] clf__max_depth=None, clf__max_features=sqrt, clf__min_samples_leaf=2, clf__min_samples_split=2, clf__n_estimators=100 \n",
      "[CV]  clf__max_depth=None, clf__max_features=sqrt, clf__min_samples_leaf=2, clf__min_samples_split=2, clf__n_estimators=100, total=   0.2s\n",
      "[CV] clf__max_depth=None, clf__max_features=sqrt, clf__min_samples_leaf=2, clf__min_samples_split=10, clf__n_estimators=100 \n",
      "[CV]  clf__max_depth=None, clf__max_features=sqrt, clf__min_samples_leaf=2, clf__min_samples_split=10, clf__n_estimators=100, total=   0.2s\n",
      "[CV] clf__max_depth=None, clf__max_features=sqrt, clf__min_samples_leaf=2, clf__min_samples_split=10, clf__n_estimators=100 \n",
      "[CV]  clf__max_depth=None, clf__max_features=sqrt, clf__min_samples_leaf=2, clf__min_samples_split=10, clf__n_estimators=100, total=   0.2s\n",
      "[CV] clf__max_depth=None, clf__max_features=sqrt, clf__min_samples_leaf=2, clf__min_samples_split=10, clf__n_estimators=100 \n",
      "[CV]  clf__max_depth=None, clf__max_features=sqrt, clf__min_samples_leaf=2, clf__min_samples_split=10, clf__n_estimators=100, total=   0.2s\n"
     ]
    },
    {
     "name": "stderr",
     "output_type": "stream",
     "text": [
      "[Parallel(n_jobs=1)]: Done  24 out of  24 | elapsed:    5.8s finished\n"
     ]
    },
    {
     "name": "stdout",
     "output_type": "stream",
     "text": [
      "CPU times: user 42.2 s, sys: 238 ms, total: 42.4 s\n",
      "Wall time: 6.13 s\n"
     ]
    },
    {
     "data": {
      "text/plain": [
       "GridSearchCV(cv=3, error_score='raise-deprecating',\n",
       "             estimator=Pipeline(memory=None,\n",
       "                                steps=[('scl',\n",
       "                                        StandardScaler(copy=True,\n",
       "                                                       with_mean=True,\n",
       "                                                       with_std=True)),\n",
       "                                       ('pca',\n",
       "                                        PCA(copy=True, iterated_power='auto',\n",
       "                                            n_components=5, random_state=None,\n",
       "                                            svd_solver='auto', tol=0.0,\n",
       "                                            whiten=False)),\n",
       "                                       ('clf',\n",
       "                                        RandomForestClassifier(bootstrap=True,\n",
       "                                                               class_weight=None,\n",
       "                                                               criterion='gini',\n",
       "                                                               ma...\n",
       "                                                               oob_score=False,\n",
       "                                                               random_state=0,\n",
       "                                                               verbose=0,\n",
       "                                                               warm_start=False))],\n",
       "                                verbose=False),\n",
       "             iid='warn', n_jobs=None,\n",
       "             param_grid=[{'clf__max_depth': [None],\n",
       "                          'clf__max_features': ['auto', 'sqrt'],\n",
       "                          'clf__min_samples_leaf': [1, 2],\n",
       "                          'clf__min_samples_split': [2, 10],\n",
       "                          'clf__n_estimators': [100]}],\n",
       "             pre_dispatch='2*n_jobs', refit=True, return_train_score=False,\n",
       "             scoring='accuracy', verbose=2)"
      ]
     },
     "execution_count": 51,
     "metadata": {},
     "output_type": "execute_result"
    }
   ],
   "source": [
    "%%time\n",
    "\n",
    "from sklearn.pipeline import Pipeline\n",
    "from sklearn.model_selection import GridSearchCV\n",
    "from sklearn.decomposition import PCA \n",
    "\n",
    "# Creating a pipeline\n",
    "rf_pipe = Pipeline([('scl', StandardScaler()),\n",
    "                 ('pca', PCA(n_components=5)), #arbitrary number\n",
    "                 ('clf', RandomForestClassifier(random_state = 0))])\n",
    "\n",
    "\n",
    "# Set grid search params\n",
    "rf_grid_param = [ \n",
    "  {'clf__n_estimators': [100], \n",
    "   'clf__max_features': ['auto', 'sqrt'],\n",
    "   'clf__max_depth': [None],  \n",
    "   'clf__min_samples_leaf':[1, 2],   \n",
    "   'clf__min_samples_split':[2, 10],\n",
    "  }\n",
    "]\n",
    "\n",
    "# Construct grid search\n",
    "rf_gridsearch = GridSearchCV(estimator=rf_pipe,\n",
    "            param_grid=rf_grid_param,\n",
    "            scoring='accuracy',\n",
    "            cv=3, verbose=2)\n",
    "\n",
    "# Fit using grid search\n",
    "rf_gridsearch.fit(X_train, y_train)"
   ]
  },
  {
   "cell_type": "code",
   "execution_count": 52,
   "metadata": {
    "ExecuteTime": {
     "end_time": "2020-09-25T22:52:33.881198Z",
     "start_time": "2020-09-25T22:52:33.878778Z"
    }
   },
   "outputs": [
    {
     "name": "stdout",
     "output_type": "stream",
     "text": [
      "\n",
      "Best params:\n",
      " {'clf__max_depth': None, 'clf__max_features': 'auto', 'clf__min_samples_leaf': 1, 'clf__min_samples_split': 2, 'clf__n_estimators': 100}\n"
     ]
    }
   ],
   "source": [
    "# print best parameters\n",
    "print('\\nBest params:\\n', rf_gridsearch.best_params_)"
   ]
  },
  {
   "cell_type": "code",
   "execution_count": 53,
   "metadata": {
    "ExecuteTime": {
     "end_time": "2020-09-25T22:52:34.154373Z",
     "start_time": "2020-09-25T22:52:33.882728Z"
    }
   },
   "outputs": [
    {
     "name": "stdout",
     "output_type": "stream",
     "text": [
      "Accuracy Percentage:  97.6\n",
      "CPU times: user 268 ms, sys: 1.52 ms, total: 270 ms\n",
      "Wall time: 269 ms\n"
     ]
    }
   ],
   "source": [
    "%%time \n",
    "#applying best parameters to model\n",
    "random_forest = RandomForestClassifier(n_estimators=100, max_features='sqrt', min_samples_leaf= 2, min_samples_split= 10) # random forest \n",
    "random_forest.fit(X_train, y_train) #fit the model\n",
    "random_forest_score = round(random_forest.score(X_test, y_test) * 100, 2) #round the result\n",
    "print(\"Accuracy Percentage: \", random_forest_score)"
   ]
  },
  {
   "cell_type": "markdown",
   "metadata": {},
   "source": [
    "<div class=\"alert alert-success\">\n",
    "\n",
    "Gridsearch CV did not raise the accuracy of the model. Let's see if we can improve the accuracy in some of our other models by addressing our class imbalance problem.\n",
    "\n",
    "</div>"
   ]
  },
  {
   "cell_type": "markdown",
   "metadata": {},
   "source": [
    "## Class Imbalance"
   ]
  },
  {
   "cell_type": "markdown",
   "metadata": {},
   "source": [
    "Let's take a closer look at the breakdown of our target variable."
   ]
  },
  {
   "cell_type": "code",
   "execution_count": 54,
   "metadata": {
    "ExecuteTime": {
     "end_time": "2020-09-25T22:52:34.256081Z",
     "start_time": "2020-09-25T22:52:34.155946Z"
    }
   },
   "outputs": [
    {
     "data": {
      "image/png": "[encoded data removed]",
      "text/plain": [
       "<Figure size 432x288 with 1 Axes>"
      ]
     },
     "metadata": {
      "needs_background": "light"
     },
     "output_type": "display_data"
    }
   ],
   "source": [
    "# visualizing churn\n",
    "plt.bar(['Customer Retention', 'Customer Churn'], df.churn_True.value_counts().values, facecolor = 'blue',  linewidth=0.5)\n",
    "plt.title('Target Variable (Churn)\\n', fontsize=16)\n",
    "plt.xlabel('Classes')\n",
    "plt.ylabel('Churn')\n",
    "plt.show()"
   ]
  },
  {
   "cell_type": "markdown",
   "metadata": {
    "ExecuteTime": {
     "end_time": "2020-09-25T21:11:36.589090Z",
     "start_time": "2020-09-25T21:11:36.585374Z"
    }
   },
   "source": [
    "<div class=\"alert alert-success\">\n",
    "\n",
    "The graph above highlights that there is a a pretty high level of imbalance. We can remedy this using SMOTE.\n",
    "\n",
    "</div>"
   ]
  },
  {
   "cell_type": "markdown",
   "metadata": {},
   "source": [
    "## SMOTE (Synthetic Minority Over-sampling Technique)"
   ]
  },
  {
   "cell_type": "code",
   "execution_count": 55,
   "metadata": {
    "ExecuteTime": {
     "end_time": "2020-09-25T22:52:34.260871Z",
     "start_time": "2020-09-25T22:52:34.257766Z"
    }
   },
   "outputs": [],
   "source": [
    "# Separate target and features\n",
    "y = df['churn_True'] # setting y variable\n",
    "X = df.drop(['churn_False', 'churn_True'], axis=1) "
   ]
  },
  {
   "cell_type": "code",
   "execution_count": 56,
   "metadata": {
    "ExecuteTime": {
     "end_time": "2020-09-25T22:52:34.266318Z",
     "start_time": "2020-09-25T22:52:34.262346Z"
    }
   },
   "outputs": [],
   "source": [
    "X_scaled = scaler.fit_transform(X) #scale data"
   ]
  },
  {
   "cell_type": "code",
   "execution_count": 57,
   "metadata": {
    "ExecuteTime": {
     "end_time": "2020-09-25T22:52:34.270739Z",
     "start_time": "2020-09-25T22:52:34.267503Z"
    }
   },
   "outputs": [],
   "source": [
    "X_train, X_test, y_train, y_test = train_test_split(X_scaled, y, test_size=0.2, random_state=0) #test/train split"
   ]
  },
  {
   "cell_type": "code",
   "execution_count": 58,
   "metadata": {
    "ExecuteTime": {
     "end_time": "2020-09-25T22:52:34.323609Z",
     "start_time": "2020-09-25T22:52:34.271933Z"
    }
   },
   "outputs": [
    {
     "name": "stderr",
     "output_type": "stream",
     "text": [
      "/Users/miguelsantana/opt/anaconda3/envs/learn-env/lib/python3.6/site-packages/sklearn/externals/six.py:31: DeprecationWarning: The module is deprecated in version 0.21 and will be removed in version 0.23 since we've dropped support for Python 2.7. Please rely on the official version of six (https://pypi.org/project/six/).\n",
      "  \"(https://pypi.org/project/six/).\", DeprecationWarning)\n"
     ]
    }
   ],
   "source": [
    "from imblearn.over_sampling import SMOTE #import smote"
   ]
  },
  {
   "cell_type": "code",
   "execution_count": 59,
   "metadata": {
    "ExecuteTime": {
     "end_time": "2020-09-25T22:52:34.328348Z",
     "start_time": "2020-09-25T22:52:34.325775Z"
    }
   },
   "outputs": [],
   "source": [
    "smote = SMOTE(random_state=0) #random state 0 for consistency"
   ]
  },
  {
   "cell_type": "code",
   "execution_count": 60,
   "metadata": {
    "ExecuteTime": {
     "end_time": "2020-09-25T22:52:34.349439Z",
     "start_time": "2020-09-25T22:52:34.330144Z"
    }
   },
   "outputs": [
    {
     "name": "stdout",
     "output_type": "stream",
     "text": [
      "CPU times: user 16.1 ms, sys: 916 µs, total: 17 ms\n",
      "Wall time: 16.1 ms\n"
     ]
    }
   ],
   "source": [
    "%%time\n",
    "\n",
    "X_res, y_res = smote.fit_resample(X_train, y_train) #fitting smote to our train sets"
   ]
  },
  {
   "cell_type": "code",
   "execution_count": 61,
   "metadata": {
    "ExecuteTime": {
     "end_time": "2020-09-25T22:52:34.461021Z",
     "start_time": "2020-09-25T22:52:34.351226Z"
    },
    "scrolled": true
   },
   "outputs": [
    {
     "data": {
      "image/png": "[encoded data removed]",
      "text/plain": [
       "<Figure size 432x288 with 1 Axes>"
      ]
     },
     "metadata": {
      "needs_background": "light"
     },
     "output_type": "display_data"
    }
   ],
   "source": [
    "#updated bar graph to display amount of failed vs. successful campaigns post-SMOTE\n",
    "plt.bar(['Customer Retention', 'Customer Churn'], [sum(y_res), len(y_res)-sum(y_res)], facecolor = 'green',  linewidth=0.5)\n",
    "plt.title('Post-SMOTE Target Variable (Success)\\n', fontsize=16)\n",
    "plt.xlabel('Classes')\n",
    "plt.ylabel('Number of Campaigns')\n",
    "plt.show()"
   ]
  },
  {
   "cell_type": "markdown",
   "metadata": {},
   "source": [
    "<div class=\"alert alert-success\">\n",
    "\n",
    "It looks like our classes are balanced now. Let's proceed.\n",
    "\n",
    "</div>"
   ]
  },
  {
   "cell_type": "code",
   "execution_count": 62,
   "metadata": {
    "ExecuteTime": {
     "end_time": "2020-09-25T22:52:34.466148Z",
     "start_time": "2020-09-25T22:52:34.462949Z"
    }
   },
   "outputs": [
    {
     "name": "stdout",
     "output_type": "stream",
     "text": [
      "CPU times: user 61 µs, sys: 0 ns, total: 61 µs\n",
      "Wall time: 63.9 µs\n"
     ]
    }
   ],
   "source": [
    "%%time\n",
    "\n",
    "#just a few classifiers for sake of time\n",
    "l_r = LogisticRegression(penalty='l2', solver='liblinear')\n",
    "randomforest = RandomForestClassifier(n_estimators=100)\n",
    "cat_model = CatBoostClassifier(\n",
    "    custom_loss=['Accuracy'], # metric to use in training\n",
    "    random_seed=0, # consistent with other random seeds\n",
    "    logging_level='Silent' # time function will show time lapse\n",
    ")\n",
    "decisiontree = DecisionTreeClassifier()\n",
    "\n",
    "classifiers = [l_r, randomforest, cat_model, decisiontree] # list of classifiers\n",
    "classifiers_names = ['Logistic Regression', 'Random Forest','Cat Model', 'Decision Tree'] # respective names"
   ]
  },
  {
   "cell_type": "code",
   "execution_count": 63,
   "metadata": {
    "ExecuteTime": {
     "end_time": "2020-09-25T22:52:37.752180Z",
     "start_time": "2020-09-25T22:52:34.467796Z"
    }
   },
   "outputs": [
    {
     "name": "stdout",
     "output_type": "stream",
     "text": [
      "CPU times: user 28.2 s, sys: 1.06 s, total: 29.3 s\n",
      "Wall time: 3.28 s\n"
     ]
    }
   ],
   "source": [
    "%%time \n",
    "\n",
    "# iterating through a list of classifiers and appending their accuracy levels to a list of scores\n",
    "scores = []\n",
    "for i in range(len(classifiers)):\n",
    "    classifiers[i].fit(X_res, y_res)\n",
    "    scores.append(round(classifiers[i].score(X_test, y_test), 3))"
   ]
  },
  {
   "cell_type": "code",
   "execution_count": 64,
   "metadata": {
    "ExecuteTime": {
     "end_time": "2020-09-25T22:52:37.761279Z",
     "start_time": "2020-09-25T22:52:37.754650Z"
    }
   },
   "outputs": [
    {
     "data": {
      "text/html": [
       "<div>\n",
       "<style scoped>\n",
       "    .dataframe tbody tr th:only-of-type {\n",
       "        vertical-align: middle;\n",
       "    }\n",
       "\n",
       "    .dataframe tbody tr th {\n",
       "        vertical-align: top;\n",
       "    }\n",
       "\n",
       "    .dataframe thead th {\n",
       "        text-align: right;\n",
       "    }\n",
       "</style>\n",
       "<table border=\"1\" class=\"dataframe\">\n",
       "  <thead>\n",
       "    <tr style=\"text-align: right;\">\n",
       "      <th></th>\n",
       "      <th>Model</th>\n",
       "      <th>Score</th>\n",
       "    </tr>\n",
       "  </thead>\n",
       "  <tbody>\n",
       "    <tr>\n",
       "      <th>2</th>\n",
       "      <td>Cat Model</td>\n",
       "      <td>0.978</td>\n",
       "    </tr>\n",
       "    <tr>\n",
       "      <th>1</th>\n",
       "      <td>Random Forest</td>\n",
       "      <td>0.973</td>\n",
       "    </tr>\n",
       "    <tr>\n",
       "      <th>3</th>\n",
       "      <td>Decision Tree</td>\n",
       "      <td>0.916</td>\n",
       "    </tr>\n",
       "    <tr>\n",
       "      <th>0</th>\n",
       "      <td>Logistic Regression</td>\n",
       "      <td>0.750</td>\n",
       "    </tr>\n",
       "  </tbody>\n",
       "</table>\n",
       "</div>"
      ],
      "text/plain": [
       "                 Model  Score\n",
       "2            Cat Model  0.978\n",
       "1        Random Forest  0.973\n",
       "3        Decision Tree  0.916\n",
       "0  Logistic Regression  0.750"
      ]
     },
     "execution_count": 64,
     "metadata": {},
     "output_type": "execute_result"
    }
   ],
   "source": [
    "# dataframe to compare results\n",
    "dfsmote = pd.DataFrame({'Model': classifiers_names, 'Score': scores})\n",
    "\n",
    "dfsmote.sort_values(by='Score', ascending=False) # sorting models by score"
   ]
  },
  {
   "cell_type": "markdown",
   "metadata": {},
   "source": [
    "<div class=\"alert alert-success\">\n",
    "\n",
    "The models all either performance the same or performed worse. SMOTE wasn't particularly worth it as it did not significantly impact model performance. \n",
    "\n",
    "</div>"
   ]
  },
  {
   "cell_type": "markdown",
   "metadata": {},
   "source": [
    "# Feature Importance of Top Classifiers\n",
    "\n",
    "Now that we know which classifiers have the most accuracy with our data, let's compare which features were the most important in the top three models: Catboost, Adaboost, and Random Forest"
   ]
  },
  {
   "cell_type": "markdown",
   "metadata": {},
   "source": [
    "## Catboost Features"
   ]
  },
  {
   "cell_type": "code",
   "execution_count": 65,
   "metadata": {
    "ExecuteTime": {
     "end_time": "2020-09-25T22:52:37.771211Z",
     "start_time": "2020-09-25T22:52:37.762713Z"
    }
   },
   "outputs": [
    {
     "name": "stdout",
     "output_type": "stream",
     "text": [
      "Catboost Top 25 Features\n"
     ]
    },
    {
     "data": {
      "text/html": [
       "<div>\n",
       "<style scoped>\n",
       "    .dataframe tbody tr th:only-of-type {\n",
       "        vertical-align: middle;\n",
       "    }\n",
       "\n",
       "    .dataframe tbody tr th {\n",
       "        vertical-align: top;\n",
       "    }\n",
       "\n",
       "    .dataframe thead th {\n",
       "        text-align: right;\n",
       "    }\n",
       "</style>\n",
       "<table border=\"1\" class=\"dataframe\">\n",
       "  <thead>\n",
       "    <tr style=\"text-align: right;\">\n",
       "      <th></th>\n",
       "      <th>Importance</th>\n",
       "      <th>Column</th>\n",
       "    </tr>\n",
       "  </thead>\n",
       "  <tbody>\n",
       "    <tr>\n",
       "      <th>15</th>\n",
       "      <td>34.701679</td>\n",
       "      <td>total_charge</td>\n",
       "    </tr>\n",
       "    <tr>\n",
       "      <th>14</th>\n",
       "      <td>15.405620</td>\n",
       "      <td>customer_service_calls</td>\n",
       "    </tr>\n",
       "    <tr>\n",
       "      <th>3</th>\n",
       "      <td>10.512016</td>\n",
       "      <td>international_plan</td>\n",
       "    </tr>\n",
       "    <tr>\n",
       "      <th>13</th>\n",
       "      <td>6.977343</td>\n",
       "      <td>total_intl_calls</td>\n",
       "    </tr>\n",
       "    <tr>\n",
       "      <th>4</th>\n",
       "      <td>5.073799</td>\n",
       "      <td>voice_mail_plan</td>\n",
       "    </tr>\n",
       "    <tr>\n",
       "      <th>12</th>\n",
       "      <td>4.754455</td>\n",
       "      <td>total_intl_minutes</td>\n",
       "    </tr>\n",
       "    <tr>\n",
       "      <th>5</th>\n",
       "      <td>4.137473</td>\n",
       "      <td>number_vmail_messages</td>\n",
       "    </tr>\n",
       "    <tr>\n",
       "      <th>1</th>\n",
       "      <td>2.682011</td>\n",
       "      <td>account_length</td>\n",
       "    </tr>\n",
       "    <tr>\n",
       "      <th>7</th>\n",
       "      <td>2.551007</td>\n",
       "      <td>total_day_calls</td>\n",
       "    </tr>\n",
       "    <tr>\n",
       "      <th>8</th>\n",
       "      <td>2.514005</td>\n",
       "      <td>total_eve_minutes</td>\n",
       "    </tr>\n",
       "    <tr>\n",
       "      <th>6</th>\n",
       "      <td>2.060249</td>\n",
       "      <td>total_day_minutes</td>\n",
       "    </tr>\n",
       "    <tr>\n",
       "      <th>10</th>\n",
       "      <td>2.023831</td>\n",
       "      <td>total_night_minutes</td>\n",
       "    </tr>\n",
       "    <tr>\n",
       "      <th>11</th>\n",
       "      <td>2.016606</td>\n",
       "      <td>total_night_calls</td>\n",
       "    </tr>\n",
       "    <tr>\n",
       "      <th>0</th>\n",
       "      <td>1.866442</td>\n",
       "      <td>state</td>\n",
       "    </tr>\n",
       "    <tr>\n",
       "      <th>9</th>\n",
       "      <td>1.754011</td>\n",
       "      <td>total_eve_calls</td>\n",
       "    </tr>\n",
       "    <tr>\n",
       "      <th>2</th>\n",
       "      <td>0.969451</td>\n",
       "      <td>area_code</td>\n",
       "    </tr>\n",
       "  </tbody>\n",
       "</table>\n",
       "</div>"
      ],
      "text/plain": [
       "    Importance                  Column\n",
       "15   34.701679            total_charge\n",
       "14   15.405620  customer_service_calls\n",
       "3    10.512016      international_plan\n",
       "13    6.977343        total_intl_calls\n",
       "4     5.073799         voice_mail_plan\n",
       "12    4.754455      total_intl_minutes\n",
       "5     4.137473   number_vmail_messages\n",
       "1     2.682011          account_length\n",
       "7     2.551007         total_day_calls\n",
       "8     2.514005       total_eve_minutes\n",
       "6     2.060249       total_day_minutes\n",
       "10    2.023831     total_night_minutes\n",
       "11    2.016606       total_night_calls\n",
       "0     1.866442                   state\n",
       "9     1.754011         total_eve_calls\n",
       "2     0.969451               area_code"
      ]
     },
     "execution_count": 65,
     "metadata": {},
     "output_type": "execute_result"
    }
   ],
   "source": [
    "# Feature Importance\n",
    "cat_feature = pd.DataFrame({'Importance': catmodel.feature_importances_, 'Column': X.columns}) # new dataframe\n",
    "cat_feature = cat_feature.sort_values(by='Importance', ascending=False) # results highest to lowest\n",
    "print('Catboost Top 25 Features')\n",
    "cat_feature[:25] # top 25 features"
   ]
  },
  {
   "cell_type": "code",
   "execution_count": 66,
   "metadata": {
    "ExecuteTime": {
     "end_time": "2020-09-25T22:52:38.053433Z",
     "start_time": "2020-09-25T22:52:37.772541Z"
    },
    "scrolled": true
   },
   "outputs": [
    {
     "data": {
      "image/png": "[encoded data removed]",
      "text/plain": [
       "<Figure size 1440x720 with 1 Axes>"
      ]
     },
     "metadata": {
      "needs_background": "light"
     },
     "output_type": "display_data"
    }
   ],
   "source": [
    "cat_feature = cat_feature[:25] # top 25 features\n",
    "cat_feature.plot(kind='barh', x='Column', y='Importance', figsize=(20, 10), cmap = 'coolwarm')\n",
    "plt.title('Catboost Feature Importance \\n', fontsize=16)\n",
    "plt.show()"
   ]
  },
  {
   "cell_type": "markdown",
   "metadata": {},
   "source": [
    "## Adaboost Features"
   ]
  },
  {
   "cell_type": "code",
   "execution_count": 67,
   "metadata": {
    "ExecuteTime": {
     "end_time": "2020-09-25T22:52:38.067858Z",
     "start_time": "2020-09-25T22:52:38.055055Z"
    }
   },
   "outputs": [
    {
     "name": "stdout",
     "output_type": "stream",
     "text": [
      "Adaboost Top 25 Features\n"
     ]
    },
    {
     "data": {
      "text/html": [
       "<div>\n",
       "<style scoped>\n",
       "    .dataframe tbody tr th:only-of-type {\n",
       "        vertical-align: middle;\n",
       "    }\n",
       "\n",
       "    .dataframe tbody tr th {\n",
       "        vertical-align: top;\n",
       "    }\n",
       "\n",
       "    .dataframe thead th {\n",
       "        text-align: right;\n",
       "    }\n",
       "</style>\n",
       "<table border=\"1\" class=\"dataframe\">\n",
       "  <thead>\n",
       "    <tr style=\"text-align: right;\">\n",
       "      <th></th>\n",
       "      <th>Importance</th>\n",
       "      <th>Column</th>\n",
       "    </tr>\n",
       "  </thead>\n",
       "  <tbody>\n",
       "    <tr>\n",
       "      <th>10</th>\n",
       "      <td>0.087895</td>\n",
       "      <td>total_night_minutes</td>\n",
       "    </tr>\n",
       "    <tr>\n",
       "      <th>8</th>\n",
       "      <td>0.086463</td>\n",
       "      <td>total_eve_minutes</td>\n",
       "    </tr>\n",
       "    <tr>\n",
       "      <th>11</th>\n",
       "      <td>0.084917</td>\n",
       "      <td>total_night_calls</td>\n",
       "    </tr>\n",
       "    <tr>\n",
       "      <th>1</th>\n",
       "      <td>0.084878</td>\n",
       "      <td>account_length</td>\n",
       "    </tr>\n",
       "    <tr>\n",
       "      <th>15</th>\n",
       "      <td>0.083701</td>\n",
       "      <td>total_charge</td>\n",
       "    </tr>\n",
       "    <tr>\n",
       "      <th>6</th>\n",
       "      <td>0.081766</td>\n",
       "      <td>total_day_minutes</td>\n",
       "    </tr>\n",
       "    <tr>\n",
       "      <th>9</th>\n",
       "      <td>0.078960</td>\n",
       "      <td>total_eve_calls</td>\n",
       "    </tr>\n",
       "    <tr>\n",
       "      <th>7</th>\n",
       "      <td>0.078467</td>\n",
       "      <td>total_day_calls</td>\n",
       "    </tr>\n",
       "    <tr>\n",
       "      <th>0</th>\n",
       "      <td>0.077777</td>\n",
       "      <td>state</td>\n",
       "    </tr>\n",
       "    <tr>\n",
       "      <th>14</th>\n",
       "      <td>0.058545</td>\n",
       "      <td>customer_service_calls</td>\n",
       "    </tr>\n",
       "    <tr>\n",
       "      <th>12</th>\n",
       "      <td>0.055558</td>\n",
       "      <td>total_intl_minutes</td>\n",
       "    </tr>\n",
       "    <tr>\n",
       "      <th>13</th>\n",
       "      <td>0.046169</td>\n",
       "      <td>total_intl_calls</td>\n",
       "    </tr>\n",
       "    <tr>\n",
       "      <th>3</th>\n",
       "      <td>0.040507</td>\n",
       "      <td>international_plan</td>\n",
       "    </tr>\n",
       "    <tr>\n",
       "      <th>5</th>\n",
       "      <td>0.034025</td>\n",
       "      <td>number_vmail_messages</td>\n",
       "    </tr>\n",
       "    <tr>\n",
       "      <th>2</th>\n",
       "      <td>0.013228</td>\n",
       "      <td>area_code</td>\n",
       "    </tr>\n",
       "    <tr>\n",
       "      <th>4</th>\n",
       "      <td>0.007145</td>\n",
       "      <td>voice_mail_plan</td>\n",
       "    </tr>\n",
       "  </tbody>\n",
       "</table>\n",
       "</div>"
      ],
      "text/plain": [
       "    Importance                  Column\n",
       "10    0.087895     total_night_minutes\n",
       "8     0.086463       total_eve_minutes\n",
       "11    0.084917       total_night_calls\n",
       "1     0.084878          account_length\n",
       "15    0.083701            total_charge\n",
       "6     0.081766       total_day_minutes\n",
       "9     0.078960         total_eve_calls\n",
       "7     0.078467         total_day_calls\n",
       "0     0.077777                   state\n",
       "14    0.058545  customer_service_calls\n",
       "12    0.055558      total_intl_minutes\n",
       "13    0.046169        total_intl_calls\n",
       "3     0.040507      international_plan\n",
       "5     0.034025   number_vmail_messages\n",
       "2     0.013228               area_code\n",
       "4     0.007145         voice_mail_plan"
      ]
     },
     "execution_count": 67,
     "metadata": {},
     "output_type": "execute_result"
    }
   ],
   "source": [
    "# Feature Importance\n",
    "ada_feature = pd.DataFrame({'Importance': bdt.feature_importances_, 'Column': X.columns}) #create new dataframe\n",
    "ada_feature = ada_feature.sort_values(by='Importance', ascending=False) #display results highest to lowest\n",
    "print('Adaboost Top 25 Features')\n",
    "ada_feature[:25] #top 25 features"
   ]
  },
  {
   "cell_type": "code",
   "execution_count": 68,
   "metadata": {
    "ExecuteTime": {
     "end_time": "2020-09-25T22:52:38.343521Z",
     "start_time": "2020-09-25T22:52:38.077160Z"
    },
    "scrolled": true
   },
   "outputs": [
    {
     "data": {
      "image/png": "[encoded data removed]",
      "text/plain": [
       "<Figure size 1440x720 with 1 Axes>"
      ]
     },
     "metadata": {
      "needs_background": "light"
     },
     "output_type": "display_data"
    }
   ],
   "source": [
    "ada_feature = ada_feature[:25] # top 25 features\n",
    "ada_feature.plot(kind='barh', x='Column', y='Importance', figsize=(20, 10), cmap= 'Pastel2')\n",
    "plt.title('Adaboost Feature Importance \\n', fontsize=16)\n",
    "plt.show()"
   ]
  },
  {
   "cell_type": "markdown",
   "metadata": {
    "ExecuteTime": {
     "end_time": "2020-09-25T22:07:03.959217Z",
     "start_time": "2020-09-25T22:07:03.954832Z"
    }
   },
   "source": [
    "<div class=\"alert alert-success\">\n",
    "\n",
    "There is definitely overlap between the top 25 Adaboost and Catboost features but they carry different levels of importance. Both models do list total_charge as the most important feature to the model. \n",
    "\n",
    "</div>"
   ]
  },
  {
   "cell_type": "markdown",
   "metadata": {},
   "source": [
    "## Random Forest Features"
   ]
  },
  {
   "cell_type": "code",
   "execution_count": 69,
   "metadata": {
    "ExecuteTime": {
     "end_time": "2020-09-25T22:52:38.359283Z",
     "start_time": "2020-09-25T22:52:38.345862Z"
    }
   },
   "outputs": [
    {
     "name": "stdout",
     "output_type": "stream",
     "text": [
      "Random Forest Top 25 Features\n"
     ]
    },
    {
     "data": {
      "text/html": [
       "<div>\n",
       "<style scoped>\n",
       "    .dataframe tbody tr th:only-of-type {\n",
       "        vertical-align: middle;\n",
       "    }\n",
       "\n",
       "    .dataframe tbody tr th {\n",
       "        vertical-align: top;\n",
       "    }\n",
       "\n",
       "    .dataframe thead th {\n",
       "        text-align: right;\n",
       "    }\n",
       "</style>\n",
       "<table border=\"1\" class=\"dataframe\">\n",
       "  <thead>\n",
       "    <tr style=\"text-align: right;\">\n",
       "      <th></th>\n",
       "      <th>Importance</th>\n",
       "      <th>Column</th>\n",
       "    </tr>\n",
       "  </thead>\n",
       "  <tbody>\n",
       "    <tr>\n",
       "      <th>15</th>\n",
       "      <td>0.343718</td>\n",
       "      <td>total_charge</td>\n",
       "    </tr>\n",
       "    <tr>\n",
       "      <th>14</th>\n",
       "      <td>0.144427</td>\n",
       "      <td>customer_service_calls</td>\n",
       "    </tr>\n",
       "    <tr>\n",
       "      <th>6</th>\n",
       "      <td>0.107490</td>\n",
       "      <td>total_day_minutes</td>\n",
       "    </tr>\n",
       "    <tr>\n",
       "      <th>3</th>\n",
       "      <td>0.090933</td>\n",
       "      <td>international_plan</td>\n",
       "    </tr>\n",
       "    <tr>\n",
       "      <th>4</th>\n",
       "      <td>0.044423</td>\n",
       "      <td>voice_mail_plan</td>\n",
       "    </tr>\n",
       "    <tr>\n",
       "      <th>13</th>\n",
       "      <td>0.042221</td>\n",
       "      <td>total_intl_calls</td>\n",
       "    </tr>\n",
       "    <tr>\n",
       "      <th>5</th>\n",
       "      <td>0.041650</td>\n",
       "      <td>number_vmail_messages</td>\n",
       "    </tr>\n",
       "    <tr>\n",
       "      <th>12</th>\n",
       "      <td>0.039297</td>\n",
       "      <td>total_intl_minutes</td>\n",
       "    </tr>\n",
       "    <tr>\n",
       "      <th>8</th>\n",
       "      <td>0.034649</td>\n",
       "      <td>total_eve_minutes</td>\n",
       "    </tr>\n",
       "    <tr>\n",
       "      <th>7</th>\n",
       "      <td>0.021274</td>\n",
       "      <td>total_day_calls</td>\n",
       "    </tr>\n",
       "    <tr>\n",
       "      <th>10</th>\n",
       "      <td>0.019806</td>\n",
       "      <td>total_night_minutes</td>\n",
       "    </tr>\n",
       "    <tr>\n",
       "      <th>1</th>\n",
       "      <td>0.019651</td>\n",
       "      <td>account_length</td>\n",
       "    </tr>\n",
       "    <tr>\n",
       "      <th>11</th>\n",
       "      <td>0.018752</td>\n",
       "      <td>total_night_calls</td>\n",
       "    </tr>\n",
       "    <tr>\n",
       "      <th>9</th>\n",
       "      <td>0.014161</td>\n",
       "      <td>total_eve_calls</td>\n",
       "    </tr>\n",
       "    <tr>\n",
       "      <th>0</th>\n",
       "      <td>0.014101</td>\n",
       "      <td>state</td>\n",
       "    </tr>\n",
       "    <tr>\n",
       "      <th>2</th>\n",
       "      <td>0.003447</td>\n",
       "      <td>area_code</td>\n",
       "    </tr>\n",
       "  </tbody>\n",
       "</table>\n",
       "</div>"
      ],
      "text/plain": [
       "    Importance                  Column\n",
       "15    0.343718            total_charge\n",
       "14    0.144427  customer_service_calls\n",
       "6     0.107490       total_day_minutes\n",
       "3     0.090933      international_plan\n",
       "4     0.044423         voice_mail_plan\n",
       "13    0.042221        total_intl_calls\n",
       "5     0.041650   number_vmail_messages\n",
       "12    0.039297      total_intl_minutes\n",
       "8     0.034649       total_eve_minutes\n",
       "7     0.021274         total_day_calls\n",
       "10    0.019806     total_night_minutes\n",
       "1     0.019651          account_length\n",
       "11    0.018752       total_night_calls\n",
       "9     0.014161         total_eve_calls\n",
       "0     0.014101                   state\n",
       "2     0.003447               area_code"
      ]
     },
     "execution_count": 69,
     "metadata": {},
     "output_type": "execute_result"
    }
   ],
   "source": [
    "# Feature Importance\n",
    "rf_feature = pd.DataFrame({'Importance': random_forest.feature_importances_, 'Column': X.columns}) #create new dataframe\n",
    "rf_feature = rf_feature.sort_values(by='Importance', ascending=False) #display results highest to lowest\n",
    "print('Random Forest Top 25 Features')\n",
    "rf_feature[:25] #top 25 features"
   ]
  },
  {
   "cell_type": "code",
   "execution_count": 70,
   "metadata": {
    "ExecuteTime": {
     "end_time": "2020-09-25T22:52:38.647731Z",
     "start_time": "2020-09-25T22:52:38.360942Z"
    },
    "scrolled": true
   },
   "outputs": [
    {
     "data": {
      "image/png": "[encoded data removed]",
      "text/plain": [
       "<Figure size 1440x720 with 1 Axes>"
      ]
     },
     "metadata": {
      "needs_background": "light"
     },
     "output_type": "display_data"
    }
   ],
   "source": [
    "rf_feature = rf_feature[:25] #top 25 features\n",
    "rf_feature.plot(kind='barh', x='Column', y='Importance', figsize=(20, 10), cmap= 'ocean')\n",
    "plt.title('Random Forest Feature Importance \\n', fontsize=16)\n",
    "plt.show()"
   ]
  },
  {
   "cell_type": "markdown",
   "metadata": {},
   "source": [
    "<div class=\"alert alert-success\">\n",
    "\n",
    "The Random Forest top 25 do illustrate overlap with both Catboost and Adaboost. Random Forest top 25 have more top rated similarities with Catboost features including total_charge and multiple \"international\" column features\n",
    "\n",
    "</div>"
   ]
  },
  {
   "cell_type": "markdown",
   "metadata": {},
   "source": [
    "## Overlap"
   ]
  },
  {
   "cell_type": "code",
   "execution_count": 71,
   "metadata": {
    "ExecuteTime": {
     "end_time": "2020-09-25T22:52:38.651879Z",
     "start_time": "2020-09-25T22:52:38.648863Z"
    }
   },
   "outputs": [],
   "source": [
    "cat = cat_feature.Column.unique() #creating lists from top 25 features in each classifier df\n",
    "ada = ada_feature.Column.unique()\n",
    "rf = rf_feature.Column.unique()"
   ]
  },
  {
   "cell_type": "code",
   "execution_count": 72,
   "metadata": {
    "ExecuteTime": {
     "end_time": "2020-09-25T22:52:38.656066Z",
     "start_time": "2020-09-25T22:52:38.653009Z"
    }
   },
   "outputs": [
    {
     "data": {
      "text/plain": [
       "{'account_length',\n",
       " 'area_code',\n",
       " 'customer_service_calls',\n",
       " 'international_plan',\n",
       " 'number_vmail_messages',\n",
       " 'state',\n",
       " 'total_charge',\n",
       " 'total_day_calls',\n",
       " 'total_day_minutes',\n",
       " 'total_eve_calls',\n",
       " 'total_eve_minutes',\n",
       " 'total_intl_calls',\n",
       " 'total_intl_minutes',\n",
       " 'total_night_calls',\n",
       " 'total_night_minutes',\n",
       " 'voice_mail_plan'}"
      ]
     },
     "execution_count": 72,
     "metadata": {},
     "output_type": "execute_result"
    }
   ],
   "source": [
    "set(cat) & set(ada) & set(rf) # items appearing in all three lists"
   ]
  },
  {
   "cell_type": "markdown",
   "metadata": {},
   "source": [
    "There are 16 total items that appear in all three classifier feature lists. The most important feature in all three lists was **total_charge.** Top 5 features appearing in at least 2 of 3 lists are **customer_service_calls, international_plan and total_intl_calls.**"
   ]
  },
  {
   "cell_type": "code",
   "execution_count": 73,
   "metadata": {
    "ExecuteTime": {
     "end_time": "2020-09-25T22:52:38.658866Z",
     "start_time": "2020-09-25T22:52:38.657145Z"
    }
   },
   "outputs": [],
   "source": [
    "# ## Outliers\n",
    "\n",
    "# # IQR Outlier Removal Function\n",
    "# def iqr_outlier_rem(df, col_name):\n",
    "#     start_len = len(df)\n",
    "#     Q1 = df[col_name].quantile(0.25)\n",
    "#     Q3 = df[col_name].quantile(0.75)\n",
    "#     IQR = Q3-Q1 # Finding interquartile range\n",
    "#     lower_threshold  = Q1-1.5*IQR\n",
    "#     upper_threshold = Q3+1.5*IQR\n",
    "#     new_df = df.loc[(df[col_name] > lower_threshold) & (df[col_name] < upper_threshold)]\n",
    "#     print(f'There were {start_len - len(new_df)} outliers removed from {col_name}')\n",
    "#     return new_df\n",
    "\n",
    "# df = iqr_outlier_rem(df, 'account length')"
   ]
  },
  {
   "cell_type": "code",
   "execution_count": 74,
   "metadata": {
    "ExecuteTime": {
     "end_time": "2020-09-25T22:52:38.661774Z",
     "start_time": "2020-09-25T22:52:38.659953Z"
    }
   },
   "outputs": [],
   "source": [
    "# # Function to create two plots - normality / homoscedasticity\n",
    "# def model_visual(residuals):\n",
    "# # QQ Plot\n",
    "#     '''Checking residuals for normality'''\n",
    "#     fig, axes = plt.subplots(ncols=2, figsize=(20, 5))\n",
    "#     sm.graphics.qqplot(model.resid, fit=True, line='45', ax=axes[0])\n",
    "#     axes[0].set_title('QQ Plot Normality Check', fontsize=20)\n",
    "#     axes[0].set_xlabel('Theoretical Quantiles', fontsize=15)\n",
    "#     axes[0].set_ylabel('Sample Quantiles', fontsize=14)\n",
    "# # Homoscedasticity\n",
    "#     '''Checking Homoscedasticity assumption'''\n",
    "#     ax=axes[1]\n",
    "#     ax.scatter(train['churn_True'], model.resid)\n",
    "#     ax.axhline(0, color='red')\n",
    "#     axes[1].set_title('Homoscedasticity Check', fontsize=20)\n",
    "#     axes[1].set_xlabel('Price', fontsize=15)\n",
    "#     axes[1].set_ylabel('Model Residuals', fontsize=14)\n",
    "#     plt.show();\n",
    "#     return model_visual"
   ]
  },
  {
   "cell_type": "code",
   "execution_count": 75,
   "metadata": {
    "ExecuteTime": {
     "end_time": "2020-09-25T22:52:38.664419Z",
     "start_time": "2020-09-25T22:52:38.662849Z"
    }
   },
   "outputs": [],
   "source": [
    "# # VIF Scores\n",
    "# x = df.drop('churn_True', axis = 1)\n",
    "# x = sm.add_constant(x)\n",
    "# vif = [variance_inflation_factor(x.values,i) for i in range(x.shape[1])]\n",
    "# vif_results = pd.Series(dict(zip(x.columns, vif)))\n",
    "\n",
    "# # Identifying VIF\n",
    "# threshold = 6\n",
    "# rem_vif = list(vif_results[vif_results > threshold].index)\n",
    "# if 'const' in rem_vif:\n",
    "#     rem_vif.remove('const')\n",
    "# rem_vif"
   ]
  }
 ],
 "metadata": {
  "kernelspec": {
   "display_name": "Python 3",
   "language": "python",
   "name": "python3"
  },
  "language_info": {
   "codemirror_mode": {
    "name": "ipython",
    "version": 3
   },
   "file_extension": ".py",
   "mimetype": "text/x-python",
   "name": "python",
   "nbconvert_exporter": "python",
   "pygments_lexer": "ipython3",
   "version": "3.6.9"
  },
  "toc": {
   "base_numbering": 1,
   "nav_menu": {},
   "number_sections": true,
   "sideBar": true,
   "skip_h1_title": false,
   "title_cell": "Table of Contents",
   "title_sidebar": "Contents",
   "toc_cell": false,
   "toc_position": {
    "height": "calc(100% - 180px)",
    "left": "10px",
    "top": "150px",
    "width": "180.1875px"
   },
   "toc_section_display": true,
   "toc_window_display": true
  }
 },
 "nbformat": 4,
 "nbformat_minor": 2
}
