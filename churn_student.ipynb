{
 "cells": [
  {
   "cell_type": "markdown",
   "metadata": {},
   "source": [
    "# Final Project Submission\n",
    "\n",
    "Please fill out:\n",
    "* Student name: \n",
    "* Student pace: self paced / part time / full time\n",
    "* Scheduled project review date/time: \n",
    "* Instructor name: \n",
    "* Blog post URL:\n"
   ]
  },
  {
   "cell_type": "markdown",
   "metadata": {},
   "source": [
    "# Data Analysis and Modeling\n",
    "OSEMN Framework\n",
    "\n",
    "* Obtain\n",
    "* Scrub\n",
    "* Explore\n",
    "* Model\n",
    "* INterpret"
   ]
  },
  {
   "cell_type": "code",
   "execution_count": 1,
   "metadata": {
    "ExecuteTime": {
     "end_time": "2020-09-17T18:26:19.899114Z",
     "start_time": "2020-09-17T18:26:19.067036Z"
    }
   },
   "outputs": [
    {
     "name": "stderr",
     "output_type": "stream",
     "text": [
      "/Users/miguelsantana/opt/anaconda3/envs/learn-env/lib/python3.6/site-packages/statsmodels/tools/_testing.py:19: FutureWarning: pandas.util.testing is deprecated. Use the functions in the public API at pandas.testing instead.\n",
      "  import pandas.util.testing as tm\n"
     ]
    }
   ],
   "source": [
    "import pandas as pd\n",
    "import numpy as np\n",
    "import seaborn as sns\n",
    "import matplotlib as mlp\n",
    "import matplotlib.pyplot as plt\n",
    "%matplotlib inline \n",
    "from IPython.display import Image\n",
    "import os\n",
    "import sklearn\n",
    "pd.set_option('display.max_columns', 50)"
   ]
  },
  {
   "cell_type": "code",
   "execution_count": 2,
   "metadata": {
    "ExecuteTime": {
     "end_time": "2020-09-17T18:26:20.227410Z",
     "start_time": "2020-09-17T18:26:19.901690Z"
    }
   },
   "outputs": [],
   "source": [
    "# Modeling & Evaluation Packages\n",
    "from statsmodels.formula.api import ols\n",
    "import statsmodels.api as sm\n",
    "from statsmodels.stats.outliers_influence import variance_inflation_factor\n",
    "from sklearn.preprocessing import Imputer, PolynomialFeatures, StandardScaler\n",
    "from sklearn.feature_selection import VarianceThreshold, SelectFromModel\n",
    "from sklearn.model_selection import StratifiedKFold, KFold, cross_val_score, GridSearchCV, learning_curve, train_test_split\n",
    "from sklearn.metrics import classification_report, confusion_matrix\n",
    "\n",
    "from sklearn.linear_model import LogisticRegression\n",
    "from sklearn.ensemble import RandomForestClassifier\n",
    "from xgboost import XGBClassifier\n",
    "import gc\n",
    "import re"
   ]
  },
  {
   "cell_type": "markdown",
   "metadata": {},
   "source": [
    "# Obtain"
   ]
  },
  {
   "cell_type": "markdown",
   "metadata": {},
   "source": [
    "## Data Frame"
   ]
  },
  {
   "cell_type": "code",
   "execution_count": 3,
   "metadata": {
    "ExecuteTime": {
     "end_time": "2020-09-17T18:26:20.244133Z",
     "start_time": "2020-09-17T18:26:20.229666Z"
    }
   },
   "outputs": [],
   "source": [
    "df = pd.read_csv('churn_dataset.csv')"
   ]
  },
  {
   "cell_type": "code",
   "execution_count": 4,
   "metadata": {
    "ExecuteTime": {
     "end_time": "2020-09-17T18:26:20.256967Z",
     "start_time": "2020-09-17T18:26:20.245892Z"
    }
   },
   "outputs": [
    {
     "name": "stdout",
     "output_type": "stream",
     "text": [
      "<class 'pandas.core.frame.DataFrame'>\n",
      "RangeIndex: 3333 entries, 0 to 3332\n",
      "Data columns (total 21 columns):\n",
      " #   Column                  Non-Null Count  Dtype  \n",
      "---  ------                  --------------  -----  \n",
      " 0   state                   3333 non-null   object \n",
      " 1   account length          3333 non-null   int64  \n",
      " 2   area code               3333 non-null   int64  \n",
      " 3   phone number            3333 non-null   object \n",
      " 4   international plan      3333 non-null   object \n",
      " 5   voice mail plan         3333 non-null   object \n",
      " 6   number vmail messages   3333 non-null   int64  \n",
      " 7   total day minutes       3333 non-null   float64\n",
      " 8   total day calls         3333 non-null   int64  \n",
      " 9   total day charge        3333 non-null   float64\n",
      " 10  total eve minutes       3333 non-null   float64\n",
      " 11  total eve calls         3333 non-null   int64  \n",
      " 12  total eve charge        3333 non-null   float64\n",
      " 13  total night minutes     3333 non-null   float64\n",
      " 14  total night calls       3333 non-null   int64  \n",
      " 15  total night charge      3333 non-null   float64\n",
      " 16  total intl minutes      3333 non-null   float64\n",
      " 17  total intl calls        3333 non-null   int64  \n",
      " 18  total intl charge       3333 non-null   float64\n",
      " 19  customer service calls  3333 non-null   int64  \n",
      " 20  churn                   3333 non-null   bool   \n",
      "dtypes: bool(1), float64(8), int64(8), object(4)\n",
      "memory usage: 524.2+ KB\n"
     ]
    }
   ],
   "source": [
    "df.info()"
   ]
  },
  {
   "cell_type": "code",
   "execution_count": 5,
   "metadata": {
    "ExecuteTime": {
     "end_time": "2020-09-17T18:26:20.314198Z",
     "start_time": "2020-09-17T18:26:20.258969Z"
    },
    "scrolled": true
   },
   "outputs": [
    {
     "data": {
      "text/html": [
       "<div>\n",
       "<style scoped>\n",
       "    .dataframe tbody tr th:only-of-type {\n",
       "        vertical-align: middle;\n",
       "    }\n",
       "\n",
       "    .dataframe tbody tr th {\n",
       "        vertical-align: top;\n",
       "    }\n",
       "\n",
       "    .dataframe thead th {\n",
       "        text-align: right;\n",
       "    }\n",
       "</style>\n",
       "<table border=\"1\" class=\"dataframe\">\n",
       "  <thead>\n",
       "    <tr style=\"text-align: right;\">\n",
       "      <th></th>\n",
       "      <th>account length</th>\n",
       "      <th>area code</th>\n",
       "      <th>number vmail messages</th>\n",
       "      <th>total day minutes</th>\n",
       "      <th>total day calls</th>\n",
       "      <th>total day charge</th>\n",
       "      <th>total eve minutes</th>\n",
       "      <th>total eve calls</th>\n",
       "      <th>total eve charge</th>\n",
       "      <th>total night minutes</th>\n",
       "      <th>total night calls</th>\n",
       "      <th>total night charge</th>\n",
       "      <th>total intl minutes</th>\n",
       "      <th>total intl calls</th>\n",
       "      <th>total intl charge</th>\n",
       "      <th>customer service calls</th>\n",
       "    </tr>\n",
       "  </thead>\n",
       "  <tbody>\n",
       "    <tr>\n",
       "      <th>count</th>\n",
       "      <td>3333.000000</td>\n",
       "      <td>3333.000000</td>\n",
       "      <td>3333.000000</td>\n",
       "      <td>3333.000000</td>\n",
       "      <td>3333.000000</td>\n",
       "      <td>3333.000000</td>\n",
       "      <td>3333.000000</td>\n",
       "      <td>3333.000000</td>\n",
       "      <td>3333.000000</td>\n",
       "      <td>3333.000000</td>\n",
       "      <td>3333.000000</td>\n",
       "      <td>3333.000000</td>\n",
       "      <td>3333.000000</td>\n",
       "      <td>3333.000000</td>\n",
       "      <td>3333.000000</td>\n",
       "      <td>3333.000000</td>\n",
       "    </tr>\n",
       "    <tr>\n",
       "      <th>mean</th>\n",
       "      <td>101.064806</td>\n",
       "      <td>437.182418</td>\n",
       "      <td>8.099010</td>\n",
       "      <td>179.775098</td>\n",
       "      <td>100.435644</td>\n",
       "      <td>30.562307</td>\n",
       "      <td>200.980348</td>\n",
       "      <td>100.114311</td>\n",
       "      <td>17.083540</td>\n",
       "      <td>200.872037</td>\n",
       "      <td>100.107711</td>\n",
       "      <td>9.039325</td>\n",
       "      <td>10.237294</td>\n",
       "      <td>4.479448</td>\n",
       "      <td>2.764581</td>\n",
       "      <td>1.562856</td>\n",
       "    </tr>\n",
       "    <tr>\n",
       "      <th>std</th>\n",
       "      <td>39.822106</td>\n",
       "      <td>42.371290</td>\n",
       "      <td>13.688365</td>\n",
       "      <td>54.467389</td>\n",
       "      <td>20.069084</td>\n",
       "      <td>9.259435</td>\n",
       "      <td>50.713844</td>\n",
       "      <td>19.922625</td>\n",
       "      <td>4.310668</td>\n",
       "      <td>50.573847</td>\n",
       "      <td>19.568609</td>\n",
       "      <td>2.275873</td>\n",
       "      <td>2.791840</td>\n",
       "      <td>2.461214</td>\n",
       "      <td>0.753773</td>\n",
       "      <td>1.315491</td>\n",
       "    </tr>\n",
       "    <tr>\n",
       "      <th>min</th>\n",
       "      <td>1.000000</td>\n",
       "      <td>408.000000</td>\n",
       "      <td>0.000000</td>\n",
       "      <td>0.000000</td>\n",
       "      <td>0.000000</td>\n",
       "      <td>0.000000</td>\n",
       "      <td>0.000000</td>\n",
       "      <td>0.000000</td>\n",
       "      <td>0.000000</td>\n",
       "      <td>23.200000</td>\n",
       "      <td>33.000000</td>\n",
       "      <td>1.040000</td>\n",
       "      <td>0.000000</td>\n",
       "      <td>0.000000</td>\n",
       "      <td>0.000000</td>\n",
       "      <td>0.000000</td>\n",
       "    </tr>\n",
       "    <tr>\n",
       "      <th>25%</th>\n",
       "      <td>74.000000</td>\n",
       "      <td>408.000000</td>\n",
       "      <td>0.000000</td>\n",
       "      <td>143.700000</td>\n",
       "      <td>87.000000</td>\n",
       "      <td>24.430000</td>\n",
       "      <td>166.600000</td>\n",
       "      <td>87.000000</td>\n",
       "      <td>14.160000</td>\n",
       "      <td>167.000000</td>\n",
       "      <td>87.000000</td>\n",
       "      <td>7.520000</td>\n",
       "      <td>8.500000</td>\n",
       "      <td>3.000000</td>\n",
       "      <td>2.300000</td>\n",
       "      <td>1.000000</td>\n",
       "    </tr>\n",
       "    <tr>\n",
       "      <th>50%</th>\n",
       "      <td>101.000000</td>\n",
       "      <td>415.000000</td>\n",
       "      <td>0.000000</td>\n",
       "      <td>179.400000</td>\n",
       "      <td>101.000000</td>\n",
       "      <td>30.500000</td>\n",
       "      <td>201.400000</td>\n",
       "      <td>100.000000</td>\n",
       "      <td>17.120000</td>\n",
       "      <td>201.200000</td>\n",
       "      <td>100.000000</td>\n",
       "      <td>9.050000</td>\n",
       "      <td>10.300000</td>\n",
       "      <td>4.000000</td>\n",
       "      <td>2.780000</td>\n",
       "      <td>1.000000</td>\n",
       "    </tr>\n",
       "    <tr>\n",
       "      <th>75%</th>\n",
       "      <td>127.000000</td>\n",
       "      <td>510.000000</td>\n",
       "      <td>20.000000</td>\n",
       "      <td>216.400000</td>\n",
       "      <td>114.000000</td>\n",
       "      <td>36.790000</td>\n",
       "      <td>235.300000</td>\n",
       "      <td>114.000000</td>\n",
       "      <td>20.000000</td>\n",
       "      <td>235.300000</td>\n",
       "      <td>113.000000</td>\n",
       "      <td>10.590000</td>\n",
       "      <td>12.100000</td>\n",
       "      <td>6.000000</td>\n",
       "      <td>3.270000</td>\n",
       "      <td>2.000000</td>\n",
       "    </tr>\n",
       "    <tr>\n",
       "      <th>max</th>\n",
       "      <td>243.000000</td>\n",
       "      <td>510.000000</td>\n",
       "      <td>51.000000</td>\n",
       "      <td>350.800000</td>\n",
       "      <td>165.000000</td>\n",
       "      <td>59.640000</td>\n",
       "      <td>363.700000</td>\n",
       "      <td>170.000000</td>\n",
       "      <td>30.910000</td>\n",
       "      <td>395.000000</td>\n",
       "      <td>175.000000</td>\n",
       "      <td>17.770000</td>\n",
       "      <td>20.000000</td>\n",
       "      <td>20.000000</td>\n",
       "      <td>5.400000</td>\n",
       "      <td>9.000000</td>\n",
       "    </tr>\n",
       "  </tbody>\n",
       "</table>\n",
       "</div>"
      ],
      "text/plain": [
       "       account length    area code  number vmail messages  total day minutes  \\\n",
       "count     3333.000000  3333.000000            3333.000000        3333.000000   \n",
       "mean       101.064806   437.182418               8.099010         179.775098   \n",
       "std         39.822106    42.371290              13.688365          54.467389   \n",
       "min          1.000000   408.000000               0.000000           0.000000   \n",
       "25%         74.000000   408.000000               0.000000         143.700000   \n",
       "50%        101.000000   415.000000               0.000000         179.400000   \n",
       "75%        127.000000   510.000000              20.000000         216.400000   \n",
       "max        243.000000   510.000000              51.000000         350.800000   \n",
       "\n",
       "       total day calls  total day charge  total eve minutes  total eve calls  \\\n",
       "count      3333.000000       3333.000000        3333.000000      3333.000000   \n",
       "mean        100.435644         30.562307         200.980348       100.114311   \n",
       "std          20.069084          9.259435          50.713844        19.922625   \n",
       "min           0.000000          0.000000           0.000000         0.000000   \n",
       "25%          87.000000         24.430000         166.600000        87.000000   \n",
       "50%         101.000000         30.500000         201.400000       100.000000   \n",
       "75%         114.000000         36.790000         235.300000       114.000000   \n",
       "max         165.000000         59.640000         363.700000       170.000000   \n",
       "\n",
       "       total eve charge  total night minutes  total night calls  \\\n",
       "count       3333.000000          3333.000000        3333.000000   \n",
       "mean          17.083540           200.872037         100.107711   \n",
       "std            4.310668            50.573847          19.568609   \n",
       "min            0.000000            23.200000          33.000000   \n",
       "25%           14.160000           167.000000          87.000000   \n",
       "50%           17.120000           201.200000         100.000000   \n",
       "75%           20.000000           235.300000         113.000000   \n",
       "max           30.910000           395.000000         175.000000   \n",
       "\n",
       "       total night charge  total intl minutes  total intl calls  \\\n",
       "count         3333.000000         3333.000000       3333.000000   \n",
       "mean             9.039325           10.237294          4.479448   \n",
       "std              2.275873            2.791840          2.461214   \n",
       "min              1.040000            0.000000          0.000000   \n",
       "25%              7.520000            8.500000          3.000000   \n",
       "50%              9.050000           10.300000          4.000000   \n",
       "75%             10.590000           12.100000          6.000000   \n",
       "max             17.770000           20.000000         20.000000   \n",
       "\n",
       "       total intl charge  customer service calls  \n",
       "count        3333.000000             3333.000000  \n",
       "mean            2.764581                1.562856  \n",
       "std             0.753773                1.315491  \n",
       "min             0.000000                0.000000  \n",
       "25%             2.300000                1.000000  \n",
       "50%             2.780000                1.000000  \n",
       "75%             3.270000                2.000000  \n",
       "max             5.400000                9.000000  "
      ]
     },
     "execution_count": 5,
     "metadata": {},
     "output_type": "execute_result"
    }
   ],
   "source": [
    "df.describe()"
   ]
  },
  {
   "cell_type": "code",
   "execution_count": 6,
   "metadata": {
    "ExecuteTime": {
     "end_time": "2020-09-17T18:26:20.332336Z",
     "start_time": "2020-09-17T18:26:20.315802Z"
    },
    "scrolled": true
   },
   "outputs": [
    {
     "data": {
      "text/html": [
       "<div>\n",
       "<style scoped>\n",
       "    .dataframe tbody tr th:only-of-type {\n",
       "        vertical-align: middle;\n",
       "    }\n",
       "\n",
       "    .dataframe tbody tr th {\n",
       "        vertical-align: top;\n",
       "    }\n",
       "\n",
       "    .dataframe thead th {\n",
       "        text-align: right;\n",
       "    }\n",
       "</style>\n",
       "<table border=\"1\" class=\"dataframe\">\n",
       "  <thead>\n",
       "    <tr style=\"text-align: right;\">\n",
       "      <th></th>\n",
       "      <th>state</th>\n",
       "      <th>account length</th>\n",
       "      <th>area code</th>\n",
       "      <th>phone number</th>\n",
       "      <th>international plan</th>\n",
       "      <th>voice mail plan</th>\n",
       "      <th>number vmail messages</th>\n",
       "      <th>total day minutes</th>\n",
       "      <th>total day calls</th>\n",
       "      <th>total day charge</th>\n",
       "      <th>total eve minutes</th>\n",
       "      <th>total eve calls</th>\n",
       "      <th>total eve charge</th>\n",
       "      <th>total night minutes</th>\n",
       "      <th>total night calls</th>\n",
       "      <th>total night charge</th>\n",
       "      <th>total intl minutes</th>\n",
       "      <th>total intl calls</th>\n",
       "      <th>total intl charge</th>\n",
       "      <th>customer service calls</th>\n",
       "      <th>churn</th>\n",
       "    </tr>\n",
       "  </thead>\n",
       "  <tbody>\n",
       "    <tr>\n",
       "      <th>0</th>\n",
       "      <td>KS</td>\n",
       "      <td>128</td>\n",
       "      <td>415</td>\n",
       "      <td>382-4657</td>\n",
       "      <td>no</td>\n",
       "      <td>yes</td>\n",
       "      <td>25</td>\n",
       "      <td>265.1</td>\n",
       "      <td>110</td>\n",
       "      <td>45.07</td>\n",
       "      <td>197.4</td>\n",
       "      <td>99</td>\n",
       "      <td>16.78</td>\n",
       "      <td>244.7</td>\n",
       "      <td>91</td>\n",
       "      <td>11.01</td>\n",
       "      <td>10.0</td>\n",
       "      <td>3</td>\n",
       "      <td>2.70</td>\n",
       "      <td>1</td>\n",
       "      <td>False</td>\n",
       "    </tr>\n",
       "    <tr>\n",
       "      <th>1</th>\n",
       "      <td>OH</td>\n",
       "      <td>107</td>\n",
       "      <td>415</td>\n",
       "      <td>371-7191</td>\n",
       "      <td>no</td>\n",
       "      <td>yes</td>\n",
       "      <td>26</td>\n",
       "      <td>161.6</td>\n",
       "      <td>123</td>\n",
       "      <td>27.47</td>\n",
       "      <td>195.5</td>\n",
       "      <td>103</td>\n",
       "      <td>16.62</td>\n",
       "      <td>254.4</td>\n",
       "      <td>103</td>\n",
       "      <td>11.45</td>\n",
       "      <td>13.7</td>\n",
       "      <td>3</td>\n",
       "      <td>3.70</td>\n",
       "      <td>1</td>\n",
       "      <td>False</td>\n",
       "    </tr>\n",
       "    <tr>\n",
       "      <th>2</th>\n",
       "      <td>NJ</td>\n",
       "      <td>137</td>\n",
       "      <td>415</td>\n",
       "      <td>358-1921</td>\n",
       "      <td>no</td>\n",
       "      <td>no</td>\n",
       "      <td>0</td>\n",
       "      <td>243.4</td>\n",
       "      <td>114</td>\n",
       "      <td>41.38</td>\n",
       "      <td>121.2</td>\n",
       "      <td>110</td>\n",
       "      <td>10.30</td>\n",
       "      <td>162.6</td>\n",
       "      <td>104</td>\n",
       "      <td>7.32</td>\n",
       "      <td>12.2</td>\n",
       "      <td>5</td>\n",
       "      <td>3.29</td>\n",
       "      <td>0</td>\n",
       "      <td>False</td>\n",
       "    </tr>\n",
       "    <tr>\n",
       "      <th>3</th>\n",
       "      <td>OH</td>\n",
       "      <td>84</td>\n",
       "      <td>408</td>\n",
       "      <td>375-9999</td>\n",
       "      <td>yes</td>\n",
       "      <td>no</td>\n",
       "      <td>0</td>\n",
       "      <td>299.4</td>\n",
       "      <td>71</td>\n",
       "      <td>50.90</td>\n",
       "      <td>61.9</td>\n",
       "      <td>88</td>\n",
       "      <td>5.26</td>\n",
       "      <td>196.9</td>\n",
       "      <td>89</td>\n",
       "      <td>8.86</td>\n",
       "      <td>6.6</td>\n",
       "      <td>7</td>\n",
       "      <td>1.78</td>\n",
       "      <td>2</td>\n",
       "      <td>False</td>\n",
       "    </tr>\n",
       "    <tr>\n",
       "      <th>4</th>\n",
       "      <td>OK</td>\n",
       "      <td>75</td>\n",
       "      <td>415</td>\n",
       "      <td>330-6626</td>\n",
       "      <td>yes</td>\n",
       "      <td>no</td>\n",
       "      <td>0</td>\n",
       "      <td>166.7</td>\n",
       "      <td>113</td>\n",
       "      <td>28.34</td>\n",
       "      <td>148.3</td>\n",
       "      <td>122</td>\n",
       "      <td>12.61</td>\n",
       "      <td>186.9</td>\n",
       "      <td>121</td>\n",
       "      <td>8.41</td>\n",
       "      <td>10.1</td>\n",
       "      <td>3</td>\n",
       "      <td>2.73</td>\n",
       "      <td>3</td>\n",
       "      <td>False</td>\n",
       "    </tr>\n",
       "  </tbody>\n",
       "</table>\n",
       "</div>"
      ],
      "text/plain": [
       "  state  account length  area code phone number international plan  \\\n",
       "0    KS             128        415     382-4657                 no   \n",
       "1    OH             107        415     371-7191                 no   \n",
       "2    NJ             137        415     358-1921                 no   \n",
       "3    OH              84        408     375-9999                yes   \n",
       "4    OK              75        415     330-6626                yes   \n",
       "\n",
       "  voice mail plan  number vmail messages  total day minutes  total day calls  \\\n",
       "0             yes                     25              265.1              110   \n",
       "1             yes                     26              161.6              123   \n",
       "2              no                      0              243.4              114   \n",
       "3              no                      0              299.4               71   \n",
       "4              no                      0              166.7              113   \n",
       "\n",
       "   total day charge  total eve minutes  total eve calls  total eve charge  \\\n",
       "0             45.07              197.4               99             16.78   \n",
       "1             27.47              195.5              103             16.62   \n",
       "2             41.38              121.2              110             10.30   \n",
       "3             50.90               61.9               88              5.26   \n",
       "4             28.34              148.3              122             12.61   \n",
       "\n",
       "   total night minutes  total night calls  total night charge  \\\n",
       "0                244.7                 91               11.01   \n",
       "1                254.4                103               11.45   \n",
       "2                162.6                104                7.32   \n",
       "3                196.9                 89                8.86   \n",
       "4                186.9                121                8.41   \n",
       "\n",
       "   total intl minutes  total intl calls  total intl charge  \\\n",
       "0                10.0                 3               2.70   \n",
       "1                13.7                 3               3.70   \n",
       "2                12.2                 5               3.29   \n",
       "3                 6.6                 7               1.78   \n",
       "4                10.1                 3               2.73   \n",
       "\n",
       "   customer service calls  churn  \n",
       "0                       1  False  \n",
       "1                       1  False  \n",
       "2                       0  False  \n",
       "3                       2  False  \n",
       "4                       3  False  "
      ]
     },
     "execution_count": 6,
     "metadata": {},
     "output_type": "execute_result"
    }
   ],
   "source": [
    "df.head()"
   ]
  },
  {
   "cell_type": "code",
   "execution_count": 7,
   "metadata": {
    "ExecuteTime": {
     "end_time": "2020-09-17T18:26:20.335911Z",
     "start_time": "2020-09-17T18:26:20.333990Z"
    }
   },
   "outputs": [],
   "source": [
    "# for col in df.columns: # preliminary view of value counts per column\n",
    "#     try:\n",
    "#         print(col, df[col].value_counts()[:10])\n",
    "#     except:\n",
    "#         print(col, df[col].value_counts())\n",
    "#         # If there aren't 5+ unique values for a column the first print statement\n",
    "#         # will throw an error for an invalid idx slice\n",
    "#     print('\\n') # Break up the output between columns"
   ]
  },
  {
   "cell_type": "markdown",
   "metadata": {},
   "source": [
    "# Scrub"
   ]
  },
  {
   "cell_type": "markdown",
   "metadata": {},
   "source": [
    "## Multicollinearity"
   ]
  },
  {
   "cell_type": "code",
   "execution_count": 8,
   "metadata": {
    "ExecuteTime": {
     "end_time": "2020-09-17T18:26:21.896613Z",
     "start_time": "2020-09-17T18:26:20.339320Z"
    },
    "scrolled": true
   },
   "outputs": [
    {
     "data": {
      "image/png": "[encoded data removed]",
      "text/plain": [
       "<Figure size 1296x1872 with 2 Axes>"
      ]
     },
     "metadata": {
      "needs_background": "light"
     },
     "output_type": "display_data"
    }
   ],
   "source": [
    "corr = df.corr() # analyzing correlation\n",
    "# corr\n",
    "fig, ax = plt.subplots(figsize=(18,26))\n",
    "mask = np.triu(np.ones_like(corr, dtype=np.bool))\n",
    "sns.heatmap(corr, mask=mask, square=True, annot=True, cmap=\"YlGnBu\")\n",
    "#xticklabels=labels, yticklabels=labels)\n",
    "#plt.xticks(rotation=-45, fontsize=16)\n",
    "ax.patch.set_edgecolor('black')  \n",
    "ax.patch.set_linewidth('1')\n",
    "ax.set_title(\"Correlation & Heat Map\", fontsize=15, fontfamily=\"serif\")\n",
    "plt.show()"
   ]
  },
  {
   "cell_type": "markdown",
   "metadata": {},
   "source": [
    "## Casting Datatypes "
   ]
  },
  {
   "cell_type": "code",
   "execution_count": 9,
   "metadata": {
    "ExecuteTime": {
     "end_time": "2020-09-17T18:26:21.907349Z",
     "start_time": "2020-09-17T18:26:21.900717Z"
    }
   },
   "outputs": [
    {
     "data": {
      "text/plain": [
       "Index(['account length', 'area code', 'number vmail messages',\n",
       "       'total day minutes', 'total day calls', 'total day charge',\n",
       "       'total eve minutes', 'total eve calls', 'total eve charge',\n",
       "       'total night minutes', 'total night calls', 'total night charge',\n",
       "       'total intl minutes', 'total intl calls', 'total intl charge',\n",
       "       'customer service calls'],\n",
       "      dtype='object')"
      ]
     },
     "execution_count": 9,
     "metadata": {},
     "output_type": "execute_result"
    }
   ],
   "source": [
    "numfeats = df.select_dtypes('number').columns # selecting the numerical columns for observation\n",
    "numfeats"
   ]
  },
  {
   "cell_type": "code",
   "execution_count": 10,
   "metadata": {
    "ExecuteTime": {
     "end_time": "2020-09-17T18:26:21.911399Z",
     "start_time": "2020-09-17T18:26:21.909100Z"
    },
    "scrolled": false
   },
   "outputs": [],
   "source": [
    "# model_cols = ['account length', 'area code', 'number vmail messages',\n",
    "#        'total day minutes', 'total day calls', 'total day charge',\n",
    "#        'total eve minutes', 'total eve calls', 'total eve charge',\n",
    "#        'total night minutes', 'total night calls', 'total night charge',\n",
    "#        'total intl minutes', 'total intl calls', 'total intl charge',\n",
    "#        'customer service calls'] # Checking distributions\n",
    "\n",
    "# for column in model_cols:\n",
    "#     df[column].plot.hist(density=True) # Creating a Histogram\n",
    "#     df[column].plot.kde(label=column) # Creating a KDE plot\n",
    "#     plt.legend() # Create Legends\n",
    "#     plt.show()"
   ]
  },
  {
   "cell_type": "code",
   "execution_count": 11,
   "metadata": {
    "ExecuteTime": {
     "end_time": "2020-09-17T18:26:21.920379Z",
     "start_time": "2020-09-17T18:26:21.912854Z"
    }
   },
   "outputs": [],
   "source": [
    "# ID column is phone number\n",
    "catfeats = ['state', 'area code', 'international plan', 'voice mail plan', 'churn'] # recast categorical\n",
    "for col in catfeats:\n",
    "    df[col] = df[col].astype('category')"
   ]
  },
  {
   "cell_type": "code",
   "execution_count": 12,
   "metadata": {
    "ExecuteTime": {
     "end_time": "2020-09-17T18:26:21.935455Z",
     "start_time": "2020-09-17T18:26:21.921806Z"
    }
   },
   "outputs": [
    {
     "name": "stdout",
     "output_type": "stream",
     "text": [
      "<class 'pandas.core.frame.DataFrame'>\n",
      "RangeIndex: 3333 entries, 0 to 3332\n",
      "Data columns (total 21 columns):\n",
      " #   Column                  Non-Null Count  Dtype   \n",
      "---  ------                  --------------  -----   \n",
      " 0   state                   3333 non-null   category\n",
      " 1   account length          3333 non-null   int64   \n",
      " 2   area code               3333 non-null   category\n",
      " 3   phone number            3333 non-null   object  \n",
      " 4   international plan      3333 non-null   category\n",
      " 5   voice mail plan         3333 non-null   category\n",
      " 6   number vmail messages   3333 non-null   int64   \n",
      " 7   total day minutes       3333 non-null   float64 \n",
      " 8   total day calls         3333 non-null   int64   \n",
      " 9   total day charge        3333 non-null   float64 \n",
      " 10  total eve minutes       3333 non-null   float64 \n",
      " 11  total eve calls         3333 non-null   int64   \n",
      " 12  total eve charge        3333 non-null   float64 \n",
      " 13  total night minutes     3333 non-null   float64 \n",
      " 14  total night calls       3333 non-null   int64   \n",
      " 15  total night charge      3333 non-null   float64 \n",
      " 16  total intl minutes      3333 non-null   float64 \n",
      " 17  total intl calls        3333 non-null   int64   \n",
      " 18  total intl charge       3333 non-null   float64 \n",
      " 19  customer service calls  3333 non-null   int64   \n",
      " 20  churn                   3333 non-null   category\n",
      "dtypes: category(5), float64(8), int64(7), object(1)\n",
      "memory usage: 436.3+ KB\n"
     ]
    }
   ],
   "source": [
    "df.info()"
   ]
  },
  {
   "cell_type": "markdown",
   "metadata": {},
   "source": [
    "## Outliers"
   ]
  },
  {
   "cell_type": "code",
   "execution_count": 13,
   "metadata": {
    "ExecuteTime": {
     "end_time": "2020-09-17T18:26:21.988706Z",
     "start_time": "2020-09-17T18:26:21.937007Z"
    }
   },
   "outputs": [
    {
     "data": {
      "text/html": [
       "<div>\n",
       "<style scoped>\n",
       "    .dataframe tbody tr th:only-of-type {\n",
       "        vertical-align: middle;\n",
       "    }\n",
       "\n",
       "    .dataframe tbody tr th {\n",
       "        vertical-align: top;\n",
       "    }\n",
       "\n",
       "    .dataframe thead th {\n",
       "        text-align: right;\n",
       "    }\n",
       "</style>\n",
       "<table border=\"1\" class=\"dataframe\">\n",
       "  <thead>\n",
       "    <tr style=\"text-align: right;\">\n",
       "      <th></th>\n",
       "      <th>account length</th>\n",
       "      <th>number vmail messages</th>\n",
       "      <th>total day minutes</th>\n",
       "      <th>total day calls</th>\n",
       "      <th>total day charge</th>\n",
       "      <th>total eve minutes</th>\n",
       "      <th>total eve calls</th>\n",
       "      <th>total eve charge</th>\n",
       "      <th>total night minutes</th>\n",
       "      <th>total night calls</th>\n",
       "      <th>total night charge</th>\n",
       "      <th>total intl minutes</th>\n",
       "      <th>total intl calls</th>\n",
       "      <th>total intl charge</th>\n",
       "      <th>customer service calls</th>\n",
       "    </tr>\n",
       "  </thead>\n",
       "  <tbody>\n",
       "    <tr>\n",
       "      <th>count</th>\n",
       "      <td>3333.000000</td>\n",
       "      <td>3333.000000</td>\n",
       "      <td>3333.000000</td>\n",
       "      <td>3333.000000</td>\n",
       "      <td>3333.000000</td>\n",
       "      <td>3333.000000</td>\n",
       "      <td>3333.000000</td>\n",
       "      <td>3333.000000</td>\n",
       "      <td>3333.000000</td>\n",
       "      <td>3333.000000</td>\n",
       "      <td>3333.000000</td>\n",
       "      <td>3333.000000</td>\n",
       "      <td>3333.000000</td>\n",
       "      <td>3333.000000</td>\n",
       "      <td>3333.000000</td>\n",
       "    </tr>\n",
       "    <tr>\n",
       "      <th>mean</th>\n",
       "      <td>101.064806</td>\n",
       "      <td>8.099010</td>\n",
       "      <td>179.775098</td>\n",
       "      <td>100.435644</td>\n",
       "      <td>30.562307</td>\n",
       "      <td>200.980348</td>\n",
       "      <td>100.114311</td>\n",
       "      <td>17.083540</td>\n",
       "      <td>200.872037</td>\n",
       "      <td>100.107711</td>\n",
       "      <td>9.039325</td>\n",
       "      <td>10.237294</td>\n",
       "      <td>4.479448</td>\n",
       "      <td>2.764581</td>\n",
       "      <td>1.562856</td>\n",
       "    </tr>\n",
       "    <tr>\n",
       "      <th>std</th>\n",
       "      <td>39.822106</td>\n",
       "      <td>13.688365</td>\n",
       "      <td>54.467389</td>\n",
       "      <td>20.069084</td>\n",
       "      <td>9.259435</td>\n",
       "      <td>50.713844</td>\n",
       "      <td>19.922625</td>\n",
       "      <td>4.310668</td>\n",
       "      <td>50.573847</td>\n",
       "      <td>19.568609</td>\n",
       "      <td>2.275873</td>\n",
       "      <td>2.791840</td>\n",
       "      <td>2.461214</td>\n",
       "      <td>0.753773</td>\n",
       "      <td>1.315491</td>\n",
       "    </tr>\n",
       "    <tr>\n",
       "      <th>min</th>\n",
       "      <td>1.000000</td>\n",
       "      <td>0.000000</td>\n",
       "      <td>0.000000</td>\n",
       "      <td>0.000000</td>\n",
       "      <td>0.000000</td>\n",
       "      <td>0.000000</td>\n",
       "      <td>0.000000</td>\n",
       "      <td>0.000000</td>\n",
       "      <td>23.200000</td>\n",
       "      <td>33.000000</td>\n",
       "      <td>1.040000</td>\n",
       "      <td>0.000000</td>\n",
       "      <td>0.000000</td>\n",
       "      <td>0.000000</td>\n",
       "      <td>0.000000</td>\n",
       "    </tr>\n",
       "    <tr>\n",
       "      <th>25%</th>\n",
       "      <td>74.000000</td>\n",
       "      <td>0.000000</td>\n",
       "      <td>143.700000</td>\n",
       "      <td>87.000000</td>\n",
       "      <td>24.430000</td>\n",
       "      <td>166.600000</td>\n",
       "      <td>87.000000</td>\n",
       "      <td>14.160000</td>\n",
       "      <td>167.000000</td>\n",
       "      <td>87.000000</td>\n",
       "      <td>7.520000</td>\n",
       "      <td>8.500000</td>\n",
       "      <td>3.000000</td>\n",
       "      <td>2.300000</td>\n",
       "      <td>1.000000</td>\n",
       "    </tr>\n",
       "    <tr>\n",
       "      <th>50%</th>\n",
       "      <td>101.000000</td>\n",
       "      <td>0.000000</td>\n",
       "      <td>179.400000</td>\n",
       "      <td>101.000000</td>\n",
       "      <td>30.500000</td>\n",
       "      <td>201.400000</td>\n",
       "      <td>100.000000</td>\n",
       "      <td>17.120000</td>\n",
       "      <td>201.200000</td>\n",
       "      <td>100.000000</td>\n",
       "      <td>9.050000</td>\n",
       "      <td>10.300000</td>\n",
       "      <td>4.000000</td>\n",
       "      <td>2.780000</td>\n",
       "      <td>1.000000</td>\n",
       "    </tr>\n",
       "    <tr>\n",
       "      <th>75%</th>\n",
       "      <td>127.000000</td>\n",
       "      <td>20.000000</td>\n",
       "      <td>216.400000</td>\n",
       "      <td>114.000000</td>\n",
       "      <td>36.790000</td>\n",
       "      <td>235.300000</td>\n",
       "      <td>114.000000</td>\n",
       "      <td>20.000000</td>\n",
       "      <td>235.300000</td>\n",
       "      <td>113.000000</td>\n",
       "      <td>10.590000</td>\n",
       "      <td>12.100000</td>\n",
       "      <td>6.000000</td>\n",
       "      <td>3.270000</td>\n",
       "      <td>2.000000</td>\n",
       "    </tr>\n",
       "    <tr>\n",
       "      <th>max</th>\n",
       "      <td>243.000000</td>\n",
       "      <td>51.000000</td>\n",
       "      <td>350.800000</td>\n",
       "      <td>165.000000</td>\n",
       "      <td>59.640000</td>\n",
       "      <td>363.700000</td>\n",
       "      <td>170.000000</td>\n",
       "      <td>30.910000</td>\n",
       "      <td>395.000000</td>\n",
       "      <td>175.000000</td>\n",
       "      <td>17.770000</td>\n",
       "      <td>20.000000</td>\n",
       "      <td>20.000000</td>\n",
       "      <td>5.400000</td>\n",
       "      <td>9.000000</td>\n",
       "    </tr>\n",
       "  </tbody>\n",
       "</table>\n",
       "</div>"
      ],
      "text/plain": [
       "       account length  number vmail messages  total day minutes  \\\n",
       "count     3333.000000            3333.000000        3333.000000   \n",
       "mean       101.064806               8.099010         179.775098   \n",
       "std         39.822106              13.688365          54.467389   \n",
       "min          1.000000               0.000000           0.000000   \n",
       "25%         74.000000               0.000000         143.700000   \n",
       "50%        101.000000               0.000000         179.400000   \n",
       "75%        127.000000              20.000000         216.400000   \n",
       "max        243.000000              51.000000         350.800000   \n",
       "\n",
       "       total day calls  total day charge  total eve minutes  total eve calls  \\\n",
       "count      3333.000000       3333.000000        3333.000000      3333.000000   \n",
       "mean        100.435644         30.562307         200.980348       100.114311   \n",
       "std          20.069084          9.259435          50.713844        19.922625   \n",
       "min           0.000000          0.000000           0.000000         0.000000   \n",
       "25%          87.000000         24.430000         166.600000        87.000000   \n",
       "50%         101.000000         30.500000         201.400000       100.000000   \n",
       "75%         114.000000         36.790000         235.300000       114.000000   \n",
       "max         165.000000         59.640000         363.700000       170.000000   \n",
       "\n",
       "       total eve charge  total night minutes  total night calls  \\\n",
       "count       3333.000000          3333.000000        3333.000000   \n",
       "mean          17.083540           200.872037         100.107711   \n",
       "std            4.310668            50.573847          19.568609   \n",
       "min            0.000000            23.200000          33.000000   \n",
       "25%           14.160000           167.000000          87.000000   \n",
       "50%           17.120000           201.200000         100.000000   \n",
       "75%           20.000000           235.300000         113.000000   \n",
       "max           30.910000           395.000000         175.000000   \n",
       "\n",
       "       total night charge  total intl minutes  total intl calls  \\\n",
       "count         3333.000000         3333.000000       3333.000000   \n",
       "mean             9.039325           10.237294          4.479448   \n",
       "std              2.275873            2.791840          2.461214   \n",
       "min              1.040000            0.000000          0.000000   \n",
       "25%              7.520000            8.500000          3.000000   \n",
       "50%              9.050000           10.300000          4.000000   \n",
       "75%             10.590000           12.100000          6.000000   \n",
       "max             17.770000           20.000000         20.000000   \n",
       "\n",
       "       total intl charge  customer service calls  \n",
       "count        3333.000000             3333.000000  \n",
       "mean            2.764581                1.562856  \n",
       "std             0.753773                1.315491  \n",
       "min             0.000000                0.000000  \n",
       "25%             2.300000                1.000000  \n",
       "50%             2.780000                1.000000  \n",
       "75%             3.270000                2.000000  \n",
       "max             5.400000                9.000000  "
      ]
     },
     "execution_count": 13,
     "metadata": {},
     "output_type": "execute_result"
    }
   ],
   "source": [
    "df.describe() # addressing outliers on account length"
   ]
  },
  {
   "cell_type": "code",
   "execution_count": 14,
   "metadata": {
    "ExecuteTime": {
     "end_time": "2020-09-17T18:26:21.994375Z",
     "start_time": "2020-09-17T18:26:21.990267Z"
    }
   },
   "outputs": [],
   "source": [
    "# IQR Outlier Removal Function\n",
    "def iqr_outlier_rem(df, col_name):\n",
    "    start_len = len(df)\n",
    "    Q1 = df[col_name].quantile(0.25)\n",
    "    Q3 = df[col_name].quantile(0.75)\n",
    "    IQR = Q3-Q1 # Finding interquartile range\n",
    "    lower_threshold  = Q1-1.5*IQR\n",
    "    upper_threshold = Q3+1.5*IQR\n",
    "    new_df = df.loc[(df[col_name] > lower_threshold) & (df[col_name] < upper_threshold)]\n",
    "    print(f'There were {start_len - len(new_df)} outliers removed from {col_name}')\n",
    "    return new_df"
   ]
  },
  {
   "cell_type": "code",
   "execution_count": 15,
   "metadata": {
    "ExecuteTime": {
     "end_time": "2020-09-17T18:26:22.003914Z",
     "start_time": "2020-09-17T18:26:21.995783Z"
    }
   },
   "outputs": [
    {
     "name": "stdout",
     "output_type": "stream",
     "text": [
      "There were 18 outliers removed from account length\n"
     ]
    }
   ],
   "source": [
    "df = iqr_outlier_rem(df, 'account length')"
   ]
  },
  {
   "cell_type": "markdown",
   "metadata": {},
   "source": [
    "# Explore - EDA"
   ]
  },
  {
   "cell_type": "code",
   "execution_count": 16,
   "metadata": {
    "ExecuteTime": {
     "end_time": "2020-09-17T18:26:22.008405Z",
     "start_time": "2020-09-17T18:26:22.006050Z"
    }
   },
   "outputs": [],
   "source": [
    "# plt.figure(figsize=(16,8))\n",
    "# plt.subplot(221)\n",
    "# sns.scatterplot(df['total day minutes'], df['total day charge'])\n",
    "# plt.title('Total Day Minutes X Day Charge')\n",
    "\n",
    "# plt.subplot(222)\n",
    "# sns.scatterplot(df['total eve minutes'], df['total eve charge'])\n",
    "# plt.title('Total eve Minutes X Eve Charge')\n",
    "\n",
    "# plt.subplot(223)\n",
    "# sns.scatterplot(df['total night minutes'], df['total night charge'])\n",
    "# plt.title('Total Night Minutes X Night Charge')\n",
    "\n",
    "# plt.subplot(224)\n",
    "# sns.scatterplot(df['total intl minutes'], df['total intl charge'])\n",
    "# plt.title('Total Intl Minutes X Intl Charge')\n",
    "\n",
    "# # #plt.title('Sqft_living15 and Price')\n",
    "\n",
    "# plt.subplots_adjust(hspace=0.35)\n",
    "# plt.show()"
   ]
  },
  {
   "cell_type": "code",
   "execution_count": 17,
   "metadata": {
    "ExecuteTime": {
     "end_time": "2020-09-17T18:26:22.029294Z",
     "start_time": "2020-09-17T18:26:22.010187Z"
    }
   },
   "outputs": [
    {
     "data": {
      "text/html": [
       "<div>\n",
       "<style scoped>\n",
       "    .dataframe tbody tr th:only-of-type {\n",
       "        vertical-align: middle;\n",
       "    }\n",
       "\n",
       "    .dataframe tbody tr th {\n",
       "        vertical-align: top;\n",
       "    }\n",
       "\n",
       "    .dataframe thead th {\n",
       "        text-align: right;\n",
       "    }\n",
       "</style>\n",
       "<table border=\"1\" class=\"dataframe\">\n",
       "  <thead>\n",
       "    <tr style=\"text-align: right;\">\n",
       "      <th></th>\n",
       "      <th>state</th>\n",
       "      <th>account length</th>\n",
       "      <th>area code</th>\n",
       "      <th>phone number</th>\n",
       "      <th>international plan</th>\n",
       "      <th>voice mail plan</th>\n",
       "      <th>number vmail messages</th>\n",
       "      <th>total day minutes</th>\n",
       "      <th>total day calls</th>\n",
       "      <th>total day charge</th>\n",
       "      <th>total eve minutes</th>\n",
       "      <th>total eve calls</th>\n",
       "      <th>total eve charge</th>\n",
       "      <th>total night minutes</th>\n",
       "      <th>total night calls</th>\n",
       "      <th>total night charge</th>\n",
       "      <th>total intl minutes</th>\n",
       "      <th>total intl calls</th>\n",
       "      <th>total intl charge</th>\n",
       "      <th>customer service calls</th>\n",
       "      <th>churn</th>\n",
       "    </tr>\n",
       "  </thead>\n",
       "  <tbody>\n",
       "    <tr>\n",
       "      <th>0</th>\n",
       "      <td>KS</td>\n",
       "      <td>128</td>\n",
       "      <td>415</td>\n",
       "      <td>382-4657</td>\n",
       "      <td>no</td>\n",
       "      <td>yes</td>\n",
       "      <td>25</td>\n",
       "      <td>265.1</td>\n",
       "      <td>110</td>\n",
       "      <td>45.07</td>\n",
       "      <td>197.4</td>\n",
       "      <td>99</td>\n",
       "      <td>16.78</td>\n",
       "      <td>244.7</td>\n",
       "      <td>91</td>\n",
       "      <td>11.01</td>\n",
       "      <td>10.0</td>\n",
       "      <td>3</td>\n",
       "      <td>2.70</td>\n",
       "      <td>1</td>\n",
       "      <td>False</td>\n",
       "    </tr>\n",
       "    <tr>\n",
       "      <th>1</th>\n",
       "      <td>OH</td>\n",
       "      <td>107</td>\n",
       "      <td>415</td>\n",
       "      <td>371-7191</td>\n",
       "      <td>no</td>\n",
       "      <td>yes</td>\n",
       "      <td>26</td>\n",
       "      <td>161.6</td>\n",
       "      <td>123</td>\n",
       "      <td>27.47</td>\n",
       "      <td>195.5</td>\n",
       "      <td>103</td>\n",
       "      <td>16.62</td>\n",
       "      <td>254.4</td>\n",
       "      <td>103</td>\n",
       "      <td>11.45</td>\n",
       "      <td>13.7</td>\n",
       "      <td>3</td>\n",
       "      <td>3.70</td>\n",
       "      <td>1</td>\n",
       "      <td>False</td>\n",
       "    </tr>\n",
       "    <tr>\n",
       "      <th>2</th>\n",
       "      <td>NJ</td>\n",
       "      <td>137</td>\n",
       "      <td>415</td>\n",
       "      <td>358-1921</td>\n",
       "      <td>no</td>\n",
       "      <td>no</td>\n",
       "      <td>0</td>\n",
       "      <td>243.4</td>\n",
       "      <td>114</td>\n",
       "      <td>41.38</td>\n",
       "      <td>121.2</td>\n",
       "      <td>110</td>\n",
       "      <td>10.30</td>\n",
       "      <td>162.6</td>\n",
       "      <td>104</td>\n",
       "      <td>7.32</td>\n",
       "      <td>12.2</td>\n",
       "      <td>5</td>\n",
       "      <td>3.29</td>\n",
       "      <td>0</td>\n",
       "      <td>False</td>\n",
       "    </tr>\n",
       "    <tr>\n",
       "      <th>3</th>\n",
       "      <td>OH</td>\n",
       "      <td>84</td>\n",
       "      <td>408</td>\n",
       "      <td>375-9999</td>\n",
       "      <td>yes</td>\n",
       "      <td>no</td>\n",
       "      <td>0</td>\n",
       "      <td>299.4</td>\n",
       "      <td>71</td>\n",
       "      <td>50.90</td>\n",
       "      <td>61.9</td>\n",
       "      <td>88</td>\n",
       "      <td>5.26</td>\n",
       "      <td>196.9</td>\n",
       "      <td>89</td>\n",
       "      <td>8.86</td>\n",
       "      <td>6.6</td>\n",
       "      <td>7</td>\n",
       "      <td>1.78</td>\n",
       "      <td>2</td>\n",
       "      <td>False</td>\n",
       "    </tr>\n",
       "    <tr>\n",
       "      <th>4</th>\n",
       "      <td>OK</td>\n",
       "      <td>75</td>\n",
       "      <td>415</td>\n",
       "      <td>330-6626</td>\n",
       "      <td>yes</td>\n",
       "      <td>no</td>\n",
       "      <td>0</td>\n",
       "      <td>166.7</td>\n",
       "      <td>113</td>\n",
       "      <td>28.34</td>\n",
       "      <td>148.3</td>\n",
       "      <td>122</td>\n",
       "      <td>12.61</td>\n",
       "      <td>186.9</td>\n",
       "      <td>121</td>\n",
       "      <td>8.41</td>\n",
       "      <td>10.1</td>\n",
       "      <td>3</td>\n",
       "      <td>2.73</td>\n",
       "      <td>3</td>\n",
       "      <td>False</td>\n",
       "    </tr>\n",
       "  </tbody>\n",
       "</table>\n",
       "</div>"
      ],
      "text/plain": [
       "  state  account length area code phone number international plan  \\\n",
       "0    KS             128       415     382-4657                 no   \n",
       "1    OH             107       415     371-7191                 no   \n",
       "2    NJ             137       415     358-1921                 no   \n",
       "3    OH              84       408     375-9999                yes   \n",
       "4    OK              75       415     330-6626                yes   \n",
       "\n",
       "  voice mail plan  number vmail messages  total day minutes  total day calls  \\\n",
       "0             yes                     25              265.1              110   \n",
       "1             yes                     26              161.6              123   \n",
       "2              no                      0              243.4              114   \n",
       "3              no                      0              299.4               71   \n",
       "4              no                      0              166.7              113   \n",
       "\n",
       "   total day charge  total eve minutes  total eve calls  total eve charge  \\\n",
       "0             45.07              197.4               99             16.78   \n",
       "1             27.47              195.5              103             16.62   \n",
       "2             41.38              121.2              110             10.30   \n",
       "3             50.90               61.9               88              5.26   \n",
       "4             28.34              148.3              122             12.61   \n",
       "\n",
       "   total night minutes  total night calls  total night charge  \\\n",
       "0                244.7                 91               11.01   \n",
       "1                254.4                103               11.45   \n",
       "2                162.6                104                7.32   \n",
       "3                196.9                 89                8.86   \n",
       "4                186.9                121                8.41   \n",
       "\n",
       "   total intl minutes  total intl calls  total intl charge  \\\n",
       "0                10.0                 3               2.70   \n",
       "1                13.7                 3               3.70   \n",
       "2                12.2                 5               3.29   \n",
       "3                 6.6                 7               1.78   \n",
       "4                10.1                 3               2.73   \n",
       "\n",
       "   customer service calls  churn  \n",
       "0                       1  False  \n",
       "1                       1  False  \n",
       "2                       0  False  \n",
       "3                       2  False  \n",
       "4                       3  False  "
      ]
     },
     "execution_count": 17,
     "metadata": {},
     "output_type": "execute_result"
    }
   ],
   "source": [
    "df.head()"
   ]
  },
  {
   "cell_type": "code",
   "execution_count": 18,
   "metadata": {
    "ExecuteTime": {
     "end_time": "2020-09-17T18:26:22.172953Z",
     "start_time": "2020-09-17T18:26:22.031132Z"
    }
   },
   "outputs": [
    {
     "data": {
      "image/png": "[encoded data removed]",
      "text/plain": [
       "<Figure size 432x288 with 1 Axes>"
      ]
     },
     "metadata": {
      "needs_background": "light"
     },
     "output_type": "display_data"
    }
   ],
   "source": [
    "ax=sns.countplot(x=\"churn\",data=df)\n",
    "for p in ax.patches:\n",
    "        ax.annotate('{:.2f}%'.format((p.get_height()/df.shape[0])*100), (p.get_x()+0.3, p.get_height()))"
   ]
  },
  {
   "cell_type": "code",
   "execution_count": 19,
   "metadata": {
    "ExecuteTime": {
     "end_time": "2020-09-17T18:26:22.413022Z",
     "start_time": "2020-09-17T18:26:22.175100Z"
    }
   },
   "outputs": [
    {
     "data": {
      "image/png": "[encoded data removed]",
      "text/plain": [
       "<Figure size 432x360 with 1 Axes>"
      ]
     },
     "metadata": {
      "needs_background": "light"
     },
     "output_type": "display_data"
    }
   ],
   "source": [
    "ac = df.groupby([\"area code\", \"churn\"]).size().unstack().plot(kind='bar', stacked=False,figsize=(6,5))\n",
    "for i in ac.patches:\n",
    "    #ac.annotate('{:.2f}%'.format((p.get_height()/df.shape[0])*100), (p.get_x()+0.3, p.get_height()))\n",
    "    ac.text(i.get_x()+0.05, i.get_height()+20,str(i.get_height()))"
   ]
  },
  {
   "cell_type": "code",
   "execution_count": 20,
   "metadata": {
    "ExecuteTime": {
     "end_time": "2020-09-17T18:26:23.849209Z",
     "start_time": "2020-09-17T18:26:22.414939Z"
    },
    "scrolled": true
   },
   "outputs": [
    {
     "data": {
      "image/png": "[encoded data removed]",
      "text/plain": [
       "<Figure size 2160x720 with 1 Axes>"
      ]
     },
     "metadata": {
      "needs_background": "light"
     },
     "output_type": "display_data"
    }
   ],
   "source": [
    "df.groupby([\"state\", \"churn\"]).size().unstack().plot(kind='bar', stacked=True, figsize=(30,10)); # churn by statea"
   ]
  },
  {
   "cell_type": "code",
   "execution_count": 21,
   "metadata": {
    "ExecuteTime": {
     "end_time": "2020-09-17T18:26:24.064806Z",
     "start_time": "2020-09-17T18:26:23.850918Z"
    }
   },
   "outputs": [
    {
     "data": {
      "image/png": "[encoded data removed]",
      "text/plain": [
       "<Figure size 360x360 with 1 Axes>"
      ]
     },
     "metadata": {
      "needs_background": "light"
     },
     "output_type": "display_data"
    }
   ],
   "source": [
    "df.groupby([\"area code\", \"churn\"]).size().unstack().plot(kind='bar', stacked=True, figsize=(5,5)); # churn by area code"
   ]
  },
  {
   "cell_type": "code",
   "execution_count": 22,
   "metadata": {
    "ExecuteTime": {
     "end_time": "2020-09-17T18:26:24.472418Z",
     "start_time": "2020-09-17T18:26:24.066404Z"
    }
   },
   "outputs": [
    {
     "data": {
      "image/png": "[encoded data removed]",
      "text/plain": [
       "<Figure size 864x432 with 1 Axes>"
      ]
     },
     "metadata": {
      "needs_background": "light"
     },
     "output_type": "display_data"
    }
   ],
   "source": [
    "cs = df.groupby([\"customer service calls\", \"churn\"]).size().unstack().plot(kind='bar', stacked=False,figsize=(12,6))\n",
    "for i in cs.patches:\n",
    "    cs.text(i.get_x()+0.05, i.get_height()+20,int(i.get_height()))"
   ]
  },
  {
   "cell_type": "code",
   "execution_count": 23,
   "metadata": {
    "ExecuteTime": {
     "end_time": "2020-09-17T18:26:24.678439Z",
     "start_time": "2020-09-17T18:26:24.477382Z"
    }
   },
   "outputs": [
    {
     "data": {
      "image/png": "[encoded data removed]",
      "text/plain": [
       "<Figure size 432x360 with 1 Axes>"
      ]
     },
     "metadata": {
      "needs_background": "light"
     },
     "output_type": "display_data"
    }
   ],
   "source": [
    "ip=df.groupby([\"international plan\", \"churn\"]).size().unstack().plot(kind='bar', stacked=False,figsize=(6,5))\n",
    "for i in ip.patches:\n",
    "    ip.text(i.get_x()+0.05, i.get_height()+20,str(i.get_height()))"
   ]
  },
  {
   "cell_type": "code",
   "execution_count": 24,
   "metadata": {
    "ExecuteTime": {
     "end_time": "2020-09-17T18:26:24.683061Z",
     "start_time": "2020-09-17T18:26:24.681039Z"
    }
   },
   "outputs": [],
   "source": [
    "# df['phone_number'].value_counts() # no duplicates"
   ]
  },
  {
   "cell_type": "code",
   "execution_count": 25,
   "metadata": {
    "ExecuteTime": {
     "end_time": "2020-09-17T18:26:24.697970Z",
     "start_time": "2020-09-17T18:26:24.684528Z"
    }
   },
   "outputs": [
    {
     "name": "stdout",
     "output_type": "stream",
     "text": [
      "<class 'pandas.core.frame.DataFrame'>\n",
      "Int64Index: 3315 entries, 0 to 3332\n",
      "Data columns (total 21 columns):\n",
      " #   Column                  Non-Null Count  Dtype   \n",
      "---  ------                  --------------  -----   \n",
      " 0   state                   3315 non-null   category\n",
      " 1   account length          3315 non-null   int64   \n",
      " 2   area code               3315 non-null   category\n",
      " 3   phone number            3315 non-null   object  \n",
      " 4   international plan      3315 non-null   category\n",
      " 5   voice mail plan         3315 non-null   category\n",
      " 6   number vmail messages   3315 non-null   int64   \n",
      " 7   total day minutes       3315 non-null   float64 \n",
      " 8   total day calls         3315 non-null   int64   \n",
      " 9   total day charge        3315 non-null   float64 \n",
      " 10  total eve minutes       3315 non-null   float64 \n",
      " 11  total eve calls         3315 non-null   int64   \n",
      " 12  total eve charge        3315 non-null   float64 \n",
      " 13  total night minutes     3315 non-null   float64 \n",
      " 14  total night calls       3315 non-null   int64   \n",
      " 15  total night charge      3315 non-null   float64 \n",
      " 16  total intl minutes      3315 non-null   float64 \n",
      " 17  total intl calls        3315 non-null   int64   \n",
      " 18  total intl charge       3315 non-null   float64 \n",
      " 19  customer service calls  3315 non-null   int64   \n",
      " 20  churn                   3315 non-null   category\n",
      "dtypes: category(5), float64(8), int64(7), object(1)\n",
      "memory usage: 619.7+ KB\n"
     ]
    }
   ],
   "source": [
    "df.info()"
   ]
  },
  {
   "cell_type": "code",
   "execution_count": 26,
   "metadata": {
    "ExecuteTime": {
     "end_time": "2020-09-17T18:26:24.701128Z",
     "start_time": "2020-09-17T18:26:24.699354Z"
    }
   },
   "outputs": [],
   "source": [
    "# dup = df[df.id.duplicated(keep=False)]\n",
    "# print('Renovated vs. Non-renovated homes Resold (2014-2015)')\n",
    "# print(dup['yr_renovated'].value_counts())\n",
    "# dup['yr_renovated'].hist(figsize = (10,10), color = \"green\"); #let's make a histogram to compare\n",
    "# plt.title('Renovated vs. Non-renovated homes Resold (2014-2015)', fontdict={'fontsize': 16});"
   ]
  },
  {
   "cell_type": "markdown",
   "metadata": {},
   "source": [
    "## Dropping Features"
   ]
  },
  {
   "cell_type": "code",
   "execution_count": 27,
   "metadata": {
    "ExecuteTime": {
     "end_time": "2020-09-17T18:26:24.705303Z",
     "start_time": "2020-09-17T18:26:24.702661Z"
    }
   },
   "outputs": [],
   "source": [
    "df_fresh = df.copy()"
   ]
  },
  {
   "cell_type": "code",
   "execution_count": 28,
   "metadata": {
    "ExecuteTime": {
     "end_time": "2020-09-17T18:26:24.708845Z",
     "start_time": "2020-09-17T18:26:24.706843Z"
    }
   },
   "outputs": [],
   "source": [
    "# dup = df[[df['phone_number'].duplicated(keep=False)]]\n",
    "# dup.head()\n",
    "# #dup['phone_number'].value_counts()"
   ]
  },
  {
   "cell_type": "code",
   "execution_count": 29,
   "metadata": {
    "ExecuteTime": {
     "end_time": "2020-09-17T18:26:24.714428Z",
     "start_time": "2020-09-17T18:26:24.710937Z"
    }
   },
   "outputs": [],
   "source": [
    "df = df.drop(['phone number', 'total day minutes', 'total eve minutes', 'total night minutes', 'total intl minutes'], axis=1)"
   ]
  },
  {
   "cell_type": "code",
   "execution_count": 30,
   "metadata": {
    "ExecuteTime": {
     "end_time": "2020-09-17T18:26:24.727927Z",
     "start_time": "2020-09-17T18:26:24.716170Z"
    }
   },
   "outputs": [
    {
     "name": "stdout",
     "output_type": "stream",
     "text": [
      "<class 'pandas.core.frame.DataFrame'>\n",
      "Int64Index: 3315 entries, 0 to 3332\n",
      "Data columns (total 16 columns):\n",
      " #   Column                  Non-Null Count  Dtype   \n",
      "---  ------                  --------------  -----   \n",
      " 0   state                   3315 non-null   category\n",
      " 1   account length          3315 non-null   int64   \n",
      " 2   area code               3315 non-null   category\n",
      " 3   international plan      3315 non-null   category\n",
      " 4   voice mail plan         3315 non-null   category\n",
      " 5   number vmail messages   3315 non-null   int64   \n",
      " 6   total day calls         3315 non-null   int64   \n",
      " 7   total day charge        3315 non-null   float64 \n",
      " 8   total eve calls         3315 non-null   int64   \n",
      " 9   total eve charge        3315 non-null   float64 \n",
      " 10  total night calls       3315 non-null   int64   \n",
      " 11  total night charge      3315 non-null   float64 \n",
      " 12  total intl calls        3315 non-null   int64   \n",
      " 13  total intl charge       3315 non-null   float64 \n",
      " 14  customer service calls  3315 non-null   int64   \n",
      " 15  churn                   3315 non-null   category\n",
      "dtypes: category(5), float64(4), int64(7)\n",
      "memory usage: 490.2 KB\n"
     ]
    }
   ],
   "source": [
    "df.info()"
   ]
  },
  {
   "cell_type": "code",
   "execution_count": 31,
   "metadata": {
    "ExecuteTime": {
     "end_time": "2020-09-17T18:26:24.747386Z",
     "start_time": "2020-09-17T18:26:24.729832Z"
    }
   },
   "outputs": [],
   "source": [
    "# One Hot Encode\n",
    "df = pd.get_dummies(df, drop_first=True)"
   ]
  },
  {
   "cell_type": "code",
   "execution_count": 32,
   "metadata": {
    "ExecuteTime": {
     "end_time": "2020-09-17T18:26:24.752856Z",
     "start_time": "2020-09-17T18:26:24.749192Z"
    }
   },
   "outputs": [],
   "source": [
    "# cleaning column names\n",
    "subs = [(' ', '_'),('.0',''),('.','')]\n",
    "\n",
    "def col_formatting(col):\n",
    "    for old, new in subs:\n",
    "        col = col.replace(old,new)\n",
    "    return col\n",
    "\n",
    "df.columns = [col_formatting(col) for col in df.columns]"
   ]
  },
  {
   "cell_type": "code",
   "execution_count": 33,
   "metadata": {
    "ExecuteTime": {
     "end_time": "2020-09-17T18:26:24.768089Z",
     "start_time": "2020-09-17T18:26:24.754350Z"
    }
   },
   "outputs": [
    {
     "name": "stdout",
     "output_type": "stream",
     "text": [
      "<class 'pandas.core.frame.DataFrame'>\n",
      "Int64Index: 3315 entries, 0 to 3332\n",
      "Data columns (total 66 columns):\n",
      " #   Column                  Non-Null Count  Dtype  \n",
      "---  ------                  --------------  -----  \n",
      " 0   account_length          3315 non-null   int64  \n",
      " 1   number_vmail_messages   3315 non-null   int64  \n",
      " 2   total_day_calls         3315 non-null   int64  \n",
      " 3   total_day_charge        3315 non-null   float64\n",
      " 4   total_eve_calls         3315 non-null   int64  \n",
      " 5   total_eve_charge        3315 non-null   float64\n",
      " 6   total_night_calls       3315 non-null   int64  \n",
      " 7   total_night_charge      3315 non-null   float64\n",
      " 8   total_intl_calls        3315 non-null   int64  \n",
      " 9   total_intl_charge       3315 non-null   float64\n",
      " 10  customer_service_calls  3315 non-null   int64  \n",
      " 11  state_AL                3315 non-null   uint8  \n",
      " 12  state_AR                3315 non-null   uint8  \n",
      " 13  state_AZ                3315 non-null   uint8  \n",
      " 14  state_CA                3315 non-null   uint8  \n",
      " 15  state_CO                3315 non-null   uint8  \n",
      " 16  state_CT                3315 non-null   uint8  \n",
      " 17  state_DC                3315 non-null   uint8  \n",
      " 18  state_DE                3315 non-null   uint8  \n",
      " 19  state_FL                3315 non-null   uint8  \n",
      " 20  state_GA                3315 non-null   uint8  \n",
      " 21  state_HI                3315 non-null   uint8  \n",
      " 22  state_IA                3315 non-null   uint8  \n",
      " 23  state_ID                3315 non-null   uint8  \n",
      " 24  state_IL                3315 non-null   uint8  \n",
      " 25  state_IN                3315 non-null   uint8  \n",
      " 26  state_KS                3315 non-null   uint8  \n",
      " 27  state_KY                3315 non-null   uint8  \n",
      " 28  state_LA                3315 non-null   uint8  \n",
      " 29  state_MA                3315 non-null   uint8  \n",
      " 30  state_MD                3315 non-null   uint8  \n",
      " 31  state_ME                3315 non-null   uint8  \n",
      " 32  state_MI                3315 non-null   uint8  \n",
      " 33  state_MN                3315 non-null   uint8  \n",
      " 34  state_MO                3315 non-null   uint8  \n",
      " 35  state_MS                3315 non-null   uint8  \n",
      " 36  state_MT                3315 non-null   uint8  \n",
      " 37  state_NC                3315 non-null   uint8  \n",
      " 38  state_ND                3315 non-null   uint8  \n",
      " 39  state_NE                3315 non-null   uint8  \n",
      " 40  state_NH                3315 non-null   uint8  \n",
      " 41  state_NJ                3315 non-null   uint8  \n",
      " 42  state_NM                3315 non-null   uint8  \n",
      " 43  state_NV                3315 non-null   uint8  \n",
      " 44  state_NY                3315 non-null   uint8  \n",
      " 45  state_OH                3315 non-null   uint8  \n",
      " 46  state_OK                3315 non-null   uint8  \n",
      " 47  state_OR                3315 non-null   uint8  \n",
      " 48  state_PA                3315 non-null   uint8  \n",
      " 49  state_RI                3315 non-null   uint8  \n",
      " 50  state_SC                3315 non-null   uint8  \n",
      " 51  state_SD                3315 non-null   uint8  \n",
      " 52  state_TN                3315 non-null   uint8  \n",
      " 53  state_TX                3315 non-null   uint8  \n",
      " 54  state_UT                3315 non-null   uint8  \n",
      " 55  state_VA                3315 non-null   uint8  \n",
      " 56  state_VT                3315 non-null   uint8  \n",
      " 57  state_WA                3315 non-null   uint8  \n",
      " 58  state_WI                3315 non-null   uint8  \n",
      " 59  state_WV                3315 non-null   uint8  \n",
      " 60  state_WY                3315 non-null   uint8  \n",
      " 61  area_code_415           3315 non-null   uint8  \n",
      " 62  area_code_510           3315 non-null   uint8  \n",
      " 63  international_plan_yes  3315 non-null   uint8  \n",
      " 64  voice_mail_plan_yes     3315 non-null   uint8  \n",
      " 65  churn_True              3315 non-null   uint8  \n",
      "dtypes: float64(4), int64(7), uint8(55)\n",
      "memory usage: 648.8 KB\n"
     ]
    }
   ],
   "source": [
    "df.info()"
   ]
  },
  {
   "cell_type": "code",
   "execution_count": 34,
   "metadata": {
    "ExecuteTime": {
     "end_time": "2020-09-17T18:26:24.775350Z",
     "start_time": "2020-09-17T18:26:24.769918Z"
    }
   },
   "outputs": [
    {
     "name": "stdout",
     "output_type": "stream",
     "text": [
      "2486 829\n"
     ]
    }
   ],
   "source": [
    "# Defining Variables\n",
    "outcome = 'churn_True'\n",
    "x_cols = list(df.columns)\n",
    "x_cols.remove(outcome)\n",
    "# Test Train Split\n",
    "train, test = train_test_split(df)\n",
    "print(len(train), len(test))"
   ]
  },
  {
   "cell_type": "code",
   "execution_count": 35,
   "metadata": {
    "ExecuteTime": {
     "end_time": "2020-09-17T18:26:24.938115Z",
     "start_time": "2020-09-17T18:26:24.776882Z"
    }
   },
   "outputs": [
    {
     "data": {
      "text/html": [
       "<table class=\"simpletable\">\n",
       "<caption>OLS Regression Results</caption>\n",
       "<tr>\n",
       "  <th>Dep. Variable:</th>       <td>churn_True</td>    <th>  R-squared:         </th> <td>   0.208</td>\n",
       "</tr>\n",
       "<tr>\n",
       "  <th>Model:</th>                   <td>OLS</td>       <th>  Adj. R-squared:    </th> <td>   0.186</td>\n",
       "</tr>\n",
       "<tr>\n",
       "  <th>Method:</th>             <td>Least Squares</td>  <th>  F-statistic:       </th> <td>   9.758</td>\n",
       "</tr>\n",
       "<tr>\n",
       "  <th>Date:</th>             <td>Thu, 17 Sep 2020</td> <th>  Prob (F-statistic):</th> <td>7.04e-82</td>\n",
       "</tr>\n",
       "<tr>\n",
       "  <th>Time:</th>                 <td>11:26:24</td>     <th>  Log-Likelihood:    </th> <td> -641.82</td>\n",
       "</tr>\n",
       "<tr>\n",
       "  <th>No. Observations:</th>      <td>  2486</td>      <th>  AIC:               </th> <td>   1416.</td>\n",
       "</tr>\n",
       "<tr>\n",
       "  <th>Df Residuals:</th>          <td>  2420</td>      <th>  BIC:               </th> <td>   1800.</td>\n",
       "</tr>\n",
       "<tr>\n",
       "  <th>Df Model:</th>              <td>    65</td>      <th>                     </th>     <td> </td>   \n",
       "</tr>\n",
       "<tr>\n",
       "  <th>Covariance Type:</th>      <td>nonrobust</td>    <th>                     </th>     <td> </td>   \n",
       "</tr>\n",
       "</table>\n",
       "<table class=\"simpletable\">\n",
       "<tr>\n",
       "             <td></td>               <th>coef</th>     <th>std err</th>      <th>t</th>      <th>P>|t|</th>  <th>[0.025</th>    <th>0.975]</th>  \n",
       "</tr>\n",
       "<tr>\n",
       "  <th>Intercept</th>              <td>   -0.5301</td> <td>    0.091</td> <td>   -5.837</td> <td> 0.000</td> <td>   -0.708</td> <td>   -0.352</td>\n",
       "</tr>\n",
       "<tr>\n",
       "  <th>account_length</th>         <td>    0.0001</td> <td>    0.000</td> <td>    0.797</td> <td> 0.426</td> <td>   -0.000</td> <td>    0.000</td>\n",
       "</tr>\n",
       "<tr>\n",
       "  <th>number_vmail_messages</th>  <td>    0.0026</td> <td>    0.002</td> <td>    1.568</td> <td> 0.117</td> <td>   -0.001</td> <td>    0.006</td>\n",
       "</tr>\n",
       "<tr>\n",
       "  <th>total_day_calls</th>        <td> 3.711e-05</td> <td>    0.000</td> <td>    0.116</td> <td> 0.908</td> <td>   -0.001</td> <td>    0.001</td>\n",
       "</tr>\n",
       "<tr>\n",
       "  <th>total_day_charge</th>       <td>    0.0078</td> <td>    0.001</td> <td>   11.139</td> <td> 0.000</td> <td>    0.006</td> <td>    0.009</td>\n",
       "</tr>\n",
       "<tr>\n",
       "  <th>total_eve_calls</th>        <td>   -0.0001</td> <td>    0.000</td> <td>   -0.384</td> <td> 0.701</td> <td>   -0.001</td> <td>    0.001</td>\n",
       "</tr>\n",
       "<tr>\n",
       "  <th>total_eve_charge</th>       <td>    0.0073</td> <td>    0.001</td> <td>    4.917</td> <td> 0.000</td> <td>    0.004</td> <td>    0.010</td>\n",
       "</tr>\n",
       "<tr>\n",
       "  <th>total_night_calls</th>      <td>    0.0004</td> <td>    0.000</td> <td>    1.209</td> <td> 0.227</td> <td>   -0.000</td> <td>    0.001</td>\n",
       "</tr>\n",
       "<tr>\n",
       "  <th>total_night_charge</th>     <td>    0.0091</td> <td>    0.003</td> <td>    3.191</td> <td> 0.001</td> <td>    0.003</td> <td>    0.015</td>\n",
       "</tr>\n",
       "<tr>\n",
       "  <th>total_intl_calls</th>       <td>   -0.0098</td> <td>    0.003</td> <td>   -3.798</td> <td> 0.000</td> <td>   -0.015</td> <td>   -0.005</td>\n",
       "</tr>\n",
       "<tr>\n",
       "  <th>total_intl_charge</th>      <td>    0.0319</td> <td>    0.009</td> <td>    3.727</td> <td> 0.000</td> <td>    0.015</td> <td>    0.049</td>\n",
       "</tr>\n",
       "<tr>\n",
       "  <th>customer_service_calls</th> <td>    0.0572</td> <td>    0.005</td> <td>   11.382</td> <td> 0.000</td> <td>    0.047</td> <td>    0.067</td>\n",
       "</tr>\n",
       "<tr>\n",
       "  <th>state_AL</th>               <td>    0.0188</td> <td>    0.067</td> <td>    0.281</td> <td> 0.778</td> <td>   -0.112</td> <td>    0.150</td>\n",
       "</tr>\n",
       "<tr>\n",
       "  <th>state_AR</th>               <td>-8.639e-05</td> <td>    0.074</td> <td>   -0.001</td> <td> 0.999</td> <td>   -0.146</td> <td>    0.146</td>\n",
       "</tr>\n",
       "<tr>\n",
       "  <th>state_AZ</th>               <td>    0.0240</td> <td>    0.071</td> <td>    0.340</td> <td> 0.734</td> <td>   -0.115</td> <td>    0.163</td>\n",
       "</tr>\n",
       "<tr>\n",
       "  <th>state_CA</th>               <td>    0.2059</td> <td>    0.083</td> <td>    2.485</td> <td> 0.013</td> <td>    0.043</td> <td>    0.368</td>\n",
       "</tr>\n",
       "<tr>\n",
       "  <th>state_CO</th>               <td>    0.0357</td> <td>    0.069</td> <td>    0.513</td> <td> 0.608</td> <td>   -0.101</td> <td>    0.172</td>\n",
       "</tr>\n",
       "<tr>\n",
       "  <th>state_CT</th>               <td>    0.1163</td> <td>    0.068</td> <td>    1.705</td> <td> 0.088</td> <td>   -0.017</td> <td>    0.250</td>\n",
       "</tr>\n",
       "<tr>\n",
       "  <th>state_DC</th>               <td>    0.0517</td> <td>    0.077</td> <td>    0.675</td> <td> 0.500</td> <td>   -0.099</td> <td>    0.202</td>\n",
       "</tr>\n",
       "<tr>\n",
       "  <th>state_DE</th>               <td>    0.0303</td> <td>    0.071</td> <td>    0.426</td> <td> 0.670</td> <td>   -0.109</td> <td>    0.170</td>\n",
       "</tr>\n",
       "<tr>\n",
       "  <th>state_FL</th>               <td>    0.0426</td> <td>    0.071</td> <td>    0.603</td> <td> 0.546</td> <td>   -0.096</td> <td>    0.181</td>\n",
       "</tr>\n",
       "<tr>\n",
       "  <th>state_GA</th>               <td>    0.0637</td> <td>    0.074</td> <td>    0.858</td> <td> 0.391</td> <td>   -0.082</td> <td>    0.209</td>\n",
       "</tr>\n",
       "<tr>\n",
       "  <th>state_HI</th>               <td>   -0.0203</td> <td>    0.074</td> <td>   -0.277</td> <td> 0.782</td> <td>   -0.164</td> <td>    0.124</td>\n",
       "</tr>\n",
       "<tr>\n",
       "  <th>state_IA</th>               <td>    0.0107</td> <td>    0.075</td> <td>    0.143</td> <td> 0.887</td> <td>   -0.136</td> <td>    0.158</td>\n",
       "</tr>\n",
       "<tr>\n",
       "  <th>state_ID</th>               <td>    0.0583</td> <td>    0.068</td> <td>    0.857</td> <td> 0.392</td> <td>   -0.075</td> <td>    0.192</td>\n",
       "</tr>\n",
       "<tr>\n",
       "  <th>state_IL</th>               <td>   -0.0341</td> <td>    0.072</td> <td>   -0.471</td> <td> 0.638</td> <td>   -0.176</td> <td>    0.108</td>\n",
       "</tr>\n",
       "<tr>\n",
       "  <th>state_IN</th>               <td>   -0.0157</td> <td>    0.070</td> <td>   -0.223</td> <td> 0.824</td> <td>   -0.154</td> <td>    0.122</td>\n",
       "</tr>\n",
       "<tr>\n",
       "  <th>state_KS</th>               <td>    0.0838</td> <td>    0.068</td> <td>    1.225</td> <td> 0.221</td> <td>   -0.050</td> <td>    0.218</td>\n",
       "</tr>\n",
       "<tr>\n",
       "  <th>state_KY</th>               <td>    0.0865</td> <td>    0.071</td> <td>    1.221</td> <td> 0.222</td> <td>   -0.052</td> <td>    0.225</td>\n",
       "</tr>\n",
       "<tr>\n",
       "  <th>state_LA</th>               <td>    0.0144</td> <td>    0.074</td> <td>    0.195</td> <td> 0.845</td> <td>   -0.130</td> <td>    0.159</td>\n",
       "</tr>\n",
       "<tr>\n",
       "  <th>state_MA</th>               <td>    0.0803</td> <td>    0.069</td> <td>    1.162</td> <td> 0.245</td> <td>   -0.055</td> <td>    0.216</td>\n",
       "</tr>\n",
       "<tr>\n",
       "  <th>state_MD</th>               <td>    0.0788</td> <td>    0.070</td> <td>    1.133</td> <td> 0.257</td> <td>   -0.058</td> <td>    0.215</td>\n",
       "</tr>\n",
       "<tr>\n",
       "  <th>state_ME</th>               <td>    0.0870</td> <td>    0.071</td> <td>    1.228</td> <td> 0.219</td> <td>   -0.052</td> <td>    0.226</td>\n",
       "</tr>\n",
       "<tr>\n",
       "  <th>state_MI</th>               <td>    0.0903</td> <td>    0.069</td> <td>    1.302</td> <td> 0.193</td> <td>   -0.046</td> <td>    0.226</td>\n",
       "</tr>\n",
       "<tr>\n",
       "  <th>state_MN</th>               <td>    0.0732</td> <td>    0.066</td> <td>    1.110</td> <td> 0.267</td> <td>   -0.056</td> <td>    0.202</td>\n",
       "</tr>\n",
       "<tr>\n",
       "  <th>state_MO</th>               <td>    0.0412</td> <td>    0.070</td> <td>    0.585</td> <td> 0.559</td> <td>   -0.097</td> <td>    0.179</td>\n",
       "</tr>\n",
       "<tr>\n",
       "  <th>state_MS</th>               <td>    0.0902</td> <td>    0.070</td> <td>    1.297</td> <td> 0.195</td> <td>   -0.046</td> <td>    0.227</td>\n",
       "</tr>\n",
       "<tr>\n",
       "  <th>state_MT</th>               <td>    0.1189</td> <td>    0.069</td> <td>    1.722</td> <td> 0.085</td> <td>   -0.016</td> <td>    0.254</td>\n",
       "</tr>\n",
       "<tr>\n",
       "  <th>state_NC</th>               <td>    0.0371</td> <td>    0.069</td> <td>    0.534</td> <td> 0.593</td> <td>   -0.099</td> <td>    0.173</td>\n",
       "</tr>\n",
       "<tr>\n",
       "  <th>state_ND</th>               <td>    0.0017</td> <td>    0.070</td> <td>    0.024</td> <td> 0.981</td> <td>   -0.136</td> <td>    0.139</td>\n",
       "</tr>\n",
       "<tr>\n",
       "  <th>state_NE</th>               <td>    0.0373</td> <td>    0.070</td> <td>    0.534</td> <td> 0.593</td> <td>   -0.100</td> <td>    0.174</td>\n",
       "</tr>\n",
       "<tr>\n",
       "  <th>state_NH</th>               <td>    0.0784</td> <td>    0.071</td> <td>    1.106</td> <td> 0.269</td> <td>   -0.061</td> <td>    0.217</td>\n",
       "</tr>\n",
       "<tr>\n",
       "  <th>state_NJ</th>               <td>    0.1539</td> <td>    0.068</td> <td>    2.278</td> <td> 0.023</td> <td>    0.021</td> <td>    0.286</td>\n",
       "</tr>\n",
       "<tr>\n",
       "  <th>state_NM</th>               <td>    0.0196</td> <td>    0.069</td> <td>    0.283</td> <td> 0.777</td> <td>   -0.116</td> <td>    0.155</td>\n",
       "</tr>\n",
       "<tr>\n",
       "  <th>state_NV</th>               <td>    0.1098</td> <td>    0.071</td> <td>    1.558</td> <td> 0.119</td> <td>   -0.028</td> <td>    0.248</td>\n",
       "</tr>\n",
       "<tr>\n",
       "  <th>state_NY</th>               <td>    0.0338</td> <td>    0.068</td> <td>    0.500</td> <td> 0.617</td> <td>   -0.099</td> <td>    0.166</td>\n",
       "</tr>\n",
       "<tr>\n",
       "  <th>state_OH</th>               <td>    0.0508</td> <td>    0.067</td> <td>    0.760</td> <td> 0.448</td> <td>   -0.080</td> <td>    0.182</td>\n",
       "</tr>\n",
       "<tr>\n",
       "  <th>state_OK</th>               <td>    0.0560</td> <td>    0.070</td> <td>    0.798</td> <td> 0.425</td> <td>   -0.082</td> <td>    0.194</td>\n",
       "</tr>\n",
       "<tr>\n",
       "  <th>state_OR</th>               <td>    0.0357</td> <td>    0.068</td> <td>    0.528</td> <td> 0.597</td> <td>   -0.097</td> <td>    0.168</td>\n",
       "</tr>\n",
       "<tr>\n",
       "  <th>state_PA</th>               <td>    0.0770</td> <td>    0.076</td> <td>    1.020</td> <td> 0.308</td> <td>   -0.071</td> <td>    0.225</td>\n",
       "</tr>\n",
       "<tr>\n",
       "  <th>state_RI</th>               <td>   -0.0294</td> <td>    0.070</td> <td>   -0.422</td> <td> 0.673</td> <td>   -0.166</td> <td>    0.107</td>\n",
       "</tr>\n",
       "<tr>\n",
       "  <th>state_SC</th>               <td>    0.1640</td> <td>    0.071</td> <td>    2.304</td> <td> 0.021</td> <td>    0.024</td> <td>    0.304</td>\n",
       "</tr>\n",
       "<tr>\n",
       "  <th>state_SD</th>               <td>    0.0635</td> <td>    0.072</td> <td>    0.888</td> <td> 0.375</td> <td>   -0.077</td> <td>    0.204</td>\n",
       "</tr>\n",
       "<tr>\n",
       "  <th>state_TN</th>               <td>   -0.0047</td> <td>    0.077</td> <td>   -0.061</td> <td> 0.951</td> <td>   -0.155</td> <td>    0.146</td>\n",
       "</tr>\n",
       "<tr>\n",
       "  <th>state_TX</th>               <td>    0.2027</td> <td>    0.070</td> <td>    2.901</td> <td> 0.004</td> <td>    0.066</td> <td>    0.340</td>\n",
       "</tr>\n",
       "<tr>\n",
       "  <th>state_UT</th>               <td>    0.0916</td> <td>    0.068</td> <td>    1.347</td> <td> 0.178</td> <td>   -0.042</td> <td>    0.225</td>\n",
       "</tr>\n",
       "<tr>\n",
       "  <th>state_VA</th>               <td>   -0.0288</td> <td>    0.068</td> <td>   -0.424</td> <td> 0.671</td> <td>   -0.162</td> <td>    0.104</td>\n",
       "</tr>\n",
       "<tr>\n",
       "  <th>state_VT</th>               <td>   -0.0079</td> <td>    0.069</td> <td>   -0.114</td> <td> 0.909</td> <td>   -0.143</td> <td>    0.127</td>\n",
       "</tr>\n",
       "<tr>\n",
       "  <th>state_WA</th>               <td>    0.1632</td> <td>    0.069</td> <td>    2.365</td> <td> 0.018</td> <td>    0.028</td> <td>    0.299</td>\n",
       "</tr>\n",
       "<tr>\n",
       "  <th>state_WI</th>               <td>    0.0134</td> <td>    0.067</td> <td>    0.200</td> <td> 0.841</td> <td>   -0.118</td> <td>    0.144</td>\n",
       "</tr>\n",
       "<tr>\n",
       "  <th>state_WV</th>               <td>    0.0285</td> <td>    0.065</td> <td>    0.439</td> <td> 0.661</td> <td>   -0.099</td> <td>    0.156</td>\n",
       "</tr>\n",
       "<tr>\n",
       "  <th>state_WY</th>               <td>    0.0163</td> <td>    0.069</td> <td>    0.236</td> <td> 0.813</td> <td>   -0.119</td> <td>    0.151</td>\n",
       "</tr>\n",
       "<tr>\n",
       "  <th>area_code_415</th>          <td>   -0.0185</td> <td>    0.016</td> <td>   -1.172</td> <td> 0.241</td> <td>   -0.050</td> <td>    0.012</td>\n",
       "</tr>\n",
       "<tr>\n",
       "  <th>area_code_510</th>          <td>   -0.0131</td> <td>    0.018</td> <td>   -0.714</td> <td> 0.475</td> <td>   -0.049</td> <td>    0.023</td>\n",
       "</tr>\n",
       "<tr>\n",
       "  <th>international_plan_yes</th> <td>    0.3127</td> <td>    0.022</td> <td>   14.095</td> <td> 0.000</td> <td>    0.269</td> <td>    0.356</td>\n",
       "</tr>\n",
       "<tr>\n",
       "  <th>voice_mail_plan_yes</th>    <td>   -0.1461</td> <td>    0.050</td> <td>   -2.933</td> <td> 0.003</td> <td>   -0.244</td> <td>   -0.048</td>\n",
       "</tr>\n",
       "</table>\n",
       "<table class=\"simpletable\">\n",
       "<tr>\n",
       "  <th>Omnibus:</th>       <td>578.289</td> <th>  Durbin-Watson:     </th> <td>   2.008</td> \n",
       "</tr>\n",
       "<tr>\n",
       "  <th>Prob(Omnibus):</th> <td> 0.000</td>  <th>  Jarque-Bera (JB):  </th> <td>1093.554</td> \n",
       "</tr>\n",
       "<tr>\n",
       "  <th>Skew:</th>          <td> 1.432</td>  <th>  Prob(JB):          </th> <td>3.45e-238</td>\n",
       "</tr>\n",
       "<tr>\n",
       "  <th>Kurtosis:</th>      <td> 4.535</td>  <th>  Cond. No.          </th> <td>1.23e+04</td> \n",
       "</tr>\n",
       "</table><br/><br/>Warnings:<br/>[1] Standard Errors assume that the covariance matrix of the errors is correctly specified.<br/>[2] The condition number is large, 1.23e+04. This might indicate that there are<br/>strong multicollinearity or other numerical problems."
      ],
      "text/plain": [
       "<class 'statsmodels.iolib.summary.Summary'>\n",
       "\"\"\"\n",
       "                            OLS Regression Results                            \n",
       "==============================================================================\n",
       "Dep. Variable:             churn_True   R-squared:                       0.208\n",
       "Model:                            OLS   Adj. R-squared:                  0.186\n",
       "Method:                 Least Squares   F-statistic:                     9.758\n",
       "Date:                Thu, 17 Sep 2020   Prob (F-statistic):           7.04e-82\n",
       "Time:                        11:26:24   Log-Likelihood:                -641.82\n",
       "No. Observations:                2486   AIC:                             1416.\n",
       "Df Residuals:                    2420   BIC:                             1800.\n",
       "Df Model:                          65                                         \n",
       "Covariance Type:            nonrobust                                         \n",
       "==========================================================================================\n",
       "                             coef    std err          t      P>|t|      [0.025      0.975]\n",
       "------------------------------------------------------------------------------------------\n",
       "Intercept                 -0.5301      0.091     -5.837      0.000      -0.708      -0.352\n",
       "account_length             0.0001      0.000      0.797      0.426      -0.000       0.000\n",
       "number_vmail_messages      0.0026      0.002      1.568      0.117      -0.001       0.006\n",
       "total_day_calls         3.711e-05      0.000      0.116      0.908      -0.001       0.001\n",
       "total_day_charge           0.0078      0.001     11.139      0.000       0.006       0.009\n",
       "total_eve_calls           -0.0001      0.000     -0.384      0.701      -0.001       0.001\n",
       "total_eve_charge           0.0073      0.001      4.917      0.000       0.004       0.010\n",
       "total_night_calls          0.0004      0.000      1.209      0.227      -0.000       0.001\n",
       "total_night_charge         0.0091      0.003      3.191      0.001       0.003       0.015\n",
       "total_intl_calls          -0.0098      0.003     -3.798      0.000      -0.015      -0.005\n",
       "total_intl_charge          0.0319      0.009      3.727      0.000       0.015       0.049\n",
       "customer_service_calls     0.0572      0.005     11.382      0.000       0.047       0.067\n",
       "state_AL                   0.0188      0.067      0.281      0.778      -0.112       0.150\n",
       "state_AR               -8.639e-05      0.074     -0.001      0.999      -0.146       0.146\n",
       "state_AZ                   0.0240      0.071      0.340      0.734      -0.115       0.163\n",
       "state_CA                   0.2059      0.083      2.485      0.013       0.043       0.368\n",
       "state_CO                   0.0357      0.069      0.513      0.608      -0.101       0.172\n",
       "state_CT                   0.1163      0.068      1.705      0.088      -0.017       0.250\n",
       "state_DC                   0.0517      0.077      0.675      0.500      -0.099       0.202\n",
       "state_DE                   0.0303      0.071      0.426      0.670      -0.109       0.170\n",
       "state_FL                   0.0426      0.071      0.603      0.546      -0.096       0.181\n",
       "state_GA                   0.0637      0.074      0.858      0.391      -0.082       0.209\n",
       "state_HI                  -0.0203      0.074     -0.277      0.782      -0.164       0.124\n",
       "state_IA                   0.0107      0.075      0.143      0.887      -0.136       0.158\n",
       "state_ID                   0.0583      0.068      0.857      0.392      -0.075       0.192\n",
       "state_IL                  -0.0341      0.072     -0.471      0.638      -0.176       0.108\n",
       "state_IN                  -0.0157      0.070     -0.223      0.824      -0.154       0.122\n",
       "state_KS                   0.0838      0.068      1.225      0.221      -0.050       0.218\n",
       "state_KY                   0.0865      0.071      1.221      0.222      -0.052       0.225\n",
       "state_LA                   0.0144      0.074      0.195      0.845      -0.130       0.159\n",
       "state_MA                   0.0803      0.069      1.162      0.245      -0.055       0.216\n",
       "state_MD                   0.0788      0.070      1.133      0.257      -0.058       0.215\n",
       "state_ME                   0.0870      0.071      1.228      0.219      -0.052       0.226\n",
       "state_MI                   0.0903      0.069      1.302      0.193      -0.046       0.226\n",
       "state_MN                   0.0732      0.066      1.110      0.267      -0.056       0.202\n",
       "state_MO                   0.0412      0.070      0.585      0.559      -0.097       0.179\n",
       "state_MS                   0.0902      0.070      1.297      0.195      -0.046       0.227\n",
       "state_MT                   0.1189      0.069      1.722      0.085      -0.016       0.254\n",
       "state_NC                   0.0371      0.069      0.534      0.593      -0.099       0.173\n",
       "state_ND                   0.0017      0.070      0.024      0.981      -0.136       0.139\n",
       "state_NE                   0.0373      0.070      0.534      0.593      -0.100       0.174\n",
       "state_NH                   0.0784      0.071      1.106      0.269      -0.061       0.217\n",
       "state_NJ                   0.1539      0.068      2.278      0.023       0.021       0.286\n",
       "state_NM                   0.0196      0.069      0.283      0.777      -0.116       0.155\n",
       "state_NV                   0.1098      0.071      1.558      0.119      -0.028       0.248\n",
       "state_NY                   0.0338      0.068      0.500      0.617      -0.099       0.166\n",
       "state_OH                   0.0508      0.067      0.760      0.448      -0.080       0.182\n",
       "state_OK                   0.0560      0.070      0.798      0.425      -0.082       0.194\n",
       "state_OR                   0.0357      0.068      0.528      0.597      -0.097       0.168\n",
       "state_PA                   0.0770      0.076      1.020      0.308      -0.071       0.225\n",
       "state_RI                  -0.0294      0.070     -0.422      0.673      -0.166       0.107\n",
       "state_SC                   0.1640      0.071      2.304      0.021       0.024       0.304\n",
       "state_SD                   0.0635      0.072      0.888      0.375      -0.077       0.204\n",
       "state_TN                  -0.0047      0.077     -0.061      0.951      -0.155       0.146\n",
       "state_TX                   0.2027      0.070      2.901      0.004       0.066       0.340\n",
       "state_UT                   0.0916      0.068      1.347      0.178      -0.042       0.225\n",
       "state_VA                  -0.0288      0.068     -0.424      0.671      -0.162       0.104\n",
       "state_VT                  -0.0079      0.069     -0.114      0.909      -0.143       0.127\n",
       "state_WA                   0.1632      0.069      2.365      0.018       0.028       0.299\n",
       "state_WI                   0.0134      0.067      0.200      0.841      -0.118       0.144\n",
       "state_WV                   0.0285      0.065      0.439      0.661      -0.099       0.156\n",
       "state_WY                   0.0163      0.069      0.236      0.813      -0.119       0.151\n",
       "area_code_415             -0.0185      0.016     -1.172      0.241      -0.050       0.012\n",
       "area_code_510             -0.0131      0.018     -0.714      0.475      -0.049       0.023\n",
       "international_plan_yes     0.3127      0.022     14.095      0.000       0.269       0.356\n",
       "voice_mail_plan_yes       -0.1461      0.050     -2.933      0.003      -0.244      -0.048\n",
       "==============================================================================\n",
       "Omnibus:                      578.289   Durbin-Watson:                   2.008\n",
       "Prob(Omnibus):                  0.000   Jarque-Bera (JB):             1093.554\n",
       "Skew:                           1.432   Prob(JB):                    3.45e-238\n",
       "Kurtosis:                       4.535   Cond. No.                     1.23e+04\n",
       "==============================================================================\n",
       "\n",
       "Warnings:\n",
       "[1] Standard Errors assume that the covariance matrix of the errors is correctly specified.\n",
       "[2] The condition number is large, 1.23e+04. This might indicate that there are\n",
       "strong multicollinearity or other numerical problems.\n",
       "\"\"\""
      ]
     },
     "execution_count": 35,
     "metadata": {},
     "output_type": "execute_result"
    }
   ],
   "source": [
    "# Fitting the model\n",
    "predictors = '+'.join(x_cols)\n",
    "formula = outcome + '~' + predictors\n",
    "model = ols(formula=formula, data=train).fit()\n",
    "model.summary()"
   ]
  },
  {
   "cell_type": "code",
   "execution_count": 36,
   "metadata": {
    "ExecuteTime": {
     "end_time": "2020-09-17T18:26:24.947291Z",
     "start_time": "2020-09-17T18:26:24.940347Z"
    }
   },
   "outputs": [],
   "source": [
    "# Function to create two plots - normality / homoscedasticity\n",
    "def model_visual(residuals):\n",
    "# QQ Plot\n",
    "    '''Checking residuals for normality'''\n",
    "    fig, axes = plt.subplots(ncols=2, figsize=(20, 5))\n",
    "    sm.graphics.qqplot(model.resid, fit=True, line='45', ax=axes[0])\n",
    "    axes[0].set_title('QQ Plot Normality Check', fontsize=20)\n",
    "    axes[0].set_xlabel('Theoretical Quantiles', fontsize=15)\n",
    "    axes[0].set_ylabel('Sample Quantiles', fontsize=14)\n",
    "# Homoscedasticity\n",
    "    '''Checking Homoscedasticity assumption'''\n",
    "    ax=axes[1]\n",
    "    ax.scatter(train['churn_True'], model.resid)\n",
    "    ax.axhline(0, color='red')\n",
    "    axes[1].set_title('Homoscedasticity Check', fontsize=20)\n",
    "    axes[1].set_xlabel('Price', fontsize=15)\n",
    "    axes[1].set_ylabel('Model Residuals', fontsize=14)\n",
    "    plt.show();\n",
    "    return model_visual"
   ]
  },
  {
   "cell_type": "code",
   "execution_count": 37,
   "metadata": {
    "ExecuteTime": {
     "end_time": "2020-09-17T18:26:24.951731Z",
     "start_time": "2020-09-17T18:26:24.949422Z"
    }
   },
   "outputs": [],
   "source": [
    "# model_visual(model.resid)"
   ]
  },
  {
   "cell_type": "code",
   "execution_count": 38,
   "metadata": {
    "ExecuteTime": {
     "end_time": "2020-09-17T18:26:25.445996Z",
     "start_time": "2020-09-17T18:26:24.953714Z"
    }
   },
   "outputs": [
    {
     "data": {
      "text/plain": [
       "['number_vmail_messages', 'voice_mail_plan_yes']"
      ]
     },
     "execution_count": 38,
     "metadata": {},
     "output_type": "execute_result"
    }
   ],
   "source": [
    "# VIF Scores\n",
    "x = df.drop('churn_True', axis = 1)\n",
    "x = sm.add_constant(x)\n",
    "vif = [variance_inflation_factor(x.values,i) for i in range(x.shape[1])]\n",
    "vif_results = pd.Series(dict(zip(x.columns, vif)))\n",
    "\n",
    "# Identifying VIF\n",
    "threshold = 6\n",
    "rem_vif = list(vif_results[vif_results > threshold].index)\n",
    "if 'const' in rem_vif:\n",
    "    rem_vif.remove('const')\n",
    "rem_vif"
   ]
  },
  {
   "cell_type": "code",
   "execution_count": 39,
   "metadata": {
    "ExecuteTime": {
     "end_time": "2020-09-17T18:26:25.452265Z",
     "start_time": "2020-09-17T18:26:25.447895Z"
    }
   },
   "outputs": [],
   "source": [
    "df = df.drop(['number_vmail_messages', 'voice_mail_plan_yes'], axis=1)"
   ]
  },
  {
   "cell_type": "code",
   "execution_count": 40,
   "metadata": {
    "ExecuteTime": {
     "end_time": "2020-09-17T18:26:25.456629Z",
     "start_time": "2020-09-17T18:26:25.454067Z"
    }
   },
   "outputs": [],
   "source": [
    "# # Defining Variables\n",
    "# outcome = 'churn_True'\n",
    "# x_cols = list(df.columns)\n",
    "# x_cols.remove(outcome)\n",
    "# # Test Train Split\n",
    "# train, test = train_test_split(df)\n",
    "# print(len(train), len(test))\n",
    "\n",
    "# # Fitting the model\n",
    "# predictors = '+'.join(x_cols)\n",
    "# formula = outcome + '~' + predictors\n",
    "# model = ols(formula=formula, data=train).fit()\n",
    "# model.summary()"
   ]
  },
  {
   "cell_type": "code",
   "execution_count": null,
   "metadata": {},
   "outputs": [],
   "source": []
  }
 ],
 "metadata": {
  "kernelspec": {
   "display_name": "Python 3",
   "language": "python",
   "name": "python3"
  },
  "language_info": {
   "codemirror_mode": {
    "name": "ipython",
    "version": 3
   },
   "file_extension": ".py",
   "mimetype": "text/x-python",
   "name": "python",
   "nbconvert_exporter": "python",
   "pygments_lexer": "ipython3",
   "version": "3.6.9"
  },
  "toc": {
   "base_numbering": 1,
   "nav_menu": {},
   "number_sections": true,
   "sideBar": true,
   "skip_h1_title": false,
   "title_cell": "Table of Contents",
   "title_sidebar": "Contents",
   "toc_cell": false,
   "toc_position": {},
   "toc_section_display": true,
   "toc_window_display": true
  }
 },
 "nbformat": 4,
 "nbformat_minor": 2
}
