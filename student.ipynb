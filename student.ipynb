{
 "cells": [
  {
   "cell_type": "markdown",
   "metadata": {},
   "source": [
    "# Final Project Submission\n",
    "* Student name: Miguel Santana\n",
    "* Student pace: Full Time\n",
    "* Scheduled project review date/time: 10/14/2020, 12-12:45pm\n",
    "* Instructor name: James Irving\n",
    "* Blog post URL: TBA"
   ]
  },
  {
   "cell_type": "markdown",
   "metadata": {},
   "source": [
    "# Project Methodology & Goal\n",
    "**A Portuguese financial institution provided data resulting from various direct telemarketing campaigns with the goal of predicting subscriber term deposits. The following will include an in depth analysis of the client, campaign, social, economic and additional features that lend to predicting whether a client will subscribe a term deposit. The analysis will culminate in actionable business recommendations that will drive the target variable.**  "
   ]
  },
  {
   "cell_type": "markdown",
   "metadata": {},
   "source": [
    "The dataset citation is included below:\n",
    "\n",
    "[Moro et al., 2014] S. Moro, P. Cortez and P. Rita. A Data-Driven Approach to Predict the Success of Bank Telemarketing. Decision Support Systems, Elsevier, 62:22-31, June 2014\n",
    "\n",
    "The dataset is available on UCI's machine learning repository at https://www.kaggle.com/henriqueyamahata/bank-marketing \n",
    "\n",
    "and via Kaggle at http://archive.ics.uci.edu/ml/datasets/Bank+Marketing#"
   ]
  },
  {
   "cell_type": "markdown",
   "metadata": {},
   "source": [
    "# Data Analysis and Modeling\n",
    "OSEMN Framework\n",
    "* Obtain\n",
    "* Scrub\n",
    "* Explore\n",
    "* Model\n",
    "* INterpret"
   ]
  },
  {
   "cell_type": "markdown",
   "metadata": {},
   "source": [
    "# OBTAIN"
   ]
  },
  {
   "cell_type": "markdown",
   "metadata": {},
   "source": [
    "## Python Project Libraries\n",
    "Importing Packages & Processing our Dataset"
   ]
  },
  {
   "cell_type": "code",
   "execution_count": 1,
   "metadata": {
    "ExecuteTime": {
     "end_time": "2020-10-07T17:53:37.845448Z",
     "start_time": "2020-10-07T17:53:36.549573Z"
    },
    "scrolled": true
   },
   "outputs": [
    {
     "name": "stderr",
     "output_type": "stream",
     "text": [
      "/Users/miguelsantana/opt/anaconda3/envs/learn-env/lib/python3.6/site-packages/statsmodels/tools/_testing.py:19: FutureWarning: pandas.util.testing is deprecated. Use the functions in the public API at pandas.testing instead.\n",
      "  import pandas.util.testing as tm\n"
     ]
    }
   ],
   "source": [
    "# Math, Visualizations, Cleaning and Analysis\n",
    "import pandas as pd # data cleaning and manipulation\n",
    "import numpy as np # numerical operations  \n",
    "import seaborn as sns # visualizations / plt.style.use('seaborn-poster') \n",
    "#sns.set(style='whitegrid')\n",
    "import matplotlib as mlp\n",
    "import matplotlib.pyplot as plt\n",
    "%matplotlib inline \n",
    "# pd.set_option('display.max_columns',0)\n",
    "# pd.set_option('display.float_format', lambda x: '%.3f' % x)\n",
    "import warnings\n",
    "warnings.filterwarnings(\"ignore\")"
   ]
  },
  {
   "cell_type": "code",
   "execution_count": 2,
   "metadata": {
    "ExecuteTime": {
     "end_time": "2020-10-07T17:53:37.956047Z",
     "start_time": "2020-10-07T17:53:37.847305Z"
    }
   },
   "outputs": [],
   "source": [
    "df = pd.read_csv('bank-additional-full.csv', delimiter=';')"
   ]
  },
  {
   "cell_type": "markdown",
   "metadata": {},
   "source": [
    "## Variable Key\n",
    "The dataset includes the following client, campaign, social, economic and other attributes:\n",
    "\n",
    "**Client Data**\n",
    "* Age\n",
    "* Job Type\n",
    "* Marital Status\n",
    "* Education \n",
    "* Default **(client credit in default)**\n",
    "* Housing **(client housing loan)**\n",
    "* Loan **(client personal loan)**\n",
    "\n",
    "**Current Campaign | Last Contact** \n",
    "* Contact Type\n",
    "* Month \n",
    "* Day of Week \n",
    "* Duration (in seconds)\n",
    "\n",
    "**Other Attributes:**\n",
    "* Campaign (number of contacts/this campaign)\n",
    "* Pdays (days since last contacted/previous campaign)\n",
    "* Previous (contacts performed before this campaign/this client)\n",
    "* Poutcome (previous campaign outcome)\n",
    "\n",
    "**Social & Economic Context Attributes**\n",
    "* Emp.var.rate (quarterly employment variation rate)\n",
    "* Cons.price.idx (monthly indicator - consumer price index)\n",
    "* Cons.conf.idx (monthly indicator - consumer confidence index)\n",
    "* Euribor3m (daily indicator - euribor 3 month rate)\n",
    "* Nr.employed (quarterly indicator - number of employees)\n",
    "\n",
    "**Output/Target**\n",
    "* y (has the client subscribed a term deposit?)"
   ]
  },
  {
   "cell_type": "code",
   "execution_count": 3,
   "metadata": {
    "ExecuteTime": {
     "end_time": "2020-10-07T17:53:37.972187Z",
     "start_time": "2020-10-07T17:53:37.958467Z"
    }
   },
   "outputs": [],
   "source": [
    "df = df.rename(columns={'y':'term_deposit'})"
   ]
  },
  {
   "cell_type": "code",
   "execution_count": 4,
   "metadata": {
    "ExecuteTime": {
     "end_time": "2020-10-07T17:53:38.000146Z",
     "start_time": "2020-10-07T17:53:37.974250Z"
    }
   },
   "outputs": [
    {
     "name": "stdout",
     "output_type": "stream",
     "text": [
      "<class 'pandas.core.frame.DataFrame'>\n",
      "RangeIndex: 41188 entries, 0 to 41187\n",
      "Data columns (total 21 columns):\n",
      " #   Column          Non-Null Count  Dtype  \n",
      "---  ------          --------------  -----  \n",
      " 0   age             41188 non-null  int64  \n",
      " 1   job             41188 non-null  object \n",
      " 2   marital         41188 non-null  object \n",
      " 3   education       41188 non-null  object \n",
      " 4   default         41188 non-null  object \n",
      " 5   housing         41188 non-null  object \n",
      " 6   loan            41188 non-null  object \n",
      " 7   contact         41188 non-null  object \n",
      " 8   month           41188 non-null  object \n",
      " 9   day_of_week     41188 non-null  object \n",
      " 10  duration        41188 non-null  int64  \n",
      " 11  campaign        41188 non-null  int64  \n",
      " 12  pdays           41188 non-null  int64  \n",
      " 13  previous        41188 non-null  int64  \n",
      " 14  poutcome        41188 non-null  object \n",
      " 15  emp.var.rate    41188 non-null  float64\n",
      " 16  cons.price.idx  41188 non-null  float64\n",
      " 17  cons.conf.idx   41188 non-null  float64\n",
      " 18  euribor3m       41188 non-null  float64\n",
      " 19  nr.employed     41188 non-null  float64\n",
      " 20  term_deposit    41188 non-null  object \n",
      "dtypes: float64(5), int64(5), object(11)\n",
      "memory usage: 6.6+ MB\n"
     ]
    }
   ],
   "source": [
    "df.info()"
   ]
  },
  {
   "cell_type": "markdown",
   "metadata": {},
   "source": [
    "# SCRUB"
   ]
  },
  {
   "cell_type": "code",
   "execution_count": 5,
   "metadata": {
    "ExecuteTime": {
     "end_time": "2020-10-07T17:53:38.076444Z",
     "start_time": "2020-10-07T17:53:38.002121Z"
    }
   },
   "outputs": [
    {
     "name": "stdout",
     "output_type": "stream",
     "text": [
      "age 31    1947\n",
      "32    1846\n",
      "33    1833\n",
      "36    1780\n",
      "35    1759\n",
      "Name: age, dtype: int64\n",
      "\n",
      "\n",
      "job admin.         10422\n",
      "blue-collar     9254\n",
      "technician      6743\n",
      "services        3969\n",
      "management      2924\n",
      "Name: job, dtype: int64\n",
      "\n",
      "\n",
      "marital married     24928\n",
      "single      11568\n",
      "divorced     4612\n",
      "unknown        80\n",
      "Name: marital, dtype: int64\n",
      "\n",
      "\n",
      "education university.degree      12168\n",
      "high.school             9515\n",
      "basic.9y                6045\n",
      "professional.course     5243\n",
      "basic.4y                4176\n",
      "Name: education, dtype: int64\n",
      "\n",
      "\n",
      "default no         32588\n",
      "unknown     8597\n",
      "yes            3\n",
      "Name: default, dtype: int64\n",
      "\n",
      "\n",
      "housing yes        21576\n",
      "no         18622\n",
      "unknown      990\n",
      "Name: housing, dtype: int64\n",
      "\n",
      "\n",
      "loan no         33950\n",
      "yes         6248\n",
      "unknown      990\n",
      "Name: loan, dtype: int64\n",
      "\n",
      "\n",
      "contact cellular     26144\n",
      "telephone    15044\n",
      "Name: contact, dtype: int64\n",
      "\n",
      "\n",
      "month may    13769\n",
      "jul     7174\n",
      "aug     6178\n",
      "jun     5318\n",
      "nov     4101\n",
      "Name: month, dtype: int64\n",
      "\n",
      "\n",
      "day_of_week thu    8623\n",
      "mon    8514\n",
      "wed    8134\n",
      "tue    8090\n",
      "fri    7827\n",
      "Name: day_of_week, dtype: int64\n",
      "\n",
      "\n",
      "duration 85     170\n",
      "90     170\n",
      "136    168\n",
      "73     167\n",
      "124    164\n",
      "Name: duration, dtype: int64\n",
      "\n",
      "\n",
      "campaign 1    17642\n",
      "2    10570\n",
      "3     5341\n",
      "4     2651\n",
      "5     1599\n",
      "Name: campaign, dtype: int64\n",
      "\n",
      "\n",
      "pdays 999    39673\n",
      "3        439\n",
      "6        412\n",
      "4        118\n",
      "9         64\n",
      "Name: pdays, dtype: int64\n",
      "\n",
      "\n",
      "previous 0    35563\n",
      "1     4561\n",
      "2      754\n",
      "3      216\n",
      "4       70\n",
      "Name: previous, dtype: int64\n",
      "\n",
      "\n",
      "poutcome nonexistent    35563\n",
      "failure         4252\n",
      "success         1373\n",
      "Name: poutcome, dtype: int64\n",
      "\n",
      "\n",
      "emp.var.rate  1.4    16234\n",
      "-1.8     9184\n",
      " 1.1     7763\n",
      "-0.1     3683\n",
      "-2.9     1663\n",
      "-3.4     1071\n",
      "-1.7      773\n",
      "-1.1      635\n",
      "-3.0      172\n",
      "-0.2       10\n",
      "Name: emp.var.rate, dtype: int64\n",
      "\n",
      "\n",
      "cons.price.idx 93.994    7763\n",
      "93.918    6685\n",
      "92.893    5794\n",
      "93.444    5175\n",
      "94.465    4374\n",
      "93.200    3616\n",
      "93.075    2458\n",
      "92.201     770\n",
      "92.963     715\n",
      "92.431     447\n",
      "92.649     357\n",
      "94.215     311\n",
      "94.199     303\n",
      "92.843     282\n",
      "92.379     267\n",
      "93.369     264\n",
      "94.027     233\n",
      "94.055     229\n",
      "93.876     212\n",
      "94.601     204\n",
      "92.469     178\n",
      "93.749     174\n",
      "92.713     172\n",
      "94.767     128\n",
      "93.798      67\n",
      "92.756      10\n",
      "Name: cons.price.idx, dtype: int64\n",
      "\n",
      "\n",
      "cons.conf.idx -36.4    7763\n",
      "-42.7    6685\n",
      "-46.2    5794\n",
      "-36.1    5175\n",
      "-41.8    4374\n",
      "-42.0    3616\n",
      "-47.1    2458\n",
      "-31.4     770\n",
      "-40.8     715\n",
      "-26.9     447\n",
      "-30.1     357\n",
      "-40.3     311\n",
      "-37.5     303\n",
      "-50.0     282\n",
      "-29.8     267\n",
      "-34.8     264\n",
      "-38.3     233\n",
      "-39.8     229\n",
      "-40.0     212\n",
      "-49.5     204\n",
      "-33.6     178\n",
      "-34.6     174\n",
      "-33.0     172\n",
      "-50.8     128\n",
      "-40.4      67\n",
      "-45.9      10\n",
      "Name: cons.conf.idx, dtype: int64\n",
      "\n",
      "\n",
      "euribor3m 4.857    2868\n",
      "4.962    2613\n",
      "4.963    2487\n",
      "4.961    1902\n",
      "4.856    1210\n",
      "         ... \n",
      "0.802       7\n",
      "0.942       7\n",
      "0.651       7\n",
      "0.750       7\n",
      "5.000       7\n",
      "Name: euribor3m, Length: 238, dtype: int64\n",
      "\n",
      "\n",
      "nr.employed 5228.1    16234\n",
      "5099.1     8534\n",
      "5191.0     7763\n",
      "5195.8     3683\n",
      "5076.2     1663\n",
      "5017.5     1071\n",
      "4991.6      773\n",
      "5008.7      650\n",
      "4963.6      635\n",
      "5023.5      172\n",
      "5176.3       10\n",
      "Name: nr.employed, dtype: int64\n",
      "\n",
      "\n",
      "term_deposit no     36548\n",
      "yes     4640\n",
      "Name: term_deposit, dtype: int64\n",
      "\n",
      "\n"
     ]
    }
   ],
   "source": [
    "for col in df.columns: # preliminary view of value counts per column\n",
    "    try:\n",
    "        print(col, df[col].value_counts()[:5])\n",
    "    except:\n",
    "        print(col, df[col].value_counts())\n",
    "        # If there aren't 5+ unique values for a column the first print statement\n",
    "        # will throw an error for an invalid idx slice\n",
    "    print('\\n') # Break up the output between columns"
   ]
  },
  {
   "cell_type": "markdown",
   "metadata": {},
   "source": [
    "## Null Values"
   ]
  },
  {
   "cell_type": "code",
   "execution_count": 6,
   "metadata": {
    "ExecuteTime": {
     "end_time": "2020-10-07T17:53:38.097887Z",
     "start_time": "2020-10-07T17:53:38.078359Z"
    }
   },
   "outputs": [
    {
     "data": {
      "text/plain": [
       "False"
      ]
     },
     "execution_count": 6,
     "metadata": {},
     "output_type": "execute_result"
    }
   ],
   "source": [
    "# df.isnull().sum()\n",
    "df.isnull().values.any() # Checking for nulls"
   ]
  },
  {
   "cell_type": "markdown",
   "metadata": {},
   "source": [
    "<div class=\"alert alert-success\">\n",
    "\n",
    "There are no missing values in the dataset. There are a substantial amount of \"unknown\" values which will need to be addressed.  \n",
    "\n",
    "</div> "
   ]
  },
  {
   "cell_type": "markdown",
   "metadata": {
    "ExecuteTime": {
     "end_time": "2020-10-02T01:25:12.865081Z",
     "start_time": "2020-10-02T01:25:12.863388Z"
    }
   },
   "source": [
    "## Addressing Unknown Variables"
   ]
  },
  {
   "cell_type": "code",
   "execution_count": 7,
   "metadata": {
    "ExecuteTime": {
     "end_time": "2020-10-07T17:53:38.102498Z",
     "start_time": "2020-10-07T17:53:38.099381Z"
    }
   },
   "outputs": [
    {
     "data": {
      "text/plain": [
       "(41188, 21)"
      ]
     },
     "execution_count": 7,
     "metadata": {},
     "output_type": "execute_result"
    }
   ],
   "source": [
    "df.shape\n",
    "# df['term_deposit'].value_counts()"
   ]
  },
  {
   "cell_type": "markdown",
   "metadata": {},
   "source": [
    "Unknown Values Per Column:\n",
    "   \n",
    "   job type: 330 \n",
    "   \n",
    "   marital status: 80\n",
    "   \n",
    "   education: 1731\n",
    "   \n",
    "   default (client credit in default): 8597\n",
    "   \n",
    "   housing (client housing loan): 990\n",
    "   \n",
    "   loan (client personal loan): 990\n",
    "   \n",
    "Total: 12718 or 30.88%"
   ]
  },
  {
   "cell_type": "markdown",
   "metadata": {
    "ExecuteTime": {
     "end_time": "2020-10-05T16:55:49.050094Z",
     "start_time": "2020-10-05T16:55:49.046522Z"
    }
   },
   "source": [
    "<div class=\"alert alert-success\">\n",
    "\n",
    "In order to narrow down my dataset I will drop the \"unknown\" values from the job, marital and education columns. \n",
    "\n",
    "</div> "
   ]
  },
  {
   "cell_type": "code",
   "execution_count": 8,
   "metadata": {
    "ExecuteTime": {
     "end_time": "2020-10-07T17:53:38.108939Z",
     "start_time": "2020-10-07T17:53:38.105912Z"
    }
   },
   "outputs": [],
   "source": [
    "# dropping unknown variables from 3 columns\n",
    "def dr_unknown(df, col_name):\n",
    "    start_len = len(df)\n",
    "    new_df = df.loc[(df[col_name] != 'unknown')]\n",
    "    print(f'There were {start_len - len(new_df)} unknown values removed from {col_name}')\n",
    "    return new_df"
   ]
  },
  {
   "cell_type": "code",
   "execution_count": 9,
   "metadata": {
    "ExecuteTime": {
     "end_time": "2020-10-07T17:53:38.122761Z",
     "start_time": "2020-10-07T17:53:38.111818Z"
    }
   },
   "outputs": [
    {
     "name": "stdout",
     "output_type": "stream",
     "text": [
      "There were 330 unknown values removed from job\n"
     ]
    }
   ],
   "source": [
    "remove_job = dr_unknown(df, 'job')"
   ]
  },
  {
   "cell_type": "code",
   "execution_count": 10,
   "metadata": {
    "ExecuteTime": {
     "end_time": "2020-10-07T17:53:38.136701Z",
     "start_time": "2020-10-07T17:53:38.124640Z"
    },
    "scrolled": true
   },
   "outputs": [
    {
     "name": "stdout",
     "output_type": "stream",
     "text": [
      "There were 71 unknown values removed from marital\n"
     ]
    }
   ],
   "source": [
    "remove_marital = dr_unknown(remove_job, 'marital')"
   ]
  },
  {
   "cell_type": "code",
   "execution_count": 11,
   "metadata": {
    "ExecuteTime": {
     "end_time": "2020-10-07T17:53:38.150410Z",
     "start_time": "2020-10-07T17:53:38.138588Z"
    }
   },
   "outputs": [
    {
     "name": "stdout",
     "output_type": "stream",
     "text": [
      "There were 1596 unknown values removed from education\n"
     ]
    }
   ],
   "source": [
    "remove_education = dr_unknown(remove_marital, 'education')"
   ]
  },
  {
   "cell_type": "code",
   "execution_count": 12,
   "metadata": {
    "ExecuteTime": {
     "end_time": "2020-10-07T17:53:38.157241Z",
     "start_time": "2020-10-07T17:53:38.152383Z"
    }
   },
   "outputs": [
    {
     "data": {
      "text/plain": [
       "(39191, 21)"
      ]
     },
     "execution_count": 12,
     "metadata": {},
     "output_type": "execute_result"
    }
   ],
   "source": [
    "df = remove_education\n",
    "df.shape"
   ]
  },
  {
   "cell_type": "markdown",
   "metadata": {},
   "source": [
    "## Outlier Removal"
   ]
  },
  {
   "cell_type": "markdown",
   "metadata": {},
   "source": [
    "The outlier removal will be centered on age"
   ]
  },
  {
   "cell_type": "code",
   "execution_count": 13,
   "metadata": {
    "ExecuteTime": {
     "end_time": "2020-10-07T17:53:38.162881Z",
     "start_time": "2020-10-07T17:53:38.158866Z"
    }
   },
   "outputs": [],
   "source": [
    "# IQR Outlier Removal Function\n",
    "def iqr_outlier_rem(df, col_name):\n",
    "    start_len = len(df)\n",
    "    Q1 = df[col_name].quantile(0.25)\n",
    "    Q3 = df[col_name].quantile(0.75)\n",
    "    IQR = Q3-Q1 # Finding interquartile range\n",
    "    lower_threshold  = Q1-1.5*IQR\n",
    "    upper_threshold = Q3+1.5*IQR\n",
    "    new_df = df.loc[(df[col_name] > lower_threshold) & (df[col_name] < upper_threshold)]\n",
    "    print(f'There were {start_len - len(new_df)} outliers removed from {col_name}')\n",
    "    return new_df"
   ]
  },
  {
   "cell_type": "code",
   "execution_count": 14,
   "metadata": {
    "ExecuteTime": {
     "end_time": "2020-10-07T17:53:38.179559Z",
     "start_time": "2020-10-07T17:53:38.164166Z"
    }
   },
   "outputs": [
    {
     "name": "stdout",
     "output_type": "stream",
     "text": [
      "There were 421 outliers removed from age\n"
     ]
    }
   ],
   "source": [
    "df = iqr_outlier_rem(df, 'age')"
   ]
  },
  {
   "cell_type": "code",
   "execution_count": 15,
   "metadata": {
    "ExecuteTime": {
     "end_time": "2020-10-07T17:53:38.198678Z",
     "start_time": "2020-10-07T17:53:38.181526Z"
    },
    "scrolled": true
   },
   "outputs": [
    {
     "name": "stdout",
     "output_type": "stream",
     "text": [
      "(38770, 21)\n"
     ]
    },
    {
     "data": {
      "text/plain": [
       "count    38770.000000\n",
       "mean        39.456719\n",
       "std          9.573504\n",
       "min         17.000000\n",
       "25%         32.000000\n",
       "50%         38.000000\n",
       "75%         46.000000\n",
       "max         69.000000\n",
       "Name: age, dtype: float64"
      ]
     },
     "execution_count": 15,
     "metadata": {},
     "output_type": "execute_result"
    }
   ],
   "source": [
    "print(df.shape)\n",
    "df['age'].describe()"
   ]
  },
  {
   "cell_type": "markdown",
   "metadata": {},
   "source": [
    "<div class=\"alert alert-success\">\n",
    "\n",
    "The dataset now represents clients between the ages of 17 and 69 with a specific job status, marital status and education level. \n",
    "\n",
    "After the dropping of unknown values (from 3 columns) and outlier removal our dataset represents over 94% of the original dataset.\n",
    "\n",
    "</div> "
   ]
  },
  {
   "cell_type": "markdown",
   "metadata": {},
   "source": [
    "# Exploratory Data Analysis"
   ]
  },
  {
   "cell_type": "markdown",
   "metadata": {},
   "source": [
    "## Exploring Term Deposits By Job, Education & Marital Status"
   ]
  },
  {
   "cell_type": "code",
   "execution_count": 16,
   "metadata": {
    "ExecuteTime": {
     "end_time": "2020-10-07T17:53:39.492210Z",
     "start_time": "2020-10-07T17:53:38.200954Z"
    }
   },
   "outputs": [
    {
     "data": {
      "image/png": "[encoded data removed]",
      "text/plain": [
       "<Figure size 432x288 with 1 Axes>"
      ]
     },
     "metadata": {
      "needs_background": "light"
     },
     "output_type": "display_data"
    },
    {
     "data": {
      "image/png": "[encoded data removed]",
      "text/plain": [
       "<Figure size 432x360 with 1 Axes>"
      ]
     },
     "metadata": {
      "needs_background": "light"
     },
     "output_type": "display_data"
    },
    {
     "data": {
      "image/png": "[encoded data removed]",
      "text/plain": [
       "<Figure size 432x360 with 1 Axes>"
      ]
     },
     "metadata": {
      "needs_background": "light"
     },
     "output_type": "display_data"
    },
    {
     "data": {
      "image/png": "[encoded data removed]",
      "text/plain": [
       "<Figure size 432x360 with 1 Axes>"
      ]
     },
     "metadata": {
      "needs_background": "light"
     },
     "output_type": "display_data"
    }
   ],
   "source": [
    "# plt.figure(figsize=(20,20))\n",
    "\n",
    "ax1 = sns.countplot(x='term_deposit',data=df)\n",
    "ax1.set(xlabel='Subscribed Term Deposit', ylabel='Count', title='Term Deposit')\n",
    "for p in ax1.patches:\n",
    "        ax1.annotate('{:.2f}%'.format((p.get_height()/df.shape[0])*100), (p.get_x()+0.3, p.get_height()))\n",
    "\n",
    "ax2 = df.groupby(['job', 'term_deposit']).size().unstack().plot(kind='bar', stacked=False,figsize=(6,5))\n",
    "ax2.set(xlabel='Subscribed Term Deposit', ylabel='Job Count', title='Term Deposit X Job Type')\n",
    "for i in ax2.patches:\n",
    "    ax2.text(i.get_x()+0.05, i.get_height()+20,str(i.get_height()))\n",
    "\n",
    "ax3 = df.groupby(['education', 'term_deposit']).size().unstack().plot(kind='bar', stacked=False,figsize=(6,5))\n",
    "ax3.set(xlabel='Subscribed Term Deposit', ylabel='Education Count', title='Term Deposit X Education Completed')\n",
    "for i in ax3.patches:\n",
    "    ax3.text(i.get_x()+0.05, i.get_height()+20,str(i.get_height()))\n",
    "\n",
    "ax4 = df.groupby(['marital', 'term_deposit']).size().unstack().plot(kind='bar', stacked=False,figsize=(6,5))\n",
    "ax4.set(xlabel='Subscribed Term Deposit', ylabel='Marital Status Count', title='Term Deposit X Marital Status')\n",
    "for i in ax4.patches:\n",
    "    ax4.text(i.get_x()+0.05, i.get_height()+20,str(i.get_height()))\n",
    "\n",
    "# plt.subplots_adjust(wspace=0.5)\n",
    "# plt.show()"
   ]
  },
  {
   "cell_type": "markdown",
   "metadata": {},
   "source": [
    "<div class=\"alert alert-success\">\n",
    "\n",
    "Observations\n",
    "* The data is unbalanced with just under 11 percent of clients subscribing for a term deposit.\n",
    "* Some client jobs hold a closer no/yes ratio regarding term deposits. The four jobs with the largest variation are: admin, blue-collar, services and technician.  \n",
    "* The gap between no and yes variables appears to grow the more education a client has completed. Professional course and basic 6 year are the exception. \n",
    "* The majority of the dataset is represented by married couples with the greatest no/yes ratio existing in the \"divorced\" category.\n",
    "\n",
    "</div>"
   ]
  },
  {
   "cell_type": "markdown",
   "metadata": {},
   "source": [
    "## Exploring Last Contact"
   ]
  },
  {
   "cell_type": "code",
   "execution_count": 17,
   "metadata": {
    "ExecuteTime": {
     "end_time": "2020-10-07T17:53:40.429241Z",
     "start_time": "2020-10-07T17:53:39.493764Z"
    }
   },
   "outputs": [
    {
     "data": {
      "image/png": "[encoded data removed]",
      "text/plain": [
       "<Figure size 432x360 with 1 Axes>"
      ]
     },
     "metadata": {
      "needs_background": "light"
     },
     "output_type": "display_data"
    },
    {
     "data": {
      "image/png": "[encoded data removed]",
      "text/plain": [
       "<Figure size 432x360 with 1 Axes>"
      ]
     },
     "metadata": {
      "needs_background": "light"
     },
     "output_type": "display_data"
    },
    {
     "data": {
      "image/png": "[encoded data removed]",
      "text/plain": [
       "<Figure size 432x360 with 1 Axes>"
      ]
     },
     "metadata": {
      "needs_background": "light"
     },
     "output_type": "display_data"
    }
   ],
   "source": [
    "# plt.figure(figsize=(20,20))\n",
    "\n",
    "ax1 = df.groupby(['month', 'term_deposit']).size().unstack().plot(kind='bar', stacked=False,figsize=(6,5))\n",
    "ax1.set(xlabel='Month', ylabel='Term Deposit Count', title='Term Deposit X Contact Month')\n",
    "for i in ax1.patches:\n",
    "    ax1.text(i.get_x()+0.05, i.get_height()+20,str(i.get_height()))\n",
    "\n",
    "ax2 = df.groupby(['day_of_week', 'term_deposit']).size().unstack().plot(kind='bar', stacked=False,figsize=(6,5))\n",
    "ax2.set(xlabel='Day', ylabel='Term Deposit Count', title='Term Deposit X Contact Day of Week')\n",
    "for i in ax2.patches:\n",
    "    ax2.text(i.get_x()+0.05, i.get_height()+20,str(i.get_height()))\n",
    "\n",
    "ax3 = df.groupby(['contact', 'term_deposit']).size().unstack().plot(kind='bar', stacked=False,figsize=(6,5))\n",
    "ax3.set(xlabel='Contact Type', ylabel='Term Deposit Count', title='Term Deposit X Contact Type')\n",
    "for i in ax3.patches:\n",
    "    ax3.text(i.get_x()+0.05, i.get_height()+20,str(i.get_height()))\n",
    "\n",
    "# plt.subplots_adjust(wspace=0.5)\n",
    "# plt.show()"
   ]
  },
  {
   "cell_type": "markdown",
   "metadata": {},
   "source": [
    "<div class=\"alert alert-success\">\n",
    "\n",
    "Observations\n",
    "* There is a wide distribution of data when considering term deposits per month. The months with the most even distribution of yes/no are March, September, October and December.\n",
    "* There is no distinguishable difference in term deposits per day of the week. \n",
    "* The data illustrates higher odds of a subscriber term deposit when clients are reached via cell phone versus telephone. This may be due to changes in technology as less consumers maintain an active land line phone at home. \n",
    "\n",
    "</div>"
   ]
  },
  {
   "cell_type": "markdown",
   "metadata": {},
   "source": [
    "## Exploring Other Attributes"
   ]
  },
  {
   "cell_type": "markdown",
   "metadata": {},
   "source": [
    "<div class=\"alert alert-success\">\n",
    "\n",
    "The dataset will be separated in order to show features that are representative of a \"yes\" in our target variable.\n",
    "\n",
    "</div> "
   ]
  },
  {
   "cell_type": "code",
   "execution_count": 18,
   "metadata": {
    "ExecuteTime": {
     "end_time": "2020-10-07T17:53:40.443196Z",
     "start_time": "2020-10-07T17:53:40.430861Z"
    }
   },
   "outputs": [],
   "source": [
    "yesdf = df[df['term_deposit'] == 'yes']\n",
    "nodf = df[df['term_deposit'] == 'no']"
   ]
  },
  {
   "cell_type": "code",
   "execution_count": 19,
   "metadata": {
    "ExecuteTime": {
     "end_time": "2020-10-07T17:53:40.982950Z",
     "start_time": "2020-10-07T17:53:40.444962Z"
    }
   },
   "outputs": [
    {
     "data": {
      "image/png": "[encoded data removed]",
      "text/plain": [
       "<Figure size 1152x576 with 4 Axes>"
      ]
     },
     "metadata": {
      "needs_background": "light"
     },
     "output_type": "display_data"
    }
   ],
   "source": [
    "# consider making two dataframes df1 for yes target and df2 for no target\n",
    "# then plotting\n",
    "\n",
    "plt.figure(figsize=(16,8))\n",
    "plt.subplot(221)\n",
    "sns.scatterplot(yesdf.campaign, yesdf.term_deposit)\n",
    "plt.title('Campaign X Subscribed Term Deposits')\n",
    "plt.subplot(222)\n",
    "sns.scatterplot(yesdf.pdays, yesdf.term_deposit)\n",
    "plt.title('Days Since Last Contact X Subscribed Term Deposits')\n",
    "plt.subplot(223)\n",
    "sns.scatterplot(yesdf.previous, yesdf.term_deposit)\n",
    "plt.title('Client Contacts Performed X Subscribed Term Deposits')\n",
    "plt.subplot(224)\n",
    "sns.scatterplot(yesdf.poutcome, yesdf.term_deposit)\n",
    "plt.title('Previous Campaign Outcome X Subscribed Term Deposits')\n",
    "\n",
    "plt.subplots_adjust(hspace=0.35)\n",
    "plt.show()"
   ]
  },
  {
   "cell_type": "markdown",
   "metadata": {},
   "source": [
    "## Exploring Social & Economic Context"
   ]
  },
  {
   "cell_type": "code",
   "execution_count": 20,
   "metadata": {
    "ExecuteTime": {
     "end_time": "2020-10-07T17:53:41.603612Z",
     "start_time": "2020-10-07T17:53:40.985024Z"
    }
   },
   "outputs": [
    {
     "data": {
      "image/png": "[encoded data removed]",
      "text/plain": [
       "<Figure size 1152x864 with 5 Axes>"
      ]
     },
     "metadata": {
      "needs_background": "light"
     },
     "output_type": "display_data"
    }
   ],
   "source": [
    "# consider making two dataframes df1 for yes target and df2 for no target\n",
    "# then plotting\n",
    "\n",
    "plt.figure(figsize=(16,12))\n",
    "plt.subplot(321)\n",
    "sns.scatterplot(yesdf['emp.var.rate'], yesdf.term_deposit)\n",
    "plt.title('Quarterly Employment Variation Rate X Subscribed Term Deposits')\n",
    "\n",
    "\n",
    "plt.subplot(322)\n",
    "sns.scatterplot(yesdf['cons.price.idx'], yesdf.term_deposit)\n",
    "plt.title('Consumer Price Index (Month) X Subscribed Term Deposits')\n",
    "\n",
    "\n",
    "plt.subplot(323)\n",
    "sns.scatterplot(yesdf['cons.conf.idx'], yesdf.term_deposit)\n",
    "plt.title('Consumer Confidence Index (Month) X Subscribed Term Deposits')\n",
    "\n",
    "\n",
    "plt.subplot(324)\n",
    "sns.scatterplot(yesdf.euribor3m, yesdf.term_deposit)\n",
    "plt.title('3 Mo. Euribor3m Rate (Daily) X Subscribed Term Deposits')\n",
    "\n",
    "plt.subplot(325)\n",
    "sns.scatterplot(yesdf['nr.employed'], yesdf.term_deposit)\n",
    "plt.title('Employee # Indicator (Quarterly) X Subscribed Term Deposits')\n",
    "\n",
    "plt.subplots_adjust(hspace=0.35)\n",
    "plt.show()"
   ]
  },
  {
   "cell_type": "markdown",
   "metadata": {},
   "source": [
    "# Data Preparation"
   ]
  },
  {
   "cell_type": "markdown",
   "metadata": {},
   "source": [
    "## Notable Data Columns / Feature Conversions \n",
    "* Education - variables will be converted to numerical\n",
    "* Duration - a duration of zero directly ties to the target 'no' (remove before modeling)\n",
    "* Pdays - a value of 999 means the customer has not been contacted. "
   ]
  },
  {
   "cell_type": "code",
   "execution_count": 21,
   "metadata": {
    "ExecuteTime": {
     "end_time": "2020-10-07T17:53:41.634664Z",
     "start_time": "2020-10-07T17:53:41.605506Z"
    },
    "scrolled": true
   },
   "outputs": [],
   "source": [
    "df['education'].replace({'illiterate': 0, \n",
    "                         'basic.4y': 4, 'basic.6y': 6, \n",
    "                         'basic.9y': 9, 'high.school': 12, \n",
    "                         'professional.course': 14, \n",
    "                         'university.degree': 16}, inplace=True)\n",
    "\n",
    "# df['education'].value_counts()"
   ]
  },
  {
   "cell_type": "code",
   "execution_count": 22,
   "metadata": {
    "ExecuteTime": {
     "end_time": "2020-10-07T17:53:41.638596Z",
     "start_time": "2020-10-07T17:53:41.636443Z"
    }
   },
   "outputs": [],
   "source": [
    "# df.replace({'job': {'unknown':'that'}, \n",
    "#             'marital': {'unknown':'that'}, \n",
    "#             'education': {'unknown':'that'}, \n",
    "#             'default': {'unknown':'that'}, \n",
    "#             'housing': {'unknown':'that'},\n",
    "#             'loan': {'unknown':'that'}}, inplace = True)"
   ]
  },
  {
   "cell_type": "markdown",
   "metadata": {},
   "source": [
    "## Dropping Features"
   ]
  },
  {
   "cell_type": "code",
   "execution_count": 23,
   "metadata": {
    "ExecuteTime": {
     "end_time": "2020-10-07T17:53:41.656006Z",
     "start_time": "2020-10-07T17:53:41.644461Z"
    }
   },
   "outputs": [],
   "source": [
    "# drop duration per dataset guidelines / drop columns with negative values\n",
    "df = df.drop(['duration', 'emp.var.rate', 'cons.conf.idx'], axis=1)"
   ]
  },
  {
   "cell_type": "markdown",
   "metadata": {},
   "source": [
    "## Column Names"
   ]
  },
  {
   "cell_type": "code",
   "execution_count": 24,
   "metadata": {
    "ExecuteTime": {
     "end_time": "2020-10-07T17:53:41.665068Z",
     "start_time": "2020-10-07T17:53:41.660837Z"
    }
   },
   "outputs": [],
   "source": [
    "# cleaning column names\n",
    "subs = [(' ', '_'),('.0',''),('.','')]\n",
    "\n",
    "def col_formatting(col):\n",
    "    for old, new in subs:\n",
    "        col = col.replace(old,new)\n",
    "    return col\n",
    "\n",
    "df.columns = [col_formatting(col) for col in df.columns]"
   ]
  },
  {
   "cell_type": "code",
   "execution_count": 25,
   "metadata": {
    "ExecuteTime": {
     "end_time": "2020-10-07T17:53:41.669811Z",
     "start_time": "2020-10-07T17:53:41.667048Z"
    }
   },
   "outputs": [],
   "source": [
    "# df.head()"
   ]
  },
  {
   "cell_type": "markdown",
   "metadata": {},
   "source": [
    "## Multicollinearity"
   ]
  },
  {
   "cell_type": "code",
   "execution_count": 26,
   "metadata": {
    "ExecuteTime": {
     "end_time": "2020-10-07T17:53:42.282315Z",
     "start_time": "2020-10-07T17:53:41.672000Z"
    }
   },
   "outputs": [
    {
     "data": {
      "image/png": "[encoded data removed]",
      "text/plain": [
       "<Figure size 1296x1872 with 2 Axes>"
      ]
     },
     "metadata": {
      "needs_background": "light"
     },
     "output_type": "display_data"
    }
   ],
   "source": [
    "corr = df.corr() # analyzing correlation\n",
    "# corr\n",
    "fig, ax = plt.subplots(figsize=(18,26))\n",
    "mask = np.triu(np.ones_like(corr, dtype=np.bool))\n",
    "sns.heatmap(corr, mask=mask, square=True, annot=True, cmap=\"YlGnBu\")\n",
    "#xticklabels=labels, yticklabels=labels)\n",
    "#plt.xticks(rotation=-45, fontsize=16)\n",
    "ax.patch.set_edgecolor('black')  \n",
    "ax.patch.set_linewidth('1')\n",
    "ax.set_title(\"Correlation & Heat Map\", fontsize=15, fontfamily=\"serif\")\n",
    "plt.show()"
   ]
  },
  {
   "cell_type": "code",
   "execution_count": 27,
   "metadata": {
    "ExecuteTime": {
     "end_time": "2020-10-07T17:53:42.289765Z",
     "start_time": "2020-10-07T17:53:42.284053Z"
    }
   },
   "outputs": [],
   "source": [
    "# dropping feature to address multicollinearity \n",
    "df = df.drop(['euribor3m'], axis=1)"
   ]
  },
  {
   "cell_type": "markdown",
   "metadata": {},
   "source": [
    "## Categorical Features / One-Hot Encoding"
   ]
  },
  {
   "cell_type": "code",
   "execution_count": 28,
   "metadata": {
    "ExecuteTime": {
     "end_time": "2020-10-07T17:53:42.300021Z",
     "start_time": "2020-10-07T17:53:42.291274Z"
    },
    "scrolled": true
   },
   "outputs": [
    {
     "data": {
      "text/plain": [
       "Index(['job', 'marital', 'default', 'housing', 'loan', 'contact', 'month',\n",
       "       'day_of_week', 'poutcome', 'term_deposit'],\n",
       "      dtype='object')"
      ]
     },
     "execution_count": 28,
     "metadata": {},
     "output_type": "execute_result"
    }
   ],
   "source": [
    "catfeats = df.select_dtypes('object').columns # selecting the numerical columns for observation\n",
    "catfeats"
   ]
  },
  {
   "cell_type": "code",
   "execution_count": 29,
   "metadata": {
    "ExecuteTime": {
     "end_time": "2020-10-07T17:53:42.341034Z",
     "start_time": "2020-10-07T17:53:42.301846Z"
    }
   },
   "outputs": [],
   "source": [
    "# One Hot Encode\n",
    "df = pd.get_dummies(df, drop_first=True)"
   ]
  },
  {
   "cell_type": "markdown",
   "metadata": {},
   "source": [
    "### Casting Datatypes"
   ]
  },
  {
   "cell_type": "code",
   "execution_count": 30,
   "metadata": {
    "ExecuteTime": {
     "end_time": "2020-10-07T17:53:42.379948Z",
     "start_time": "2020-10-07T17:53:42.342390Z"
    }
   },
   "outputs": [],
   "source": [
    "# changing uint8 data types back to categorical variables \n",
    "for cat_cols in df.iloc[:,7:].columns:\n",
    "         df[cat_cols] = df[cat_cols].astype('category')"
   ]
  },
  {
   "cell_type": "markdown",
   "metadata": {},
   "source": [
    "# Model"
   ]
  },
  {
   "cell_type": "code",
   "execution_count": 31,
   "metadata": {
    "ExecuteTime": {
     "end_time": "2020-10-07T17:53:42.616437Z",
     "start_time": "2020-10-07T17:53:42.381816Z"
    }
   },
   "outputs": [],
   "source": [
    "import sklearn\n",
    "from sklearn.model_selection import train_test_split\n",
    "from sklearn.metrics import confusion_matrix, accuracy_score \n",
    "from sklearn import preprocessing\n",
    "from sklearn.metrics import classification_report\n",
    "from sklearn.metrics import f1_score\n",
    "from sklearn.preprocessing import StandardScaler\n",
    "\n",
    "# Machine Learning\n",
    "from sklearn.linear_model import LogisticRegression\n",
    "from sklearn.svm import SVC, LinearSVC\n",
    "from sklearn.ensemble import RandomForestClassifier\n",
    "from sklearn.neighbors import KNeighborsClassifier\n",
    "from sklearn.naive_bayes import GaussianNB\n",
    "from sklearn.tree import DecisionTreeClassifier\n",
    "from sklearn.model_selection import GridSearchCV\n",
    "from sklearn.ensemble import AdaBoostClassifier\n",
    "from sklearn.ensemble import GradientBoostingClassifier"
   ]
  },
  {
   "cell_type": "markdown",
   "metadata": {},
   "source": [
    "### Test/Train Split / Standardize Data"
   ]
  },
  {
   "cell_type": "code",
   "execution_count": 32,
   "metadata": {
    "ExecuteTime": {
     "end_time": "2020-10-07T17:53:42.624909Z",
     "start_time": "2020-10-07T17:53:42.618698Z"
    }
   },
   "outputs": [],
   "source": [
    "# Separate target and features\n",
    "y = df['term_deposit_yes']\n",
    "X = df.drop(['term_deposit_yes'], axis=1) "
   ]
  },
  {
   "cell_type": "code",
   "execution_count": 33,
   "metadata": {
    "ExecuteTime": {
     "end_time": "2020-10-07T17:53:42.728041Z",
     "start_time": "2020-10-07T17:53:42.627342Z"
    }
   },
   "outputs": [],
   "source": [
    "# standardize the data\n",
    "scaler = StandardScaler() # transform \"X\" features\n",
    "X_scaled = scaler.fit_transform(X)"
   ]
  },
  {
   "cell_type": "code",
   "execution_count": 34,
   "metadata": {
    "ExecuteTime": {
     "end_time": "2020-10-07T17:53:42.749273Z",
     "start_time": "2020-10-07T17:53:42.729979Z"
    }
   },
   "outputs": [],
   "source": [
    "# Test/Train split\n",
    "X_train, X_test, y_train, y_test = train_test_split(X_scaled, y, test_size=0.2, random_state=0) "
   ]
  },
  {
   "cell_type": "markdown",
   "metadata": {},
   "source": [
    "## Logistic Regression"
   ]
  },
  {
   "cell_type": "code",
   "execution_count": 35,
   "metadata": {
    "ExecuteTime": {
     "end_time": "2020-10-07T17:53:43.131858Z",
     "start_time": "2020-10-07T17:53:42.751122Z"
    }
   },
   "outputs": [
    {
     "name": "stdout",
     "output_type": "stream",
     "text": [
      "\n",
      "Accuracy Percentage: 90.24\n",
      "\n",
      "Actual vs. Predicted \n",
      "\n",
      "Predicted     0    1   All\n",
      "True                      \n",
      "0          6805   91  6896\n",
      "1           666  192   858\n",
      "All        7471  283  7754\n",
      "\n",
      "\n",
      "\n",
      "               precision    recall  f1-score   support\n",
      "\n",
      "           0       0.91      0.99      0.95      6896\n",
      "           1       0.68      0.22      0.34       858\n",
      "\n",
      "    accuracy                           0.90      7754\n",
      "   macro avg       0.79      0.61      0.64      7754\n",
      "weighted avg       0.89      0.90      0.88      7754\n",
      "\n",
      "CPU times: user 1.4 s, sys: 32.8 ms, total: 1.44 s\n",
      "Wall time: 376 ms\n"
     ]
    }
   ],
   "source": [
    "%%time \n",
    "# observing time lapse - running classifiers\n",
    "\n",
    "# logistic regression classifier\n",
    "# liblinear supports l2 regularization\n",
    "lr = LogisticRegression(penalty='l2', solver='liblinear') \n",
    "\n",
    "# Fit the model\n",
    "fit = lr.fit(X_train, y_train)\n",
    "\n",
    "pred_y = lr.predict(X_test) \n",
    "\n",
    "lrs = round(lr.score(X_test, y_test)*100,2) # format accuracy score\n",
    "print('\\nAccuracy Percentage:', lrs)\n",
    "\n",
    "\n",
    "print('\\nActual vs. Predicted \\n') #confusion matrix\n",
    "print(pd.crosstab(y_test, pred_y, rownames=['True'], colnames=['Predicted'], margins=True))\n",
    "\n",
    "print('\\n\\n\\n', classification_report(y_test, pred_y))"
   ]
  },
  {
   "cell_type": "markdown",
   "metadata": {},
   "source": [
    "## Catboost"
   ]
  },
  {
   "cell_type": "code",
   "execution_count": 36,
   "metadata": {
    "ExecuteTime": {
     "end_time": "2020-10-07T17:53:57.997160Z",
     "start_time": "2020-10-07T17:53:43.134720Z"
    }
   },
   "outputs": [
    {
     "name": "stdout",
     "output_type": "stream",
     "text": [
      "\n",
      "Accuracy Percentage: 90.25\n",
      "\n",
      "Actual vs. Predicted \n",
      "\n",
      "Predicted     0    1   All\n",
      "True                      \n",
      "0          6785  111  6896\n",
      "1           645  213   858\n",
      "All        7430  324  7754\n",
      "\n",
      "\n",
      "\n",
      "               precision    recall  f1-score   support\n",
      "\n",
      "           0       0.91      0.98      0.95      6896\n",
      "           1       0.66      0.25      0.36       858\n",
      "\n",
      "    accuracy                           0.90      7754\n",
      "   macro avg       0.79      0.62      0.65      7754\n",
      "weighted avg       0.88      0.90      0.88      7754\n",
      "\n",
      "CPU times: user 2min 54s, sys: 12.1 s, total: 3min 6s\n",
      "Wall time: 14.9 s\n"
     ]
    }
   ],
   "source": [
    "%%time \n",
    "from catboost import CatBoostClassifier # Import library\n",
    "catmodel = CatBoostClassifier(\n",
    "    custom_loss=['Accuracy'], # Metric to use in training\n",
    "    random_seed=0, # Consistent with other random seeds\n",
    "    logging_level='Silent' # We already have the time function to show time elapsed\n",
    ")\n",
    "catmodel.fit(\n",
    "    X_train, y_train,\n",
    "    eval_set=(X_test, y_test),\n",
    "    plot=False\n",
    "); #fit model\n",
    "\n",
    "catscore = round(catmodel.score(X_test, y_test) * 100, 2) #round score \n",
    "print('\\nAccuracy Percentage:', catscore)\n",
    "\n",
    "\n",
    "pred_y_cat = catmodel.predict(X_test)\n",
    "print('\\nActual vs. Predicted \\n') #confusion matrix\n",
    "print(pd.crosstab(y_test, pred_y_cat, rownames=['True'], colnames=['Predicted'], margins=True))\n",
    "\n",
    "print('\\n\\n\\n', classification_report(y_test, pred_y_cat))"
   ]
  },
  {
   "cell_type": "markdown",
   "metadata": {},
   "source": [
    "## K-Nearest Neighbors"
   ]
  },
  {
   "cell_type": "code",
   "execution_count": 37,
   "metadata": {
    "ExecuteTime": {
     "end_time": "2020-10-07T17:54:30.792566Z",
     "start_time": "2020-10-07T17:53:57.998620Z"
    }
   },
   "outputs": [
    {
     "name": "stdout",
     "output_type": "stream",
     "text": [
      "\n",
      "Accuracy Percentage: 89.23\n",
      "\n",
      " Actual vs. Predicted \n",
      "\n",
      "Predicted     0    1   All\n",
      "True                      \n",
      "0          6706  190  6896\n",
      "1           645  213   858\n",
      "All        7351  403  7754\n",
      "\n",
      "\n",
      "\n",
      "               precision    recall  f1-score   support\n",
      "\n",
      "           0       0.91      0.97      0.94      6896\n",
      "           1       0.53      0.25      0.34       858\n",
      "\n",
      "    accuracy                           0.89      7754\n",
      "   macro avg       0.72      0.61      0.64      7754\n",
      "weighted avg       0.87      0.89      0.87      7754\n",
      "\n",
      "CPU times: user 33.1 s, sys: 161 ms, total: 33.3 s\n",
      "Wall time: 32.8 s\n"
     ]
    }
   ],
   "source": [
    "%%time \n",
    "\n",
    "knn = KNeighborsClassifier()\n",
    "knn.fit(X_train, y_train) #fit model\n",
    "\n",
    "knn_score = round(knn.score(X_test, y_test) * 100, 2) #round score\n",
    "print('\\nAccuracy Percentage:', knn_score)\n",
    "\n",
    "pred_y_knn = knn.predict(X_test) \n",
    "\n",
    "print('\\n Actual vs. Predicted \\n') # Confusion matrix\n",
    "print(pd.crosstab(y_test, pred_y_knn, rownames=['True'], colnames=['Predicted'], margins=True))\n",
    "\n",
    "print('\\n\\n\\n', classification_report(y_test, pred_y_knn)) "
   ]
  },
  {
   "cell_type": "markdown",
   "metadata": {},
   "source": [
    "## Support Vector Machine"
   ]
  },
  {
   "cell_type": "code",
   "execution_count": 38,
   "metadata": {
    "ExecuteTime": {
     "end_time": "2020-10-07T17:54:38.743208Z",
     "start_time": "2020-10-07T17:54:30.794929Z"
    }
   },
   "outputs": [
    {
     "name": "stdout",
     "output_type": "stream",
     "text": [
      "\n",
      "Accuracy Percentage: 90.16\n",
      "\n",
      " Actual vs. Predicted \n",
      "\n",
      "Predicted     0    1   All\n",
      "True                      \n",
      "0          6806   90  6896\n",
      "1           673  185   858\n",
      "All        7479  275  7754\n",
      "\n",
      "\n",
      "\n",
      "               precision    recall  f1-score   support\n",
      "\n",
      "           0       0.91      0.99      0.95      6896\n",
      "           1       0.67      0.22      0.33       858\n",
      "\n",
      "    accuracy                           0.90      7754\n",
      "   macro avg       0.79      0.60      0.64      7754\n",
      "weighted avg       0.88      0.90      0.88      7754\n",
      "\n",
      "CPU times: user 8.21 s, sys: 47.9 ms, total: 8.25 s\n",
      "Wall time: 7.94 s\n"
     ]
    }
   ],
   "source": [
    "%%time \n",
    "\n",
    "# Linear SVC/SupportVectorMachine \n",
    "linear_svc = LinearSVC()\n",
    "linear_svc.fit(X_train, y_train)\n",
    "linear_svc_score = round(linear_svc.score(X_test, y_test) * 100, 2) #round score\n",
    "print('\\nAccuracy Percentage:', linear_svc_score)\n",
    "\n",
    "\n",
    "pred_y_svc = linear_svc.predict(X_test) \n",
    "\n",
    "print('\\n Actual vs. Predicted \\n') #confusion matrix\n",
    "print(pd.crosstab(y_test, pred_y_svc, rownames=['True'], colnames=['Predicted'], margins=True))\n",
    "\n",
    "print('\\n\\n\\n', classification_report(y_test, pred_y_svc))"
   ]
  },
  {
   "cell_type": "markdown",
   "metadata": {},
   "source": [
    "## Guassian Naive Bayes"
   ]
  },
  {
   "cell_type": "code",
   "execution_count": 39,
   "metadata": {
    "ExecuteTime": {
     "end_time": "2020-10-07T17:54:38.827200Z",
     "start_time": "2020-10-07T17:54:38.745364Z"
    }
   },
   "outputs": [
    {
     "name": "stdout",
     "output_type": "stream",
     "text": [
      "Accuracy Percentage:  65.06\n",
      "\n",
      " Actual vs. Predicted \n",
      "\n",
      "Predicted     0     1   All\n",
      "True                       \n",
      "0          4433  2463  6896\n",
      "1           246   612   858\n",
      "All        4679  3075  7754\n",
      "\n",
      "\n",
      "\n",
      "               precision    recall  f1-score   support\n",
      "\n",
      "           0       0.95      0.64      0.77      6896\n",
      "           1       0.20      0.71      0.31       858\n",
      "\n",
      "    accuracy                           0.65      7754\n",
      "   macro avg       0.57      0.68      0.54      7754\n",
      "weighted avg       0.86      0.65      0.72      7754\n",
      "\n",
      "CPU times: user 601 ms, sys: 13 ms, total: 614 ms\n",
      "Wall time: 77.7 ms\n"
     ]
    }
   ],
   "source": [
    "%%time \n",
    "\n",
    "clf = GaussianNB() #gaissian naive bayes\n",
    "clf.fit(X_train, y_train) #fit the model\n",
    "\n",
    "clf_score = round(clf.score(X_test, y_test) * 100, 2)\n",
    "print(\"Accuracy Percentage: \", clf_score)\n",
    "\n",
    "pred_y_clf = clf.predict(X_test) #y predicted\n",
    "\n",
    "print('\\n Actual vs. Predicted \\n') #confusion matrix\n",
    "print(pd.crosstab(y_test, pred_y_clf, rownames=['True'], colnames=['Predicted'], margins=True))\n",
    "\n",
    "print('\\n\\n\\n', classification_report(y_test, pred_y_clf))"
   ]
  },
  {
   "cell_type": "markdown",
   "metadata": {},
   "source": [
    "## Decision Tree"
   ]
  },
  {
   "cell_type": "code",
   "execution_count": 40,
   "metadata": {
    "ExecuteTime": {
     "end_time": "2020-10-07T17:54:39.043877Z",
     "start_time": "2020-10-07T17:54:38.829334Z"
    }
   },
   "outputs": [
    {
     "name": "stdout",
     "output_type": "stream",
     "text": [
      "Accuracy Percentage:  84.03\n",
      "\n",
      " Actual vs. Predicted \n",
      "\n",
      "Predicted     0    1   All\n",
      "True                      \n",
      "0          6237  659  6896\n",
      "1           579  279   858\n",
      "All        6816  938  7754\n",
      "\n",
      "\n",
      "\n",
      "               precision    recall  f1-score   support\n",
      "\n",
      "           0       0.92      0.90      0.91      6896\n",
      "           1       0.30      0.33      0.31       858\n",
      "\n",
      "    accuracy                           0.84      7754\n",
      "   macro avg       0.61      0.61      0.61      7754\n",
      "weighted avg       0.85      0.84      0.84      7754\n",
      "\n",
      "CPU times: user 819 ms, sys: 19 ms, total: 838 ms\n",
      "Wall time: 211 ms\n"
     ]
    }
   ],
   "source": [
    "%%time \n",
    "\n",
    "decision_tree = DecisionTreeClassifier()# Decision Tree \n",
    "decision_tree.fit(X_train, y_train) #fit the model\n",
    "decision_tree_score = round(decision_tree.score(X_test, y_test) * 100, 2) #round the result\n",
    "print(\"Accuracy Percentage: \", decision_tree_score)\n",
    "\n",
    "pred_y_decision_tree = decision_tree.predict(X_test) \n",
    "\n",
    "print('\\n Actual vs. Predicted \\n') #confusion matrix\n",
    "print(pd.crosstab(y_test, pred_y_decision_tree, rownames=['True'], colnames=['Predicted'], margins=True))\n",
    "\n",
    "print('\\n\\n\\n', classification_report(y_test, pred_y_decision_tree))"
   ]
  },
  {
   "cell_type": "markdown",
   "metadata": {},
   "source": [
    "## Random Forest"
   ]
  },
  {
   "cell_type": "code",
   "execution_count": 41,
   "metadata": {
    "ExecuteTime": {
     "end_time": "2020-10-07T17:54:41.641258Z",
     "start_time": "2020-10-07T17:54:39.045455Z"
    }
   },
   "outputs": [
    {
     "name": "stdout",
     "output_type": "stream",
     "text": [
      "Accuracy Percentage:  89.28\n",
      "\n",
      " Actual vs. Predicted \n",
      "\n",
      "Predicted     0    1   All\n",
      "True                      \n",
      "0          6685  211  6896\n",
      "1           620  238   858\n",
      "All        7305  449  7754\n",
      "\n",
      "\n",
      "\n",
      "               precision    recall  f1-score   support\n",
      "\n",
      "           0       0.92      0.97      0.94      6896\n",
      "           1       0.53      0.28      0.36       858\n",
      "\n",
      "    accuracy                           0.89      7754\n",
      "   macro avg       0.72      0.62      0.65      7754\n",
      "weighted avg       0.87      0.89      0.88      7754\n",
      "\n",
      "CPU times: user 2.56 s, sys: 24.9 ms, total: 2.58 s\n",
      "Wall time: 2.59 s\n"
     ]
    }
   ],
   "source": [
    "%%time \n",
    "\n",
    "random_forest = RandomForestClassifier(n_estimators=100) # random forest \n",
    "random_forest.fit(X_train, y_train) #fit the model\n",
    "random_forest_score = round(random_forest.score(X_test, y_test) * 100, 2) #round the result\n",
    "print(\"Accuracy Percentage: \", random_forest_score)\n",
    "\n",
    "pred_y_random_forest = random_forest.predict(X_test) \n",
    "\n",
    "print('\\n Actual vs. Predicted \\n') #confusion matrix\n",
    "print(pd.crosstab( y_test, pred_y_random_forest, rownames=['True'], colnames=['Predicted'], margins=True))\n",
    "\n",
    "print('\\n\\n\\n', classification_report(y_test, pred_y_random_forest))"
   ]
  },
  {
   "cell_type": "markdown",
   "metadata": {},
   "source": [
    "## Gradient Boosting"
   ]
  },
  {
   "cell_type": "code",
   "execution_count": 42,
   "metadata": {
    "ExecuteTime": {
     "end_time": "2020-10-07T17:54:42.723115Z",
     "start_time": "2020-10-07T17:54:41.643300Z"
    }
   },
   "outputs": [
    {
     "name": "stdout",
     "output_type": "stream",
     "text": [
      "Accuracy Percentage:  90.2\n",
      "\n",
      " Actual vs. Predicted \n",
      "\n",
      "Predicted     0    1   All\n",
      "True                      \n",
      "0          6816   80  6896\n",
      "1           680  178   858\n",
      "All        7496  258  7754\n",
      "\n",
      "\n",
      "\n",
      "               precision    recall  f1-score   support\n",
      "\n",
      "           0       0.91      0.99      0.95      6896\n",
      "           1       0.69      0.21      0.32       858\n",
      "\n",
      "    accuracy                           0.90      7754\n",
      "   macro avg       0.80      0.60      0.63      7754\n",
      "weighted avg       0.89      0.90      0.88      7754\n",
      "\n",
      "CPU times: user 1.54 s, sys: 18.5 ms, total: 1.55 s\n",
      "Wall time: 1.08 s\n"
     ]
    }
   ],
   "source": [
    "%%time \n",
    "\n",
    "\n",
    "clf_gb = GradientBoostingClassifier(n_estimators=100, \n",
    "                                 max_depth=1, \n",
    "                                 random_state=0)\n",
    "clf_gb.fit(X_train, y_train)\n",
    "clf_gb_score = round(clf_gb.score(X_test, y_test) * 100, 2)\n",
    "print(\"Accuracy Percentage: \", clf_gb_score)\n",
    "\n",
    "\n",
    "pred_y_clf_gb = clf_gb.predict(X_test) \n",
    "\n",
    "print('\\n Actual vs. Predicted \\n') #confusion matrix\n",
    "print(pd.crosstab(y_test, pred_y_clf_gb, rownames=['True'], colnames=['Predicted'], margins=True))\n",
    "\n",
    "print('\\n\\n\\n', classification_report(y_test, pred_y_clf_gb))"
   ]
  },
  {
   "cell_type": "markdown",
   "metadata": {},
   "source": [
    "## Adaboost"
   ]
  },
  {
   "cell_type": "code",
   "execution_count": 43,
   "metadata": {
    "ExecuteTime": {
     "end_time": "2020-10-07T17:54:59.336044Z",
     "start_time": "2020-10-07T17:54:42.725049Z"
    }
   },
   "outputs": [
    {
     "name": "stdout",
     "output_type": "stream",
     "text": [
      "Accuracy Percentage:  88.82\n",
      "\n",
      " Actual vs. Predicted \n",
      "\n",
      "Predicted     0    1   All\n",
      "True                      \n",
      "0          6654  242  6896\n",
      "1           625  233   858\n",
      "All        7279  475  7754\n",
      "\n",
      "\n",
      "\n",
      "               precision    recall  f1-score   support\n",
      "\n",
      "           0       0.91      0.96      0.94      6896\n",
      "           1       0.49      0.27      0.35       858\n",
      "\n",
      "    accuracy                           0.89      7754\n",
      "   macro avg       0.70      0.62      0.64      7754\n",
      "weighted avg       0.87      0.89      0.87      7754\n",
      "\n",
      "CPU times: user 46.8 s, sys: 850 ms, total: 47.6 s\n",
      "Wall time: 16.6 s\n"
     ]
    }
   ],
   "source": [
    "%%time \n",
    "\n",
    "bdt = AdaBoostClassifier(DecisionTreeClassifier(max_depth=8), \n",
    "                         algorithm=\"SAMME\",\n",
    "                         n_estimators=200)\n",
    "bdt.fit(X_train, y_train) #fit model\n",
    "bdt_score = round(bdt.score(X_test, y_test) * 100, 2) #round score\n",
    "print(\"Accuracy Percentage: \", bdt_score) #4:45\n",
    "\n",
    "\n",
    "pred_y_bdt = bdt.predict(X_test) \n",
    "\n",
    "print('\\n Actual vs. Predicted \\n') #confusion matrix\n",
    "print(pd.crosstab( y_test, pred_y_bdt, rownames=['True'], colnames=['Predicted'], margins=True))\n",
    "\n",
    "print('\\n\\n\\n', classification_report(y_test, pred_y_bdt))"
   ]
  },
  {
   "cell_type": "markdown",
   "metadata": {},
   "source": [
    "# Interpret Models"
   ]
  },
  {
   "cell_type": "code",
   "execution_count": 44,
   "metadata": {
    "ExecuteTime": {
     "end_time": "2020-10-07T17:54:59.348406Z",
     "start_time": "2020-10-07T17:54:59.337755Z"
    },
    "scrolled": true
   },
   "outputs": [
    {
     "data": {
      "text/html": [
       "<div>\n",
       "<style scoped>\n",
       "    .dataframe tbody tr th:only-of-type {\n",
       "        vertical-align: middle;\n",
       "    }\n",
       "\n",
       "    .dataframe tbody tr th {\n",
       "        vertical-align: top;\n",
       "    }\n",
       "\n",
       "    .dataframe thead th {\n",
       "        text-align: right;\n",
       "    }\n",
       "</style>\n",
       "<table border=\"1\" class=\"dataframe\">\n",
       "  <thead>\n",
       "    <tr style=\"text-align: right;\">\n",
       "      <th></th>\n",
       "      <th>Model</th>\n",
       "      <th>Score</th>\n",
       "    </tr>\n",
       "  </thead>\n",
       "  <tbody>\n",
       "    <tr>\n",
       "      <th>8</th>\n",
       "      <td>CatBoost</td>\n",
       "      <td>90.25</td>\n",
       "    </tr>\n",
       "    <tr>\n",
       "      <th>0</th>\n",
       "      <td>Logistic Regression</td>\n",
       "      <td>90.24</td>\n",
       "    </tr>\n",
       "    <tr>\n",
       "      <th>7</th>\n",
       "      <td>GradientBoostingClassifier</td>\n",
       "      <td>90.20</td>\n",
       "    </tr>\n",
       "    <tr>\n",
       "      <th>4</th>\n",
       "      <td>Linear SVC (SVM)</td>\n",
       "      <td>90.16</td>\n",
       "    </tr>\n",
       "    <tr>\n",
       "      <th>2</th>\n",
       "      <td>Random Forest</td>\n",
       "      <td>89.28</td>\n",
       "    </tr>\n",
       "    <tr>\n",
       "      <th>1</th>\n",
       "      <td>KNN</td>\n",
       "      <td>89.23</td>\n",
       "    </tr>\n",
       "    <tr>\n",
       "      <th>6</th>\n",
       "      <td>AdaBoostClassifier</td>\n",
       "      <td>88.82</td>\n",
       "    </tr>\n",
       "    <tr>\n",
       "      <th>5</th>\n",
       "      <td>Decision Tree</td>\n",
       "      <td>84.03</td>\n",
       "    </tr>\n",
       "    <tr>\n",
       "      <th>3</th>\n",
       "      <td>Gaussian Naive Bayes</td>\n",
       "      <td>65.06</td>\n",
       "    </tr>\n",
       "  </tbody>\n",
       "</table>\n",
       "</div>"
      ],
      "text/plain": [
       "                        Model  Score\n",
       "8                    CatBoost  90.25\n",
       "0         Logistic Regression  90.24\n",
       "7  GradientBoostingClassifier  90.20\n",
       "4            Linear SVC (SVM)  90.16\n",
       "2               Random Forest  89.28\n",
       "1                         KNN  89.23\n",
       "6          AdaBoostClassifier  88.82\n",
       "5               Decision Tree  84.03\n",
       "3        Gaussian Naive Bayes  65.06"
      ]
     },
     "execution_count": 44,
     "metadata": {},
     "output_type": "execute_result"
    }
   ],
   "source": [
    "# results dataframe\n",
    "models = pd.DataFrame({\n",
    "    'Model': ['Logistic Regression',\n",
    "              'KNN', \n",
    "              'Random Forest', \n",
    "              'Gaussian Naive Bayes',\n",
    "              'Linear SVC (SVM)', \n",
    "              'Decision Tree', \n",
    "              'AdaBoostClassifier', \n",
    "              'GradientBoostingClassifier',\n",
    "              'CatBoost',\n",
    "             ],\n",
    "    'Score': [lrs, \n",
    "              knn_score, \n",
    "              random_forest_score, \n",
    "              clf_score,\n",
    "              linear_svc_score, \n",
    "              decision_tree_score,\n",
    "              bdt_score, \n",
    "              clf_gb_score, \n",
    "              catscore,\n",
    "             ]})\n",
    "\n",
    "models.sort_values(by='Score', ascending=False) #sorting by score"
   ]
  },
  {
   "cell_type": "markdown",
   "metadata": {},
   "source": [
    "<div class=\"alert alert-success\">\n",
    "\n",
    "It looks like Catboost is the most accurate with Logistic Regression coming in incredibly close at second. Gradient Boosting Classifier comes in at third place with Support Vector Machine coming at a close 4th place. The least accurate is \n",
    "Gaussian Naive Bayes coming in 25 points lower than Catboost.\n",
    "\n",
    "</div>"
   ]
  },
  {
   "cell_type": "markdown",
   "metadata": {},
   "source": [
    "## Random Forest Pipeline with GridSearchCV\n",
    "Let's see if we can improve our results at all using GridSearch. Gridsearch will run and compare each combination of parameters in a set of parameters that we choose."
   ]
  },
  {
   "cell_type": "code",
   "execution_count": 45,
   "metadata": {
    "ExecuteTime": {
     "end_time": "2020-10-07T17:54:59.367765Z",
     "start_time": "2020-10-07T17:54:59.349806Z"
    }
   },
   "outputs": [],
   "source": [
    "y_pipe = df['term_deposit_yes']\n",
    "X_pipe = df.drop(['term_deposit_yes'], axis=1) \n",
    "X_train, X_test, y_train, y_test = train_test_split(X_pipe, y_pipe, test_size=0.2, random_state=0)"
   ]
  },
  {
   "cell_type": "code",
   "execution_count": 46,
   "metadata": {
    "ExecuteTime": {
     "end_time": "2020-10-07T17:56:57.070540Z",
     "start_time": "2020-10-07T17:54:59.369358Z"
    }
   },
   "outputs": [
    {
     "name": "stdout",
     "output_type": "stream",
     "text": [
      "Fitting 3 folds for each of 8 candidates, totalling 24 fits\n",
      "[CV] clf__max_depth=None, clf__max_features=auto, clf__min_samples_leaf=1, clf__min_samples_split=2, clf__n_estimators=100 \n"
     ]
    },
    {
     "name": "stderr",
     "output_type": "stream",
     "text": [
      "[Parallel(n_jobs=1)]: Using backend SequentialBackend with 1 concurrent workers.\n"
     ]
    },
    {
     "name": "stdout",
     "output_type": "stream",
     "text": [
      "[CV]  clf__max_depth=None, clf__max_features=auto, clf__min_samples_leaf=1, clf__min_samples_split=2, clf__n_estimators=100, total=   5.3s\n",
      "[CV] clf__max_depth=None, clf__max_features=auto, clf__min_samples_leaf=1, clf__min_samples_split=2, clf__n_estimators=100 \n"
     ]
    },
    {
     "name": "stderr",
     "output_type": "stream",
     "text": [
      "[Parallel(n_jobs=1)]: Done   1 out of   1 | elapsed:    5.3s remaining:    0.0s\n"
     ]
    },
    {
     "name": "stdout",
     "output_type": "stream",
     "text": [
      "[CV]  clf__max_depth=None, clf__max_features=auto, clf__min_samples_leaf=1, clf__min_samples_split=2, clf__n_estimators=100, total=   4.8s\n",
      "[CV] clf__max_depth=None, clf__max_features=auto, clf__min_samples_leaf=1, clf__min_samples_split=2, clf__n_estimators=100 \n",
      "[CV]  clf__max_depth=None, clf__max_features=auto, clf__min_samples_leaf=1, clf__min_samples_split=2, clf__n_estimators=100, total=   4.6s\n",
      "[CV] clf__max_depth=None, clf__max_features=auto, clf__min_samples_leaf=1, clf__min_samples_split=10, clf__n_estimators=100 \n",
      "[CV]  clf__max_depth=None, clf__max_features=auto, clf__min_samples_leaf=1, clf__min_samples_split=10, clf__n_estimators=100, total=   4.8s\n",
      "[CV] clf__max_depth=None, clf__max_features=auto, clf__min_samples_leaf=1, clf__min_samples_split=10, clf__n_estimators=100 \n",
      "[CV]  clf__max_depth=None, clf__max_features=auto, clf__min_samples_leaf=1, clf__min_samples_split=10, clf__n_estimators=100, total=   4.5s\n",
      "[CV] clf__max_depth=None, clf__max_features=auto, clf__min_samples_leaf=1, clf__min_samples_split=10, clf__n_estimators=100 \n",
      "[CV]  clf__max_depth=None, clf__max_features=auto, clf__min_samples_leaf=1, clf__min_samples_split=10, clf__n_estimators=100, total=   4.6s\n",
      "[CV] clf__max_depth=None, clf__max_features=auto, clf__min_samples_leaf=2, clf__min_samples_split=2, clf__n_estimators=100 \n",
      "[CV]  clf__max_depth=None, clf__max_features=auto, clf__min_samples_leaf=2, clf__min_samples_split=2, clf__n_estimators=100, total=   4.7s\n",
      "[CV] clf__max_depth=None, clf__max_features=auto, clf__min_samples_leaf=2, clf__min_samples_split=2, clf__n_estimators=100 \n",
      "[CV]  clf__max_depth=None, clf__max_features=auto, clf__min_samples_leaf=2, clf__min_samples_split=2, clf__n_estimators=100, total=   4.6s\n",
      "[CV] clf__max_depth=None, clf__max_features=auto, clf__min_samples_leaf=2, clf__min_samples_split=2, clf__n_estimators=100 \n",
      "[CV]  clf__max_depth=None, clf__max_features=auto, clf__min_samples_leaf=2, clf__min_samples_split=2, clf__n_estimators=100, total=   4.7s\n",
      "[CV] clf__max_depth=None, clf__max_features=auto, clf__min_samples_leaf=2, clf__min_samples_split=10, clf__n_estimators=100 \n",
      "[CV]  clf__max_depth=None, clf__max_features=auto, clf__min_samples_leaf=2, clf__min_samples_split=10, clf__n_estimators=100, total=   4.6s\n",
      "[CV] clf__max_depth=None, clf__max_features=auto, clf__min_samples_leaf=2, clf__min_samples_split=10, clf__n_estimators=100 \n",
      "[CV]  clf__max_depth=None, clf__max_features=auto, clf__min_samples_leaf=2, clf__min_samples_split=10, clf__n_estimators=100, total=   4.6s\n",
      "[CV] clf__max_depth=None, clf__max_features=auto, clf__min_samples_leaf=2, clf__min_samples_split=10, clf__n_estimators=100 \n",
      "[CV]  clf__max_depth=None, clf__max_features=auto, clf__min_samples_leaf=2, clf__min_samples_split=10, clf__n_estimators=100, total=   4.8s\n",
      "[CV] clf__max_depth=None, clf__max_features=sqrt, clf__min_samples_leaf=1, clf__min_samples_split=2, clf__n_estimators=100 \n",
      "[CV]  clf__max_depth=None, clf__max_features=sqrt, clf__min_samples_leaf=1, clf__min_samples_split=2, clf__n_estimators=100, total=   4.5s\n",
      "[CV] clf__max_depth=None, clf__max_features=sqrt, clf__min_samples_leaf=1, clf__min_samples_split=2, clf__n_estimators=100 \n",
      "[CV]  clf__max_depth=None, clf__max_features=sqrt, clf__min_samples_leaf=1, clf__min_samples_split=2, clf__n_estimators=100, total=   4.3s\n",
      "[CV] clf__max_depth=None, clf__max_features=sqrt, clf__min_samples_leaf=1, clf__min_samples_split=2, clf__n_estimators=100 \n",
      "[CV]  clf__max_depth=None, clf__max_features=sqrt, clf__min_samples_leaf=1, clf__min_samples_split=2, clf__n_estimators=100, total=   4.5s\n",
      "[CV] clf__max_depth=None, clf__max_features=sqrt, clf__min_samples_leaf=1, clf__min_samples_split=10, clf__n_estimators=100 \n",
      "[CV]  clf__max_depth=None, clf__max_features=sqrt, clf__min_samples_leaf=1, clf__min_samples_split=10, clf__n_estimators=100, total=   4.4s\n",
      "[CV] clf__max_depth=None, clf__max_features=sqrt, clf__min_samples_leaf=1, clf__min_samples_split=10, clf__n_estimators=100 \n",
      "[CV]  clf__max_depth=None, clf__max_features=sqrt, clf__min_samples_leaf=1, clf__min_samples_split=10, clf__n_estimators=100, total=   4.7s\n",
      "[CV] clf__max_depth=None, clf__max_features=sqrt, clf__min_samples_leaf=1, clf__min_samples_split=10, clf__n_estimators=100 \n",
      "[CV]  clf__max_depth=None, clf__max_features=sqrt, clf__min_samples_leaf=1, clf__min_samples_split=10, clf__n_estimators=100, total=   4.5s\n",
      "[CV] clf__max_depth=None, clf__max_features=sqrt, clf__min_samples_leaf=2, clf__min_samples_split=2, clf__n_estimators=100 \n",
      "[CV]  clf__max_depth=None, clf__max_features=sqrt, clf__min_samples_leaf=2, clf__min_samples_split=2, clf__n_estimators=100, total=   4.3s\n",
      "[CV] clf__max_depth=None, clf__max_features=sqrt, clf__min_samples_leaf=2, clf__min_samples_split=2, clf__n_estimators=100 \n",
      "[CV]  clf__max_depth=None, clf__max_features=sqrt, clf__min_samples_leaf=2, clf__min_samples_split=2, clf__n_estimators=100, total=   4.4s\n",
      "[CV] clf__max_depth=None, clf__max_features=sqrt, clf__min_samples_leaf=2, clf__min_samples_split=2, clf__n_estimators=100 \n",
      "[CV]  clf__max_depth=None, clf__max_features=sqrt, clf__min_samples_leaf=2, clf__min_samples_split=2, clf__n_estimators=100, total=   4.7s\n",
      "[CV] clf__max_depth=None, clf__max_features=sqrt, clf__min_samples_leaf=2, clf__min_samples_split=10, clf__n_estimators=100 \n",
      "[CV]  clf__max_depth=None, clf__max_features=sqrt, clf__min_samples_leaf=2, clf__min_samples_split=10, clf__n_estimators=100, total=   4.7s\n",
      "[CV] clf__max_depth=None, clf__max_features=sqrt, clf__min_samples_leaf=2, clf__min_samples_split=10, clf__n_estimators=100 \n",
      "[CV]  clf__max_depth=None, clf__max_features=sqrt, clf__min_samples_leaf=2, clf__min_samples_split=10, clf__n_estimators=100, total=   4.6s\n",
      "[CV] clf__max_depth=None, clf__max_features=sqrt, clf__min_samples_leaf=2, clf__min_samples_split=10, clf__n_estimators=100 \n",
      "[CV]  clf__max_depth=None, clf__max_features=sqrt, clf__min_samples_leaf=2, clf__min_samples_split=10, clf__n_estimators=100, total=   4.7s\n"
     ]
    },
    {
     "name": "stderr",
     "output_type": "stream",
     "text": [
      "[Parallel(n_jobs=1)]: Done  24 out of  24 | elapsed:  1.8min finished\n"
     ]
    },
    {
     "name": "stdout",
     "output_type": "stream",
     "text": [
      "CPU times: user 3min, sys: 1.88 s, total: 3min 2s\n",
      "Wall time: 1min 57s\n"
     ]
    },
    {
     "data": {
      "text/plain": [
       "GridSearchCV(cv=3, error_score='raise-deprecating',\n",
       "             estimator=Pipeline(memory=None,\n",
       "                                steps=[('scl',\n",
       "                                        StandardScaler(copy=True,\n",
       "                                                       with_mean=True,\n",
       "                                                       with_std=True)),\n",
       "                                       ('pca',\n",
       "                                        PCA(copy=True, iterated_power='auto',\n",
       "                                            n_components=5, random_state=None,\n",
       "                                            svd_solver='auto', tol=0.0,\n",
       "                                            whiten=False)),\n",
       "                                       ('clf',\n",
       "                                        RandomForestClassifier(bootstrap=True,\n",
       "                                                               class_weight=None,\n",
       "                                                               criterion='gini',\n",
       "                                                               ma...\n",
       "                                                               oob_score=False,\n",
       "                                                               random_state=0,\n",
       "                                                               verbose=0,\n",
       "                                                               warm_start=False))],\n",
       "                                verbose=False),\n",
       "             iid='warn', n_jobs=None,\n",
       "             param_grid=[{'clf__max_depth': [None],\n",
       "                          'clf__max_features': ['auto', 'sqrt'],\n",
       "                          'clf__min_samples_leaf': [1, 2],\n",
       "                          'clf__min_samples_split': [2, 10],\n",
       "                          'clf__n_estimators': [100]}],\n",
       "             pre_dispatch='2*n_jobs', refit=True, return_train_score=False,\n",
       "             scoring='accuracy', verbose=2)"
      ]
     },
     "execution_count": 46,
     "metadata": {},
     "output_type": "execute_result"
    }
   ],
   "source": [
    "%%time\n",
    "\n",
    "from sklearn.pipeline import Pipeline\n",
    "from sklearn.model_selection import GridSearchCV\n",
    "from sklearn.decomposition import PCA \n",
    "\n",
    "# Creating a pipeline\n",
    "rf_pipe = Pipeline([('scl', StandardScaler()),\n",
    "                 ('pca', PCA(n_components=5)), #arbitrary number\n",
    "                 ('clf', RandomForestClassifier(random_state = 0))])\n",
    "\n",
    "\n",
    "# Set grid search params\n",
    "rf_grid_param = [ \n",
    "  {'clf__n_estimators': [100], \n",
    "   'clf__max_features': ['auto', 'sqrt'],\n",
    "   'clf__max_depth': [None],  \n",
    "   'clf__min_samples_leaf':[1, 2],   \n",
    "   'clf__min_samples_split':[2, 10],\n",
    "  }\n",
    "]\n",
    "\n",
    "# Construct grid search\n",
    "rf_gridsearch = GridSearchCV(estimator=rf_pipe,\n",
    "            param_grid=rf_grid_param,\n",
    "            scoring='accuracy',\n",
    "            cv=3, verbose=2)\n",
    "\n",
    "# Fit using grid search\n",
    "rf_gridsearch.fit(X_train, y_train)"
   ]
  },
  {
   "cell_type": "code",
   "execution_count": 47,
   "metadata": {
    "ExecuteTime": {
     "end_time": "2020-10-07T17:56:57.076193Z",
     "start_time": "2020-10-07T17:56:57.072500Z"
    }
   },
   "outputs": [
    {
     "name": "stdout",
     "output_type": "stream",
     "text": [
      "\n",
      "Best params:\n",
      " {'clf__max_depth': None, 'clf__max_features': 'auto', 'clf__min_samples_leaf': 2, 'clf__min_samples_split': 10, 'clf__n_estimators': 100}\n"
     ]
    }
   ],
   "source": [
    "# print best parameters\n",
    "print('\\nBest params:\\n', rf_gridsearch.best_params_)"
   ]
  },
  {
   "cell_type": "code",
   "execution_count": 48,
   "metadata": {
    "ExecuteTime": {
     "end_time": "2020-10-07T17:56:59.153679Z",
     "start_time": "2020-10-07T17:56:57.077578Z"
    }
   },
   "outputs": [
    {
     "name": "stdout",
     "output_type": "stream",
     "text": [
      "Accuracy Percentage:  89.99\n",
      "CPU times: user 2.06 s, sys: 11.2 ms, total: 2.07 s\n",
      "Wall time: 2.07 s\n"
     ]
    }
   ],
   "source": [
    "%%time \n",
    "#applying best parameters to model\n",
    "random_forest = RandomForestClassifier(n_estimators=100, max_features='sqrt', min_samples_leaf= 2, min_samples_split= 10) # random forest \n",
    "random_forest.fit(X_train, y_train) #fit the model\n",
    "random_forest_score = round(random_forest.score(X_test, y_test) * 100, 2) #round the result\n",
    "print(\"Accuracy Percentage: \", random_forest_score)"
   ]
  },
  {
   "cell_type": "markdown",
   "metadata": {},
   "source": [
    "<div class=\"alert alert-success\">\n",
    "\n",
    "Gridsearch CV did not raise the accuracy of the model. Let's see if we can improve the accuracy in some of our other models by addressing our class imbalance problem.\n",
    "\n",
    "</div>"
   ]
  },
  {
   "cell_type": "markdown",
   "metadata": {},
   "source": [
    "## Class Imbalance"
   ]
  },
  {
   "cell_type": "code",
   "execution_count": 49,
   "metadata": {
    "ExecuteTime": {
     "end_time": "2020-10-07T17:56:59.298271Z",
     "start_time": "2020-10-07T17:56:59.155258Z"
    }
   },
   "outputs": [
    {
     "data": {
      "image/png": "[encoded data removed]",
      "text/plain": [
       "<Figure size 432x288 with 1 Axes>"
      ]
     },
     "metadata": {
      "needs_background": "light"
     },
     "output_type": "display_data"
    }
   ],
   "source": [
    "# visualizing churn\n",
    "plt.bar(['No Term Deposit', 'Term Deposit'], df.term_deposit_yes.value_counts().values, facecolor = 'blue',  linewidth=0.5)\n",
    "plt.title('Target Variable (Subscribed Term Deposits)', fontsize=16)\n",
    "plt.xlabel('Classes')\n",
    "plt.ylabel('Total Count')\n",
    "plt.show()"
   ]
  },
  {
   "cell_type": "markdown",
   "metadata": {
    "ExecuteTime": {
     "end_time": "2020-10-05T22:17:31.625260Z",
     "start_time": "2020-10-05T22:17:31.621146Z"
    }
   },
   "source": [
    "<div class=\"alert alert-success\">\n",
    "\n",
    "The graph above highlights that there is a a pretty high level of imbalance. We can remedy this using SMOTE.\n",
    "\n",
    "</div>"
   ]
  },
  {
   "cell_type": "markdown",
   "metadata": {},
   "source": [
    "## SMOTE (Synthetic Minority Over-sampling Technique)"
   ]
  },
  {
   "cell_type": "code",
   "execution_count": 50,
   "metadata": {
    "ExecuteTime": {
     "end_time": "2020-10-07T17:56:59.304506Z",
     "start_time": "2020-10-07T17:56:59.299925Z"
    }
   },
   "outputs": [],
   "source": [
    "# Separate target and features\n",
    "y = df['term_deposit_yes']\n",
    "X = df.drop(['term_deposit_yes'], axis=1) "
   ]
  },
  {
   "cell_type": "code",
   "execution_count": 51,
   "metadata": {
    "ExecuteTime": {
     "end_time": "2020-10-07T17:56:59.393173Z",
     "start_time": "2020-10-07T17:56:59.306490Z"
    }
   },
   "outputs": [],
   "source": [
    "X_scaled = scaler.fit_transform(X) #scale data"
   ]
  },
  {
   "cell_type": "code",
   "execution_count": 52,
   "metadata": {
    "ExecuteTime": {
     "end_time": "2020-10-07T17:56:59.413960Z",
     "start_time": "2020-10-07T17:56:59.395157Z"
    }
   },
   "outputs": [],
   "source": [
    "X_train, X_test, y_train, y_test = train_test_split(X_scaled, y, test_size=0.2, random_state=0) #test/train split"
   ]
  },
  {
   "cell_type": "code",
   "execution_count": 53,
   "metadata": {
    "ExecuteTime": {
     "end_time": "2020-10-07T17:56:59.432179Z",
     "start_time": "2020-10-07T17:56:59.416083Z"
    }
   },
   "outputs": [
    {
     "name": "stderr",
     "output_type": "stream",
     "text": [
      "/Users/miguelsantana/opt/anaconda3/envs/learn-env/lib/python3.6/site-packages/sklearn/externals/six.py:31: DeprecationWarning: The module is deprecated in version 0.21 and will be removed in version 0.23 since we've dropped support for Python 2.7. Please rely on the official version of six (https://pypi.org/project/six/).\n",
      "  \"(https://pypi.org/project/six/).\", DeprecationWarning)\n"
     ]
    }
   ],
   "source": [
    "from imblearn.over_sampling import SMOTE #import smote"
   ]
  },
  {
   "cell_type": "code",
   "execution_count": 54,
   "metadata": {
    "ExecuteTime": {
     "end_time": "2020-10-07T17:56:59.437037Z",
     "start_time": "2020-10-07T17:56:59.434187Z"
    }
   },
   "outputs": [],
   "source": [
    "smote = SMOTE(random_state=0) #random state 0 for consistency"
   ]
  },
  {
   "cell_type": "code",
   "execution_count": 55,
   "metadata": {
    "ExecuteTime": {
     "end_time": "2020-10-07T17:56:59.977676Z",
     "start_time": "2020-10-07T17:56:59.439609Z"
    }
   },
   "outputs": [
    {
     "name": "stdout",
     "output_type": "stream",
     "text": [
      "CPU times: user 1.66 s, sys: 64.4 ms, total: 1.72 s\n",
      "Wall time: 535 ms\n"
     ]
    }
   ],
   "source": [
    "%%time\n",
    "\n",
    "X_res, y_res = smote.fit_resample(X_train, y_train) #fitting smote to our train sets"
   ]
  },
  {
   "cell_type": "code",
   "execution_count": 56,
   "metadata": {
    "ExecuteTime": {
     "end_time": "2020-10-07T17:57:00.142001Z",
     "start_time": "2020-10-07T17:56:59.979661Z"
    },
    "scrolled": true
   },
   "outputs": [
    {
     "data": {
      "image/png": "[encoded data removed]",
      "text/plain": [
       "<Figure size 432x288 with 1 Axes>"
      ]
     },
     "metadata": {
      "needs_background": "light"
     },
     "output_type": "display_data"
    }
   ],
   "source": [
    "# Updated bar graph to display amount of failed vs. successful campaigns post-SMOTE\n",
    "plt.bar(['Customer Retention', 'Customer Churn'], [sum(y_res), len(y_res)-sum(y_res)], facecolor = 'green',  linewidth=0.5)\n",
    "plt.title('Post-SMOTE Target Variable (Success)\\n', fontsize=16)\n",
    "plt.xlabel('Classes')\n",
    "plt.ylabel('Number of Campaigns')\n",
    "plt.show()"
   ]
  },
  {
   "cell_type": "markdown",
   "metadata": {},
   "source": [
    "<div class=\"alert alert-success\">\n",
    "\n",
    "It looks like our classes are balanced now. Let's proceed.\n",
    "\n",
    "</div>"
   ]
  },
  {
   "cell_type": "code",
   "execution_count": 57,
   "metadata": {
    "ExecuteTime": {
     "end_time": "2020-10-07T17:57:00.149215Z",
     "start_time": "2020-10-07T17:57:00.144468Z"
    }
   },
   "outputs": [
    {
     "name": "stdout",
     "output_type": "stream",
     "text": [
      "CPU times: user 71 µs, sys: 0 ns, total: 71 µs\n",
      "Wall time: 74.9 µs\n"
     ]
    }
   ],
   "source": [
    "%%time\n",
    "\n",
    "#just a few classifiers for sake of time\n",
    "l_r = LogisticRegression(penalty='l2', solver='liblinear')\n",
    "randomforest = RandomForestClassifier(n_estimators=100)\n",
    "cat_model = CatBoostClassifier(\n",
    "    custom_loss=['Accuracy'], # metric to use in training\n",
    "    random_seed=0, # consistent with other random seeds\n",
    "    logging_level='Silent' # time function will show time lapse\n",
    ")\n",
    "decisiontree = DecisionTreeClassifier()\n",
    "\n",
    "classifiers = [l_r, randomforest, cat_model, decisiontree] # list of classifiers\n",
    "classifiers_names = ['Logistic Regression', 'Random Forest','Cat Model', 'Decision Tree'] # respective names"
   ]
  },
  {
   "cell_type": "code",
   "execution_count": 58,
   "metadata": {
    "ExecuteTime": {
     "end_time": "2020-10-07T17:57:23.349997Z",
     "start_time": "2020-10-07T17:57:00.151316Z"
    }
   },
   "outputs": [
    {
     "name": "stdout",
     "output_type": "stream",
     "text": [
      "CPU times: user 3min 38s, sys: 13.1 s, total: 3min 51s\n",
      "Wall time: 23.2 s\n"
     ]
    }
   ],
   "source": [
    "%%time \n",
    "\n",
    "# iterating through a list of classifiers and appending their accuracy levels to a list of scores\n",
    "scores = []\n",
    "for i in range(len(classifiers)):\n",
    "    classifiers[i].fit(X_res, y_res)\n",
    "    scores.append(round(classifiers[i].score(X_test, y_test), 3))"
   ]
  },
  {
   "cell_type": "code",
   "execution_count": 59,
   "metadata": {
    "ExecuteTime": {
     "end_time": "2020-10-07T17:57:23.359777Z",
     "start_time": "2020-10-07T17:57:23.351830Z"
    },
    "scrolled": true
   },
   "outputs": [
    {
     "data": {
      "text/html": [
       "<div>\n",
       "<style scoped>\n",
       "    .dataframe tbody tr th:only-of-type {\n",
       "        vertical-align: middle;\n",
       "    }\n",
       "\n",
       "    .dataframe tbody tr th {\n",
       "        vertical-align: top;\n",
       "    }\n",
       "\n",
       "    .dataframe thead th {\n",
       "        text-align: right;\n",
       "    }\n",
       "</style>\n",
       "<table border=\"1\" class=\"dataframe\">\n",
       "  <thead>\n",
       "    <tr style=\"text-align: right;\">\n",
       "      <th></th>\n",
       "      <th>Model</th>\n",
       "      <th>Score</th>\n",
       "    </tr>\n",
       "  </thead>\n",
       "  <tbody>\n",
       "    <tr>\n",
       "      <th>2</th>\n",
       "      <td>Cat Model</td>\n",
       "      <td>0.898</td>\n",
       "    </tr>\n",
       "    <tr>\n",
       "      <th>1</th>\n",
       "      <td>Random Forest</td>\n",
       "      <td>0.886</td>\n",
       "    </tr>\n",
       "    <tr>\n",
       "      <th>3</th>\n",
       "      <td>Decision Tree</td>\n",
       "      <td>0.838</td>\n",
       "    </tr>\n",
       "    <tr>\n",
       "      <th>0</th>\n",
       "      <td>Logistic Regression</td>\n",
       "      <td>0.807</td>\n",
       "    </tr>\n",
       "  </tbody>\n",
       "</table>\n",
       "</div>"
      ],
      "text/plain": [
       "                 Model  Score\n",
       "2            Cat Model  0.898\n",
       "1        Random Forest  0.886\n",
       "3        Decision Tree  0.838\n",
       "0  Logistic Regression  0.807"
      ]
     },
     "execution_count": 59,
     "metadata": {},
     "output_type": "execute_result"
    }
   ],
   "source": [
    "# dataframe to compare results\n",
    "dfsmote = pd.DataFrame({'Model': classifiers_names, 'Score': scores})\n",
    "\n",
    "dfsmote.sort_values(by='Score', ascending=False) # sorting models by score"
   ]
  },
  {
   "cell_type": "markdown",
   "metadata": {},
   "source": [
    "<div class=\"alert alert-success\">\n",
    "\n",
    "The models performed worse than they did initially. SMOTE wasn't particularly worth it as it did not significantly impact model performance. \n",
    "\n",
    "</div>"
   ]
  },
  {
   "cell_type": "markdown",
   "metadata": {},
   "source": [
    "# Feature Importance of Top Classifiers\n",
    "\n",
    "Now that we know which classifiers have the most accuracy with our data, let's compare which features were the most important in the top three models: Catboost, Logistic Regression, and Gradient Boosting Classifier."
   ]
  },
  {
   "cell_type": "markdown",
   "metadata": {},
   "source": [
    "## Catboost Features"
   ]
  },
  {
   "cell_type": "code",
   "execution_count": 60,
   "metadata": {
    "ExecuteTime": {
     "end_time": "2020-10-07T17:57:23.372363Z",
     "start_time": "2020-10-07T17:57:23.361432Z"
    },
    "scrolled": true
   },
   "outputs": [
    {
     "name": "stdout",
     "output_type": "stream",
     "text": [
      "Catboost Top 25 Features\n"
     ]
    },
    {
     "data": {
      "text/html": [
       "<div>\n",
       "<style scoped>\n",
       "    .dataframe tbody tr th:only-of-type {\n",
       "        vertical-align: middle;\n",
       "    }\n",
       "\n",
       "    .dataframe tbody tr th {\n",
       "        vertical-align: top;\n",
       "    }\n",
       "\n",
       "    .dataframe thead th {\n",
       "        text-align: right;\n",
       "    }\n",
       "</style>\n",
       "<table border=\"1\" class=\"dataframe\">\n",
       "  <thead>\n",
       "    <tr style=\"text-align: right;\">\n",
       "      <th></th>\n",
       "      <th>Importance</th>\n",
       "      <th>Column</th>\n",
       "    </tr>\n",
       "  </thead>\n",
       "  <tbody>\n",
       "    <tr>\n",
       "      <th>6</th>\n",
       "      <td>30.455536</td>\n",
       "      <td>nremployed</td>\n",
       "    </tr>\n",
       "    <tr>\n",
       "      <th>5</th>\n",
       "      <td>9.969860</td>\n",
       "      <td>conspriceidx</td>\n",
       "    </tr>\n",
       "    <tr>\n",
       "      <th>25</th>\n",
       "      <td>8.950625</td>\n",
       "      <td>contact_telephone</td>\n",
       "    </tr>\n",
       "    <tr>\n",
       "      <th>2</th>\n",
       "      <td>6.363081</td>\n",
       "      <td>campaign</td>\n",
       "    </tr>\n",
       "    <tr>\n",
       "      <th>0</th>\n",
       "      <td>5.293196</td>\n",
       "      <td>age</td>\n",
       "    </tr>\n",
       "    <tr>\n",
       "      <th>31</th>\n",
       "      <td>4.546650</td>\n",
       "      <td>month_may</td>\n",
       "    </tr>\n",
       "    <tr>\n",
       "      <th>1</th>\n",
       "      <td>3.874970</td>\n",
       "      <td>education</td>\n",
       "    </tr>\n",
       "    <tr>\n",
       "      <th>3</th>\n",
       "      <td>3.798969</td>\n",
       "      <td>pdays</td>\n",
       "    </tr>\n",
       "    <tr>\n",
       "      <th>40</th>\n",
       "      <td>2.264728</td>\n",
       "      <td>poutcome_success</td>\n",
       "    </tr>\n",
       "    <tr>\n",
       "      <th>33</th>\n",
       "      <td>2.166905</td>\n",
       "      <td>month_oct</td>\n",
       "    </tr>\n",
       "    <tr>\n",
       "      <th>36</th>\n",
       "      <td>2.162920</td>\n",
       "      <td>day_of_week_thu</td>\n",
       "    </tr>\n",
       "    <tr>\n",
       "      <th>4</th>\n",
       "      <td>2.158016</td>\n",
       "      <td>previous</td>\n",
       "    </tr>\n",
       "    <tr>\n",
       "      <th>35</th>\n",
       "      <td>1.802605</td>\n",
       "      <td>day_of_week_mon</td>\n",
       "    </tr>\n",
       "    <tr>\n",
       "      <th>19</th>\n",
       "      <td>1.787481</td>\n",
       "      <td>default_unknown</td>\n",
       "    </tr>\n",
       "    <tr>\n",
       "      <th>37</th>\n",
       "      <td>1.606513</td>\n",
       "      <td>day_of_week_tue</td>\n",
       "    </tr>\n",
       "    <tr>\n",
       "      <th>30</th>\n",
       "      <td>1.567440</td>\n",
       "      <td>month_mar</td>\n",
       "    </tr>\n",
       "    <tr>\n",
       "      <th>32</th>\n",
       "      <td>1.179835</td>\n",
       "      <td>month_nov</td>\n",
       "    </tr>\n",
       "    <tr>\n",
       "      <th>38</th>\n",
       "      <td>1.113401</td>\n",
       "      <td>day_of_week_wed</td>\n",
       "    </tr>\n",
       "    <tr>\n",
       "      <th>39</th>\n",
       "      <td>0.935641</td>\n",
       "      <td>poutcome_nonexistent</td>\n",
       "    </tr>\n",
       "    <tr>\n",
       "      <th>18</th>\n",
       "      <td>0.918658</td>\n",
       "      <td>marital_single</td>\n",
       "    </tr>\n",
       "    <tr>\n",
       "      <th>14</th>\n",
       "      <td>0.680721</td>\n",
       "      <td>job_student</td>\n",
       "    </tr>\n",
       "    <tr>\n",
       "      <th>22</th>\n",
       "      <td>0.642378</td>\n",
       "      <td>housing_yes</td>\n",
       "    </tr>\n",
       "    <tr>\n",
       "      <th>17</th>\n",
       "      <td>0.615678</td>\n",
       "      <td>marital_married</td>\n",
       "    </tr>\n",
       "    <tr>\n",
       "      <th>24</th>\n",
       "      <td>0.552025</td>\n",
       "      <td>loan_yes</td>\n",
       "    </tr>\n",
       "    <tr>\n",
       "      <th>7</th>\n",
       "      <td>0.474641</td>\n",
       "      <td>job_blue-collar</td>\n",
       "    </tr>\n",
       "  </tbody>\n",
       "</table>\n",
       "</div>"
      ],
      "text/plain": [
       "    Importance                Column\n",
       "6    30.455536            nremployed\n",
       "5     9.969860          conspriceidx\n",
       "25    8.950625     contact_telephone\n",
       "2     6.363081              campaign\n",
       "0     5.293196                   age\n",
       "31    4.546650             month_may\n",
       "1     3.874970             education\n",
       "3     3.798969                 pdays\n",
       "40    2.264728      poutcome_success\n",
       "33    2.166905             month_oct\n",
       "36    2.162920       day_of_week_thu\n",
       "4     2.158016              previous\n",
       "35    1.802605       day_of_week_mon\n",
       "19    1.787481       default_unknown\n",
       "37    1.606513       day_of_week_tue\n",
       "30    1.567440             month_mar\n",
       "32    1.179835             month_nov\n",
       "38    1.113401       day_of_week_wed\n",
       "39    0.935641  poutcome_nonexistent\n",
       "18    0.918658        marital_single\n",
       "14    0.680721           job_student\n",
       "22    0.642378           housing_yes\n",
       "17    0.615678       marital_married\n",
       "24    0.552025              loan_yes\n",
       "7     0.474641       job_blue-collar"
      ]
     },
     "execution_count": 60,
     "metadata": {},
     "output_type": "execute_result"
    }
   ],
   "source": [
    "# Feature Importance\n",
    "cat_feature = pd.DataFrame({'Importance': catmodel.feature_importances_, 'Column': X.columns}) # new dataframe\n",
    "cat_feature = cat_feature.sort_values(by='Importance', ascending=False) # results highest to lowest\n",
    "print('Catboost Top 25 Features')\n",
    "cat_feature[:25] # top 25 features"
   ]
  },
  {
   "cell_type": "code",
   "execution_count": 61,
   "metadata": {
    "ExecuteTime": {
     "end_time": "2020-10-07T17:57:23.786465Z",
     "start_time": "2020-10-07T17:57:23.373802Z"
    }
   },
   "outputs": [
    {
     "data": {
      "image/png": "[encoded data removed]",
      "text/plain": [
       "<Figure size 1440x720 with 1 Axes>"
      ]
     },
     "metadata": {
      "needs_background": "light"
     },
     "output_type": "display_data"
    }
   ],
   "source": [
    "cat_feature = cat_feature[:25] # top 25 features\n",
    "cat_feature.plot(kind='barh', x='Column', y='Importance', figsize=(20, 10), cmap = 'coolwarm')\n",
    "plt.title('Catboost Feature Importance \\n', fontsize=16)\n",
    "plt.show()"
   ]
  },
  {
   "cell_type": "markdown",
   "metadata": {},
   "source": [
    "## Random Forest Features"
   ]
  },
  {
   "cell_type": "code",
   "execution_count": 62,
   "metadata": {
    "ExecuteTime": {
     "end_time": "2020-10-07T17:57:23.809490Z",
     "start_time": "2020-10-07T17:57:23.787903Z"
    },
    "scrolled": true
   },
   "outputs": [
    {
     "name": "stdout",
     "output_type": "stream",
     "text": [
      "Random Forest Top 25 Features\n"
     ]
    },
    {
     "data": {
      "text/html": [
       "<div>\n",
       "<style scoped>\n",
       "    .dataframe tbody tr th:only-of-type {\n",
       "        vertical-align: middle;\n",
       "    }\n",
       "\n",
       "    .dataframe tbody tr th {\n",
       "        vertical-align: top;\n",
       "    }\n",
       "\n",
       "    .dataframe thead th {\n",
       "        text-align: right;\n",
       "    }\n",
       "</style>\n",
       "<table border=\"1\" class=\"dataframe\">\n",
       "  <thead>\n",
       "    <tr style=\"text-align: right;\">\n",
       "      <th></th>\n",
       "      <th>Importance</th>\n",
       "      <th>Column</th>\n",
       "    </tr>\n",
       "  </thead>\n",
       "  <tbody>\n",
       "    <tr>\n",
       "      <th>6</th>\n",
       "      <td>0.170443</td>\n",
       "      <td>nremployed</td>\n",
       "    </tr>\n",
       "    <tr>\n",
       "      <th>0</th>\n",
       "      <td>0.130017</td>\n",
       "      <td>age</td>\n",
       "    </tr>\n",
       "    <tr>\n",
       "      <th>5</th>\n",
       "      <td>0.086941</td>\n",
       "      <td>conspriceidx</td>\n",
       "    </tr>\n",
       "    <tr>\n",
       "      <th>3</th>\n",
       "      <td>0.079699</td>\n",
       "      <td>pdays</td>\n",
       "    </tr>\n",
       "    <tr>\n",
       "      <th>40</th>\n",
       "      <td>0.056586</td>\n",
       "      <td>poutcome_success</td>\n",
       "    </tr>\n",
       "    <tr>\n",
       "      <th>2</th>\n",
       "      <td>0.055320</td>\n",
       "      <td>campaign</td>\n",
       "    </tr>\n",
       "    <tr>\n",
       "      <th>1</th>\n",
       "      <td>0.049779</td>\n",
       "      <td>education</td>\n",
       "    </tr>\n",
       "    <tr>\n",
       "      <th>4</th>\n",
       "      <td>0.026547</td>\n",
       "      <td>previous</td>\n",
       "    </tr>\n",
       "    <tr>\n",
       "      <th>33</th>\n",
       "      <td>0.021468</td>\n",
       "      <td>month_oct</td>\n",
       "    </tr>\n",
       "    <tr>\n",
       "      <th>25</th>\n",
       "      <td>0.021304</td>\n",
       "      <td>contact_telephone</td>\n",
       "    </tr>\n",
       "    <tr>\n",
       "      <th>22</th>\n",
       "      <td>0.020732</td>\n",
       "      <td>housing_yes</td>\n",
       "    </tr>\n",
       "    <tr>\n",
       "      <th>35</th>\n",
       "      <td>0.017494</td>\n",
       "      <td>day_of_week_mon</td>\n",
       "    </tr>\n",
       "    <tr>\n",
       "      <th>36</th>\n",
       "      <td>0.016259</td>\n",
       "      <td>day_of_week_thu</td>\n",
       "    </tr>\n",
       "    <tr>\n",
       "      <th>30</th>\n",
       "      <td>0.015882</td>\n",
       "      <td>month_mar</td>\n",
       "    </tr>\n",
       "    <tr>\n",
       "      <th>24</th>\n",
       "      <td>0.015835</td>\n",
       "      <td>loan_yes</td>\n",
       "    </tr>\n",
       "    <tr>\n",
       "      <th>39</th>\n",
       "      <td>0.015739</td>\n",
       "      <td>poutcome_nonexistent</td>\n",
       "    </tr>\n",
       "    <tr>\n",
       "      <th>37</th>\n",
       "      <td>0.015487</td>\n",
       "      <td>day_of_week_tue</td>\n",
       "    </tr>\n",
       "    <tr>\n",
       "      <th>38</th>\n",
       "      <td>0.015117</td>\n",
       "      <td>day_of_week_wed</td>\n",
       "    </tr>\n",
       "    <tr>\n",
       "      <th>17</th>\n",
       "      <td>0.014633</td>\n",
       "      <td>marital_married</td>\n",
       "    </tr>\n",
       "    <tr>\n",
       "      <th>15</th>\n",
       "      <td>0.014291</td>\n",
       "      <td>job_technician</td>\n",
       "    </tr>\n",
       "    <tr>\n",
       "      <th>18</th>\n",
       "      <td>0.012847</td>\n",
       "      <td>marital_single</td>\n",
       "    </tr>\n",
       "    <tr>\n",
       "      <th>31</th>\n",
       "      <td>0.012719</td>\n",
       "      <td>month_may</td>\n",
       "    </tr>\n",
       "    <tr>\n",
       "      <th>7</th>\n",
       "      <td>0.010863</td>\n",
       "      <td>job_blue-collar</td>\n",
       "    </tr>\n",
       "    <tr>\n",
       "      <th>19</th>\n",
       "      <td>0.010295</td>\n",
       "      <td>default_unknown</td>\n",
       "    </tr>\n",
       "    <tr>\n",
       "      <th>10</th>\n",
       "      <td>0.009058</td>\n",
       "      <td>job_management</td>\n",
       "    </tr>\n",
       "  </tbody>\n",
       "</table>\n",
       "</div>"
      ],
      "text/plain": [
       "    Importance                Column\n",
       "6     0.170443            nremployed\n",
       "0     0.130017                   age\n",
       "5     0.086941          conspriceidx\n",
       "3     0.079699                 pdays\n",
       "40    0.056586      poutcome_success\n",
       "2     0.055320              campaign\n",
       "1     0.049779             education\n",
       "4     0.026547              previous\n",
       "33    0.021468             month_oct\n",
       "25    0.021304     contact_telephone\n",
       "22    0.020732           housing_yes\n",
       "35    0.017494       day_of_week_mon\n",
       "36    0.016259       day_of_week_thu\n",
       "30    0.015882             month_mar\n",
       "24    0.015835              loan_yes\n",
       "39    0.015739  poutcome_nonexistent\n",
       "37    0.015487       day_of_week_tue\n",
       "38    0.015117       day_of_week_wed\n",
       "17    0.014633       marital_married\n",
       "15    0.014291        job_technician\n",
       "18    0.012847        marital_single\n",
       "31    0.012719             month_may\n",
       "7     0.010863       job_blue-collar\n",
       "19    0.010295       default_unknown\n",
       "10    0.009058        job_management"
      ]
     },
     "execution_count": 62,
     "metadata": {},
     "output_type": "execute_result"
    }
   ],
   "source": [
    "# Feature Importance\n",
    "rf_feature = pd.DataFrame({'Importance': random_forest.feature_importances_, 'Column': X.columns}) #create new dataframe\n",
    "rf_feature = rf_feature.sort_values(by='Importance', ascending=False) #display results highest to lowest\n",
    "print('Random Forest Top 25 Features')\n",
    "rf_feature[:25] #top 25 features"
   ]
  },
  {
   "cell_type": "code",
   "execution_count": 63,
   "metadata": {
    "ExecuteTime": {
     "end_time": "2020-10-07T17:57:24.239391Z",
     "start_time": "2020-10-07T17:57:23.810997Z"
    },
    "scrolled": true
   },
   "outputs": [
    {
     "data": {
      "image/png": "[encoded data removed]",
      "text/plain": [
       "<Figure size 1440x720 with 1 Axes>"
      ]
     },
     "metadata": {
      "needs_background": "light"
     },
     "output_type": "display_data"
    }
   ],
   "source": [
    "rf_feature = rf_feature[:25] #top 25 features\n",
    "rf_feature.plot(kind='barh', x='Column', y='Importance', figsize=(20, 10), cmap= 'ocean')\n",
    "plt.title('Random Forest Feature Importance \\n', fontsize=16)\n",
    "plt.show()"
   ]
  },
  {
   "cell_type": "markdown",
   "metadata": {},
   "source": [
    "## Overlap"
   ]
  },
  {
   "cell_type": "code",
   "execution_count": 64,
   "metadata": {
    "ExecuteTime": {
     "end_time": "2020-10-07T17:57:24.244160Z",
     "start_time": "2020-10-07T17:57:24.241220Z"
    }
   },
   "outputs": [],
   "source": [
    "# Creating lists / top 25 features in each classifier \n",
    "cat = cat_feature.Column.unique() \n",
    "rf = rf_feature.Column.unique()"
   ]
  },
  {
   "cell_type": "code",
   "execution_count": 65,
   "metadata": {
    "ExecuteTime": {
     "end_time": "2020-10-07T17:57:24.249313Z",
     "start_time": "2020-10-07T17:57:24.245598Z"
    }
   },
   "outputs": [
    {
     "data": {
      "text/plain": [
       "{'age',\n",
       " 'campaign',\n",
       " 'conspriceidx',\n",
       " 'contact_telephone',\n",
       " 'day_of_week_mon',\n",
       " 'day_of_week_thu',\n",
       " 'day_of_week_tue',\n",
       " 'day_of_week_wed',\n",
       " 'default_unknown',\n",
       " 'education',\n",
       " 'housing_yes',\n",
       " 'job_blue-collar',\n",
       " 'loan_yes',\n",
       " 'marital_married',\n",
       " 'marital_single',\n",
       " 'month_mar',\n",
       " 'month_may',\n",
       " 'month_oct',\n",
       " 'nremployed',\n",
       " 'pdays',\n",
       " 'poutcome_nonexistent',\n",
       " 'poutcome_success',\n",
       " 'previous'}"
      ]
     },
     "execution_count": 65,
     "metadata": {},
     "output_type": "execute_result"
    }
   ],
   "source": [
    "set(cat) & set(rf) # items appearing in both lists"
   ]
  },
  {
   "cell_type": "markdown",
   "metadata": {},
   "source": [
    "<div class=\"alert alert-success\">\n",
    "\n",
    "There are 23 total items that appear in both classifier feature lists. \n",
    "\n",
    "The most important features in both lists are:\n",
    "* **Number of employees | quarterly indicator (nremployed)**\n",
    "* **Consumer Price Index | monthly indicator (conspriceidx)**\n",
    "* **Age**\n",
    "\n",
    "</div>"
   ]
  },
  {
   "cell_type": "code",
   "execution_count": 66,
   "metadata": {
    "ExecuteTime": {
     "end_time": "2020-10-07T17:57:24.272128Z",
     "start_time": "2020-10-07T17:57:24.250698Z"
    },
    "scrolled": true
   },
   "outputs": [
    {
     "data": {
      "text/html": [
       "<div>\n",
       "<style scoped>\n",
       "    .dataframe tbody tr th:only-of-type {\n",
       "        vertical-align: middle;\n",
       "    }\n",
       "\n",
       "    .dataframe tbody tr th {\n",
       "        vertical-align: top;\n",
       "    }\n",
       "\n",
       "    .dataframe thead th {\n",
       "        text-align: right;\n",
       "    }\n",
       "</style>\n",
       "<table border=\"1\" class=\"dataframe\">\n",
       "  <thead>\n",
       "    <tr style=\"text-align: right;\">\n",
       "      <th></th>\n",
       "      <th>age</th>\n",
       "      <th>job</th>\n",
       "      <th>marital</th>\n",
       "      <th>education</th>\n",
       "      <th>default</th>\n",
       "      <th>housing</th>\n",
       "      <th>loan</th>\n",
       "      <th>contact</th>\n",
       "      <th>month</th>\n",
       "      <th>day_of_week</th>\n",
       "      <th>...</th>\n",
       "      <th>campaign</th>\n",
       "      <th>pdays</th>\n",
       "      <th>previous</th>\n",
       "      <th>poutcome</th>\n",
       "      <th>emp.var.rate</th>\n",
       "      <th>cons.price.idx</th>\n",
       "      <th>cons.conf.idx</th>\n",
       "      <th>euribor3m</th>\n",
       "      <th>nr.employed</th>\n",
       "      <th>term_deposit</th>\n",
       "    </tr>\n",
       "  </thead>\n",
       "  <tbody>\n",
       "    <tr>\n",
       "      <th>75</th>\n",
       "      <td>41</td>\n",
       "      <td>blue-collar</td>\n",
       "      <td>divorced</td>\n",
       "      <td>basic.4y</td>\n",
       "      <td>unknown</td>\n",
       "      <td>yes</td>\n",
       "      <td>no</td>\n",
       "      <td>telephone</td>\n",
       "      <td>may</td>\n",
       "      <td>mon</td>\n",
       "      <td>...</td>\n",
       "      <td>1</td>\n",
       "      <td>999</td>\n",
       "      <td>0</td>\n",
       "      <td>nonexistent</td>\n",
       "      <td>1.1</td>\n",
       "      <td>93.994</td>\n",
       "      <td>-36.4</td>\n",
       "      <td>4.857</td>\n",
       "      <td>5191.0</td>\n",
       "      <td>yes</td>\n",
       "    </tr>\n",
       "    <tr>\n",
       "      <th>83</th>\n",
       "      <td>49</td>\n",
       "      <td>entrepreneur</td>\n",
       "      <td>married</td>\n",
       "      <td>university.degree</td>\n",
       "      <td>unknown</td>\n",
       "      <td>yes</td>\n",
       "      <td>no</td>\n",
       "      <td>telephone</td>\n",
       "      <td>may</td>\n",
       "      <td>mon</td>\n",
       "      <td>...</td>\n",
       "      <td>1</td>\n",
       "      <td>999</td>\n",
       "      <td>0</td>\n",
       "      <td>nonexistent</td>\n",
       "      <td>1.1</td>\n",
       "      <td>93.994</td>\n",
       "      <td>-36.4</td>\n",
       "      <td>4.857</td>\n",
       "      <td>5191.0</td>\n",
       "      <td>yes</td>\n",
       "    </tr>\n",
       "    <tr>\n",
       "      <th>88</th>\n",
       "      <td>49</td>\n",
       "      <td>technician</td>\n",
       "      <td>married</td>\n",
       "      <td>basic.9y</td>\n",
       "      <td>no</td>\n",
       "      <td>no</td>\n",
       "      <td>no</td>\n",
       "      <td>telephone</td>\n",
       "      <td>may</td>\n",
       "      <td>mon</td>\n",
       "      <td>...</td>\n",
       "      <td>1</td>\n",
       "      <td>999</td>\n",
       "      <td>0</td>\n",
       "      <td>nonexistent</td>\n",
       "      <td>1.1</td>\n",
       "      <td>93.994</td>\n",
       "      <td>-36.4</td>\n",
       "      <td>4.857</td>\n",
       "      <td>5191.0</td>\n",
       "      <td>yes</td>\n",
       "    </tr>\n",
       "    <tr>\n",
       "      <th>129</th>\n",
       "      <td>41</td>\n",
       "      <td>technician</td>\n",
       "      <td>married</td>\n",
       "      <td>professional.course</td>\n",
       "      <td>unknown</td>\n",
       "      <td>yes</td>\n",
       "      <td>no</td>\n",
       "      <td>telephone</td>\n",
       "      <td>may</td>\n",
       "      <td>mon</td>\n",
       "      <td>...</td>\n",
       "      <td>1</td>\n",
       "      <td>999</td>\n",
       "      <td>0</td>\n",
       "      <td>nonexistent</td>\n",
       "      <td>1.1</td>\n",
       "      <td>93.994</td>\n",
       "      <td>-36.4</td>\n",
       "      <td>4.857</td>\n",
       "      <td>5191.0</td>\n",
       "      <td>yes</td>\n",
       "    </tr>\n",
       "    <tr>\n",
       "      <th>139</th>\n",
       "      <td>45</td>\n",
       "      <td>blue-collar</td>\n",
       "      <td>married</td>\n",
       "      <td>basic.9y</td>\n",
       "      <td>unknown</td>\n",
       "      <td>yes</td>\n",
       "      <td>no</td>\n",
       "      <td>telephone</td>\n",
       "      <td>may</td>\n",
       "      <td>mon</td>\n",
       "      <td>...</td>\n",
       "      <td>1</td>\n",
       "      <td>999</td>\n",
       "      <td>0</td>\n",
       "      <td>nonexistent</td>\n",
       "      <td>1.1</td>\n",
       "      <td>93.994</td>\n",
       "      <td>-36.4</td>\n",
       "      <td>4.857</td>\n",
       "      <td>5191.0</td>\n",
       "      <td>yes</td>\n",
       "    </tr>\n",
       "  </tbody>\n",
       "</table>\n",
       "<p>5 rows × 21 columns</p>\n",
       "</div>"
      ],
      "text/plain": [
       "     age           job   marital            education  default housing loan  \\\n",
       "75    41   blue-collar  divorced             basic.4y  unknown     yes   no   \n",
       "83    49  entrepreneur   married    university.degree  unknown     yes   no   \n",
       "88    49    technician   married             basic.9y       no      no   no   \n",
       "129   41    technician   married  professional.course  unknown     yes   no   \n",
       "139   45   blue-collar   married             basic.9y  unknown     yes   no   \n",
       "\n",
       "       contact month day_of_week  ...  campaign  pdays  previous     poutcome  \\\n",
       "75   telephone   may         mon  ...         1    999         0  nonexistent   \n",
       "83   telephone   may         mon  ...         1    999         0  nonexistent   \n",
       "88   telephone   may         mon  ...         1    999         0  nonexistent   \n",
       "129  telephone   may         mon  ...         1    999         0  nonexistent   \n",
       "139  telephone   may         mon  ...         1    999         0  nonexistent   \n",
       "\n",
       "    emp.var.rate  cons.price.idx  cons.conf.idx  euribor3m  nr.employed  \\\n",
       "75           1.1          93.994          -36.4      4.857       5191.0   \n",
       "83           1.1          93.994          -36.4      4.857       5191.0   \n",
       "88           1.1          93.994          -36.4      4.857       5191.0   \n",
       "129          1.1          93.994          -36.4      4.857       5191.0   \n",
       "139          1.1          93.994          -36.4      4.857       5191.0   \n",
       "\n",
       "     term_deposit  \n",
       "75            yes  \n",
       "83            yes  \n",
       "88            yes  \n",
       "129           yes  \n",
       "139           yes  \n",
       "\n",
       "[5 rows x 21 columns]"
      ]
     },
     "execution_count": 66,
     "metadata": {},
     "output_type": "execute_result"
    }
   ],
   "source": [
    "yesdf.head()"
   ]
  },
  {
   "cell_type": "code",
   "execution_count": 67,
   "metadata": {
    "ExecuteTime": {
     "end_time": "2020-10-07T17:57:24.552336Z",
     "start_time": "2020-10-07T17:57:24.273844Z"
    }
   },
   "outputs": [
    {
     "data": {
      "image/png": "[encoded data removed]",
      "text/plain": [
       "<Figure size 1296x720 with 1 Axes>"
      ]
     },
     "metadata": {
      "needs_background": "light"
     },
     "output_type": "display_data"
    }
   ],
   "source": [
    "# print('Subscriber Term Deposits X Number of Employees (Quarterly)')\n",
    "# print(yesdf['nr.employed'].value_counts())\n",
    "number_employees = yesdf['nr.employed'].value_counts()\n",
    "df_number_employees = pd.DataFrame(number_employees)\n",
    "\n",
    "x_counts = df_number_employees['nr.employed'].index\n",
    "y_counts = df_number_employees['nr.employed']\n",
    "\n",
    "fig, ax = plt.subplots()\n",
    "fig.set_size_inches(18, 10)\n",
    "graph_number_employees = sns.barplot(x=x_counts, y=y_counts, data=df_number_employees, palette='winter_r')\n",
    "plt.title('Subscriber Term Deposits X Number of Employees (Quarterly)', fontdict={'fontsize': 16})\n",
    "plt.ylabel('Number of Term Deposits', fontdict={'fontsize': 16})\n",
    "plt.xlabel('Number of Employees (Quarterly)', fontdict={'fontsize': 16})\n",
    "plt.show()"
   ]
  },
  {
   "cell_type": "code",
   "execution_count": 68,
   "metadata": {
    "ExecuteTime": {
     "end_time": "2020-10-07T17:57:25.074503Z",
     "start_time": "2020-10-07T17:57:24.561970Z"
    }
   },
   "outputs": [
    {
     "data": {
      "image/png": "[encoded data removed]",
      "text/plain": [
       "<Figure size 1728x1152 with 1 Axes>"
      ]
     },
     "metadata": {
      "needs_background": "light"
     },
     "output_type": "display_data"
    }
   ],
   "source": [
    "# print('Subscriber Term Deposits X Consumer Price Index (Monthly)')\n",
    "# print(yesdf['cons.price.idx'].value_counts())\n",
    "price_idx = yesdf['cons.price.idx'].value_counts()\n",
    "df_price_idx = pd.DataFrame(price_idx)\n",
    "\n",
    "x_counts = df_price_idx['cons.price.idx'].index\n",
    "y_counts = df_price_idx['cons.price.idx']\n",
    "\n",
    "fig, ax = plt.subplots()\n",
    "fig.set_size_inches(24, 16)\n",
    "graph_price_idx = sns.barplot(x=x_counts, y=y_counts, data=df_price_idx, palette='winter_r')\n",
    "for item in graph_price_idx.get_xticklabels():\n",
    "    item.set_rotation(90)\n",
    "plt.title('Subscriber Term Deposits X Consumer Price Index', fontdict={'fontsize': 16})\n",
    "plt.ylabel('Number of Term Deposits', fontdict={'fontsize': 16})\n",
    "plt.xlabel('Consumer Price Index', fontdict={'fontsize': 16})\n",
    "plt.show()"
   ]
  },
  {
   "cell_type": "code",
   "execution_count": 69,
   "metadata": {
    "ExecuteTime": {
     "end_time": "2020-10-07T17:57:26.259668Z",
     "start_time": "2020-10-07T17:57:25.076527Z"
    }
   },
   "outputs": [
    {
     "data": {
      "image/png": "[encoded data removed]",
      "text/plain": [
       "<Figure size 1296x720 with 1 Axes>"
      ]
     },
     "metadata": {
      "needs_background": "light"
     },
     "output_type": "display_data"
    }
   ],
   "source": [
    "# print('Age')\n",
    "# print(yesdf['age'].value_counts())\n",
    "age = yesdf['age'].value_counts()\n",
    "df_age = pd.DataFrame(age)\n",
    "\n",
    "x_counts = df_age['age'].index\n",
    "y_counts = df_age['age']\n",
    "\n",
    "fig, ax = plt.subplots()\n",
    "fig.set_size_inches(18, 10)\n",
    "graph_df_age = sns.barplot(x=x_counts, y=y_counts, data=df_age, palette='winter_r')\n",
    "plt.title('Subscriber Term Deposits X Age', fontdict={'fontsize': 16})\n",
    "plt.xlabel('Age', fontdict={'fontsize': 16})\n",
    "plt.ylabel('Number of Term Deposits', fontdict={'fontsize': 16})\n",
    "plt.show()"
   ]
  },
  {
   "cell_type": "markdown",
   "metadata": {},
   "source": [
    "# Conclusion Business Insights and Future Work"
   ]
  },
  {
   "cell_type": "markdown",
   "metadata": {},
   "source": [
    "The dataset and given business insights relay specifically to a client base that cites their specific job type, marital status and education level. Additionally, the models and features reflect a client that is between 17-69 years of age. \n",
    "\n",
    "**Subscriber term deposits are highest when the number of quarterly employees are at least 5099 but not over 5228. In addition, consumer price index should be between 92.89 and 93.08. Lastly, clients between the ages of 30-40 are the most likely to subscribe term deposits.**\n",
    "\n",
    "Future work: In order to more accurately define the boundaries of our features it is important to understand what customs and cultural influences are tied to this dataset (Portuguese banking info). For example: knowing the average level of education, the geographic locations of client residences and information on financial markets in this region may alter the way we perceive each of these variables."
   ]
  },
  {
   "cell_type": "code",
   "execution_count": null,
   "metadata": {},
   "outputs": [],
   "source": []
  }
 ],
 "metadata": {
  "kernelspec": {
   "display_name": "Python [conda env:learn-env] *",
   "language": "python",
   "name": "conda-env-learn-env-py"
  },
  "language_info": {
   "codemirror_mode": {
    "name": "ipython",
    "version": 3
   },
   "file_extension": ".py",
   "mimetype": "text/x-python",
   "name": "python",
   "nbconvert_exporter": "python",
   "pygments_lexer": "ipython3",
   "version": "3.6.9"
  },
  "toc": {
   "base_numbering": 1,
   "nav_menu": {},
   "number_sections": true,
   "sideBar": true,
   "skip_h1_title": false,
   "title_cell": "Table of Contents",
   "title_sidebar": "Contents",
   "toc_cell": false,
   "toc_position": {
    "height": "calc(100% - 180px)",
    "left": "10px",
    "top": "150px",
    "width": "174px"
   },
   "toc_section_display": true,
   "toc_window_display": true
  }
 },
 "nbformat": 4,
 "nbformat_minor": 2
}
